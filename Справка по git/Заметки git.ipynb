{
 "cells": [
  {
   "cell_type": "markdown",
   "id": "a687fe6d-b156-4d33-acee-f6fd28161902",
   "metadata": {},
   "source": [
    "# Заметки git"
   ]
  },
  {
   "cell_type": "markdown",
   "id": "14f98321-0222-41b8-9ba9-611a7657e1d4",
   "metadata": {},
   "source": [
    "Посмотреть список всех алиасов\n",
    "* git config --get-regexp ^alias"
   ]
  },
  {
   "cell_type": "markdown",
   "id": "25d6dd5e-c317-4db6-a460-18d3009ce0b9",
   "metadata": {},
   "source": []
  }
 ],
 "metadata": {
  "kernelspec": {
   "display_name": "Python 3 (ipykernel)",
   "language": "python",
   "name": "python3"
  },
  "language_info": {
   "codemirror_mode": {
    "name": "ipython",
    "version": 3
   },
   "file_extension": ".py",
   "mimetype": "text/x-python",
   "name": "python",
   "nbconvert_exporter": "python",
   "pygments_lexer": "ipython3",
   "version": "3.12.1"
  }
 },
 "nbformat": 4,
 "nbformat_minor": 5
}
