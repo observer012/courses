{
 "cells": [
  {
   "cell_type": "markdown",
   "id": "0976a5cf-7366-43d2-9998-d0348c84a3e8",
   "metadata": {},
   "source": [
    "Возвращает результат - ВР\n",
    "| # | Операция | Описание | Пример |\n",
    "|:---:|:---|:---|:---|\n",
    "|1| `&` | ВР пересечения (и) | `setA & setB` |\n",
    "|2| `setA.intersection(setB)` | ВР пересечения, аналог `&` | |\n",
    "|3| `setA.intersection_update(setB)`, `&=` | пересечение с сохранением в `setA` | |\n",
    "|4| `\\|` | ВР объединения | `setA \\| setB` |\n",
    "|5| `setA.union(setB)` | ВР объединения, аналог `\\|` | `setA \\| setB` |\n",
    "|6| `\\|=` | объединение с сохранением | `setA \\|= setB` |\n",
    "|7| `-` | ВР вычитания двух множеств. Удаляет из `setA` то, что есть в `setB` | `setA - setB`  |\n",
    "|8| `-=` | 'вычитание'(удаление) с сохранением | `setA -= setB` |\n",
    "| 9 | `^` | 'симметричная разность'. Возвращает не совпадающие элементы, уникальные для двух множеств.  | `setA ^ setB` |\n",
    "| |  |  |  |\n",
    "| |  |  |  |\n",
    "\n",
    "методы intersection(), union(), difference(), symmetric_difference() в отличии от операторов &, |, -, ^ позволяют производить операции не только множество со множеством, но и множество со списком, множество с кортежом и пр."
   ]
  },
  {
   "cell_type": "markdown",
   "id": "b12738b7-3964-43f7-b82d-a71e955ebfe7",
   "metadata": {},
   "source": [
    "## Мощность множеств"
   ]
  },
  {
   "cell_type": "markdown",
   "id": "ec762071-93de-4301-92dd-537c9b2e3da9",
   "metadata": {},
   "source": [
    "### Формула включений-исключений"
   ]
  },
  {
   "cell_type": "markdown",
   "id": "d42a7eab-058d-4895-82b7-d905fc1339ab",
   "metadata": {},
   "source": [
    "Для двух элементов:\\\n",
    "$\\mid{A \\cup B}\\mid = \\mid{A}\\mid + \\mid{B}\\mid - \\mid{A \\cap B}\\mid$ \\\n",
    "Для трёх элементов:\\\n",
    "$\\mid{A \\cup B \\cup C}\\mid =$ \n",
    "$\\mid{A}\\mid + \\mid{B}\\mid + \\mid{С}\\mid$\n",
    "$- \\mid{A \\cap B}\\mid - \\mid{A \\cap C}\\mid - \\mid{B \\cap C}\\mid$\n",
    "$ + \\mid{A \\cap B \\cap C}\\mid$"
   ]
  },
  {
   "cell_type": "code",
   "execution_count": 1,
   "id": "09834c19-8aba-4cb6-9b7d-5383eca1d025",
   "metadata": {},
   "outputs": [],
   "source": [
    "T={'фотография', 'математика', 'космос', 'настольные игры', 'рок-музыка'}\n",
    "N={'настольные игры', 'скейтборд', 'математика', 'космос', 'нумизматика'}\n",
    "S={'рок-музыка', 'стендап', 'путешествия', 'математика'}"
   ]
  },
  {
   "cell_type": "code",
   "execution_count": 2,
   "id": "d376515d-c1bb-4989-a1bd-8ebaf86535a3",
   "metadata": {},
   "outputs": [],
   "source": [
    "def set_power2(*args):\n",
    "    return len(args[0]) + len(args[1]) - len(args[0] & args[1])"
   ]
  },
  {
   "cell_type": "code",
   "execution_count": 3,
   "id": "24fb994e-f373-4f1b-b746-3774ae715cf2",
   "metadata": {},
   "outputs": [
    {
     "data": {
      "text/plain": [
       "8"
      ]
     },
     "execution_count": 3,
     "metadata": {},
     "output_type": "execute_result"
    }
   ],
   "source": [
    "# 1\n",
    "set_power2(N, S)"
   ]
  },
  {
   "cell_type": "code",
   "execution_count": 4,
   "id": "facd72ba-8939-41ec-a51c-8112bcbe4d2b",
   "metadata": {},
   "outputs": [
    {
     "data": {
      "text/plain": [
       "{'космос',\n",
       " 'математика',\n",
       " 'настольные игры',\n",
       " 'нумизматика',\n",
       " 'путешествия',\n",
       " 'рок-музыка',\n",
       " 'скейтборд',\n",
       " 'стендап'}"
      ]
     },
     "execution_count": 4,
     "metadata": {},
     "output_type": "execute_result"
    }
   ],
   "source": [
    "N | S"
   ]
  },
  {
   "cell_type": "code",
   "execution_count": 5,
   "id": "cf09e9df-7629-469e-b5e1-a08c24a1bdd5",
   "metadata": {},
   "outputs": [
    {
     "data": {
      "text/plain": [
       "{'математика'}"
      ]
     },
     "execution_count": 5,
     "metadata": {},
     "output_type": "execute_result"
    }
   ],
   "source": [
    "N & S"
   ]
  },
  {
   "cell_type": "code",
   "execution_count": 6,
   "id": "65ac6343-700f-4684-a85f-4bdd6db4ec31",
   "metadata": {},
   "outputs": [
    {
     "data": {
      "text/plain": [
       "7"
      ]
     },
     "execution_count": 6,
     "metadata": {},
     "output_type": "execute_result"
    }
   ],
   "source": [
    "# 2\n",
    "set_power2(T, N)"
   ]
  },
  {
   "cell_type": "code",
   "execution_count": 7,
   "id": "5019ca44-db63-4fc6-96e3-8266363453b7",
   "metadata": {},
   "outputs": [
    {
     "data": {
      "text/plain": [
       "7"
      ]
     },
     "execution_count": 7,
     "metadata": {},
     "output_type": "execute_result"
    }
   ],
   "source": [
    "# 3\n",
    "set_power2(T, S)"
   ]
  },
  {
   "cell_type": "code",
   "execution_count": 8,
   "id": "d7a5ea89-f897-4270-802d-f7c3a408f800",
   "metadata": {},
   "outputs": [],
   "source": [
    "# 4 \n",
    "def set_power3(A, B, C):\n",
    "    result = (len(A) + len(B) + len(C)\n",
    "              - len(A & B) - len(A & C) - len(B & C)\n",
    "              + len(A & B & C))\n",
    "    return result"
   ]
  },
  {
   "cell_type": "code",
   "execution_count": 9,
   "id": "14d35191-80f0-4a26-b14c-42543592a11e",
   "metadata": {},
   "outputs": [
    {
     "data": {
      "text/plain": [
       "9"
      ]
     },
     "execution_count": 9,
     "metadata": {},
     "output_type": "execute_result"
    }
   ],
   "source": [
    "set_power3(N, T, S)"
   ]
  },
  {
   "cell_type": "code",
   "execution_count": 10,
   "id": "761498ff-570c-4086-96ff-d4dcf4327426",
   "metadata": {},
   "outputs": [
    {
     "data": {
      "text/plain": [
       "14"
      ]
     },
     "execution_count": 10,
     "metadata": {},
     "output_type": "execute_result"
    }
   ],
   "source": [
    "43 - (27+35-22-9-7+5)"
   ]
  },
  {
   "cell_type": "code",
   "execution_count": 27,
   "id": "7f0f60ad-5794-49ac-b1f6-821d9863abab",
   "metadata": {},
   "outputs": [],
   "source": [
    "a = '''«Вода для слонов», Сара Груэн\n",
    "«Жена путешественника во времени», Одри Ниффенеггер\n",
    "«Сороки-убийцы», Энтони Горовиц\n",
    "«Элеанор Олифант в полном порядке», Гейл Ханимен\n",
    "«Жареные зелёные помидоры в кафе „Полустанок“», Фэнни Флэгг\n",
    "«Там, где раки поют», Делия Оуэнс\n",
    "«Благие знамения», Терри Пратчетт и Нил Гейман\n",
    "«Заповедник», Сергей Довлатов\n",
    "«Тень ветра», Карлос Руис Сафон\n",
    "«В дороге», Джек Керуак'''\n",
    "b = '''«Там, где раки поют», Делия Оуэнс\n",
    "«Великолепные руины», Джесс Уолтер\n",
    "«Песнь Ахилла», Мадлен Миллер\n",
    "«В дороге», Джек Керуак\n",
    "«Прогулка по лесам», Билл Брайсон\n",
    "«Элеанор Олифант в полном порядке», Гейл Ханимен\n",
    "«История пчёл», Майя Лунде\n",
    "«Зулейха открывает глаза», Гузель Яхина'''\n",
    "\n",
    "a = set(a.split('\\n'))\n",
    "b = set(b.split('\\n'))"
   ]
  },
  {
   "cell_type": "code",
   "execution_count": 29,
   "id": "a8bb9557-8694-4e3b-89fa-e3cd2003d861",
   "metadata": {},
   "outputs": [
    {
     "data": {
      "text/plain": [
       "15"
      ]
     },
     "execution_count": 29,
     "metadata": {},
     "output_type": "execute_result"
    }
   ],
   "source": [
    "set_power2(a, b)"
   ]
  },
  {
   "cell_type": "code",
   "execution_count": 35,
   "id": "e5271159-d124-49d0-89c8-60750b64f2f4",
   "metadata": {},
   "outputs": [],
   "source": [
    "a = set([*range(34)])\n",
    "b = set([*range(35, 35+20)])\n",
    "c = set([*range(56, 56+18)])"
   ]
  },
  {
   "cell_type": "code",
   "execution_count": 33,
   "id": "78e8e74c-cc24-43af-82a2-6c14165091fd",
   "metadata": {},
   "outputs": [
    {
     "data": {
      "text/plain": [
       "[34, 20, 18]"
      ]
     },
     "execution_count": 33,
     "metadata": {},
     "output_type": "execute_result"
    }
   ],
   "source": [
    "list(map(len, [a, b, c]))"
   ]
  },
  {
   "cell_type": "code",
   "execution_count": 36,
   "id": "928db594-9805-46be-8a79-434b9a3ca25b",
   "metadata": {},
   "outputs": [
    {
     "data": {
      "text/plain": [
       "72"
      ]
     },
     "execution_count": 36,
     "metadata": {},
     "output_type": "execute_result"
    }
   ],
   "source": [
    "set_power3(a, b, c)"
   ]
  },
  {
   "cell_type": "code",
   "execution_count": 37,
   "id": "79a63863-ff3a-4730-bb93-98f40db7f9eb",
   "metadata": {},
   "outputs": [
    {
     "data": {
      "text/plain": [
       "2905"
      ]
     },
     "execution_count": 37,
     "metadata": {},
     "output_type": "execute_result"
    }
   ],
   "source": [
    "1880 + 1025"
   ]
  },
  {
   "cell_type": "code",
   "execution_count": 38,
   "id": "c6135abc-bba4-4422-afef-2444d81440aa",
   "metadata": {},
   "outputs": [
    {
     "data": {
      "text/plain": [
       "601"
      ]
     },
     "execution_count": 38,
     "metadata": {},
     "output_type": "execute_result"
    }
   ],
   "source": [
    "2905-2304"
   ]
  },
  {
   "cell_type": "code",
   "execution_count": 43,
   "id": "bea37ca0-d5ed-4cd8-bbd9-754f89095c7c",
   "metadata": {},
   "outputs": [
    {
     "data": {
      "text/plain": [
       "(108.0, 114.0)"
      ]
     },
     "execution_count": 43,
     "metadata": {},
     "output_type": "execute_result"
    }
   ],
   "source": [
    "Roquefort = 120*0.9\n",
    "Parmesan = 120*0.95\n",
    "Roquefort, Parmesan"
   ]
  },
  {
   "cell_type": "code",
   "execution_count": 44,
   "id": "2c5a2d8e-a498-4824-937a-cd07ad2d3dce",
   "metadata": {},
   "outputs": [
    {
     "data": {
      "text/plain": [
       "102.0"
      ]
     },
     "execution_count": 44,
     "metadata": {},
     "output_type": "execute_result"
    }
   ],
   "source": [
    "Roquefort+Parmesan - 120"
   ]
  },
  {
   "cell_type": "code",
   "execution_count": 47,
   "id": "d1c211d7-f912-4929-b877-aea013a3578f",
   "metadata": {},
   "outputs": [
    {
     "data": {
      "text/plain": [
       "114"
      ]
     },
     "execution_count": 47,
     "metadata": {},
     "output_type": "execute_result"
    }
   ],
   "source": [
    "120-(114-108)"
   ]
  },
  {
   "cell_type": "code",
   "execution_count": 48,
   "id": "5cee9f68-bfaf-4c99-812c-da127bb89ee7",
   "metadata": {},
   "outputs": [
    {
     "data": {
      "text/plain": [
       "13"
      ]
     },
     "execution_count": 48,
     "metadata": {},
     "output_type": "execute_result"
    }
   ],
   "source": [
    "550-(275+307+160-50-73-82)"
   ]
  },
  {
   "cell_type": "markdown",
   "id": "2e3db6df-9ef9-4779-9e33-5b5731f43056",
   "metadata": {},
   "source": [
    "## Высказывания и основные логические операторы"
   ]
  },
  {
   "cell_type": "markdown",
   "id": "ebd9506f-c66c-4bd3-919a-64f1993704fd",
   "metadata": {},
   "source": [
    "Высказывание -  это повествовательное предложение, которогое либо истинно, либо ложно. Но оно не может быть и тем, и другим одновременно."
   ]
  },
  {
   "cell_type": "markdown",
   "id": "b6197b14-3818-49a2-a9bf-0177a1278521",
   "metadata": {},
   "source": [
    "Обозначение высказывания A\\\n",
    "Утвердительное A: $A$\\\n",
    "Отрицание высказывания A: $\\neg A$ или $\\bar{A}$"
   ]
  },
  {
   "cell_type": "code",
   "execution_count": 50,
   "id": "5985b5f7-b9bb-4b05-b9c1-ff9e12deb381",
   "metadata": {},
   "outputs": [
    {
     "data": {
      "text/plain": [
       "[57.0, 19.0, 3.0, 1.0]"
      ]
     },
     "execution_count": 50,
     "metadata": {},
     "output_type": "execute_result"
    }
   ],
   "source": [
    "[57 / i for i in range(1, 58) if 57 % i == 0]"
   ]
  },
  {
   "cell_type": "code",
   "execution_count": 51,
   "id": "d295e281-da04-420f-b64b-0d4adc34a9f8",
   "metadata": {},
   "outputs": [
    {
     "data": {
      "text/plain": [
       "3.0"
      ]
     },
     "execution_count": 51,
     "metadata": {},
     "output_type": "execute_result"
    }
   ],
   "source": [
    "57/19"
   ]
  }
 ],
 "metadata": {
  "kernelspec": {
   "display_name": "Python 3 (ipykernel)",
   "language": "python",
   "name": "python3"
  },
  "language_info": {
   "codemirror_mode": {
    "name": "ipython",
    "version": 3
   },
   "file_extension": ".py",
   "mimetype": "text/x-python",
   "name": "python",
   "nbconvert_exporter": "python",
   "pygments_lexer": "ipython3",
   "version": "3.12.1"
  }
 },
 "nbformat": 4,
 "nbformat_minor": 5
}
