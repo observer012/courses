{
 "cells": [
  {
   "cell_type": "code",
   "execution_count": null,
   "id": "145bca88-8ce2-48b4-b33a-186e3095a882",
   "metadata": {},
   "outputs": [],
   "source": [
    "import numpy as np\n",
    "\n",
    "np.random.seed(0) # псевдослучайные числа образуют одну и ту же последовательность (при каждом запуске)\n",
    "x = np.arange(-1.0, 1.0, 0.1) # аргумент [-1; 1] с шагом 0,1\n",
    "\n",
    "size_train = len(x)  # размер выборки\n",
    "w = [0.5, -0.3]  # коэффициенты модели\n",
    "model_a = lambda m_x, m_w: (m_w[1] * m_x + m_w[0])  # модель\n",
    "loss = lambda ax, y: (ax - y) ** 2 # квадратическая функция потерь\n",
    "\n",
    "y = model_a(x, w) + np.random.normal(0, 0.1, len(x)) # целевые значения\n",
    "# здесь продолжайте программу\n",
    "Q = sum(loss(model_a(x, w), y)) / size_train\n",
    "Q"
   ]
  },
  {
   "cell_type": "code",
   "execution_count": null,
   "id": "7d13b161-fa3e-43e4-b21c-dc77aafde0fb",
   "metadata": {},
   "outputs": [],
   "source": [
    "import numpy as np\n",
    "\n",
    "np.random.seed(0) # псевдослучайные числа образуют одну и ту же последовательность (при каждом запуске)\n",
    "x = np.arange(-1.0, 1.0, 0.1) # аргумент [-1; 1] с шагом 0,1\n",
    "\n",
    "\n",
    "model_a = lambda xx, ww: (ww[0] + ww[1] * xx) # модель\n",
    "Y = -5.2 + 0.7 * x + np.random.normal(0, 0.1, len(x)) # вектор целевых значений\n",
    "\n",
    "# здесь продолжайте программу\n"
   ]
  },
  {
   "cell_type": "code",
   "execution_count": null,
   "id": "bad7a47e-74a5-4810-a0a1-48f8f2c5d2ba",
   "metadata": {},
   "outputs": [],
   "source": [
    "X = np.array([[1, el] for el in x])\n",
    "w = (np.linalg.inv(X.T@X))@(X.T@Y)"
   ]
  },
  {
   "cell_type": "code",
   "execution_count": null,
   "id": "6ca78d98-57a1-4413-83bd-e39e0c0d38e0",
   "metadata": {},
   "outputs": [],
   "source": [
    "w"
   ]
  },
  {
   "cell_type": "code",
   "execution_count": null,
   "id": "049ffc31-04f1-48a1-9f2d-7df8f521ac86",
   "metadata": {},
   "outputs": [],
   "source": [
    "model_a(x, w)"
   ]
  },
  {
   "cell_type": "code",
   "execution_count": null,
   "id": "c24b7c20-6191-442a-967f-f75c5ed4ba31",
   "metadata": {},
   "outputs": [],
   "source": [
    "import numpy as np\n",
    "\n",
    "np.random.seed(0) # псевдослучайные числа образуют одну и ту же последовательность (при каждом запуске)\n",
    "x = np.arange(-1.0, 1.0, 0.1) # аргумент [-1; 1] с шагом 0,1\n",
    "\n",
    "\n",
    "model_a = lambda xx, ww: (ww[0] + ww[1] * xx + ww[2] * xx ** 2 + ww[3] * xx ** 3) # модель\n",
    "Y = np.sin(x * 5) + 2 * x + np.random.normal(0, 0.1, len(x)) # вектор целевых значений\n",
    "\n",
    "X = np.array([[1, xx, xx**2, xx**3] for xx in x]) # обучающая выборка для поиска коэффициентов w модели a\n",
    "\n",
    "# здесь продолжайте программу\n",
    "w = np.dot(np.dot(np.linalg.inv(np.dot(X.T, X)), X.T), Y)\n",
    "w"
   ]
  },
  {
   "cell_type": "markdown",
   "id": "de4d5930-b001-4dc5-901e-e8bd9dd2aa31",
   "metadata": {},
   "source": [
    "#### 1.6 Уравнение гиперплоскости\n"
   ]
  },
  {
   "cell_type": "markdown",
   "id": "3eb6f662-68a8-4d7d-a394-b652e73addbb",
   "metadata": {},
   "source": [
    "Код для вычисления ветора параметров w. И классификации выборочных значений."
   ]
  },
  {
   "cell_type": "code",
   "execution_count": null,
   "id": "a2025b92-de55-4264-8b4e-b22fb9488b1c",
   "metadata": {},
   "outputs": [],
   "source": [
    "import numpy as np\n",
    "\n",
    "\n",
    "def param_vector_w(M_0, M_1, w_0):\n",
    "    delt = np.linalg.det([M_0, M_1])\n",
    "    if delt != 0:\n",
    "        delt_x = np.linalg.det([[-w_0, M_0[1]], [-w_0, M_1[1]]])\n",
    "        delt_y = np.linalg.det([[M_0[0], -w_0], [M_1[0], -w_0]])\n",
    "        w_1 = delt_x/delt\n",
    "        w_2 = delt_y/delt\n",
    "        w = [w_0, w_1, w_2]\n",
    "        print(w)\n",
    "        return w\n",
    "\n",
    "        \n",
    "M_0 = [-5, 6]\n",
    "M_1 = [8, -3]\n",
    "w_0 = -2.5\n",
    "w = np.array(param_vector_w(M_0, M_1, w_0))\n",
    "x_test = [(5, -3), (-3, 8), (3, 6), (0, 0), (5, 3), (-3, -1), (-3, 3)]\n",
    "\n",
    "\n",
    "# for num, pair in enumerate(x_test, 1):\n",
    "#     # print(sum([k * x for k, x in zip(w, [1] + list(pair))]))\n",
    "#     print(num, np.dot(w, [1] + list(pair)))\n",
    "\n",
    "predict = [1 if np.dot(w, [1] + list(pair)) > 0 else -1 for pair in x_test]\n",
    "predict"
   ]
  },
  {
   "cell_type": "code",
   "execution_count": null,
   "id": "4ff85c44-d3ed-40bf-9202-08f4240b6fd5",
   "metadata": {},
   "outputs": [],
   "source": [
    "M_0 = [2, 0]\n",
    "M_1 = [7, 7]\n",
    "w_0 = -2.8\n",
    "w = np.array(param_vector_w(M_0, M_1, w_0))\n",
    "x_test = [(9, 6), (2, 4), (-3, -1), (3, -2), (-3, 6), (7, -3), (6, 2)]\n",
    "\n",
    "\n",
    "# for num, pair in enumerate(x_test, 1):\n",
    "#     # print(sum([k * x for k, x in zip(w, [1] + list(pair))]))\n",
    "#     print(num, np.dot(w, [1] + list(pair)))\n",
    "\n",
    "predict = [1 if np.dot(w, [1] + list(pair)) > 0 else -1 for pair in x_test]\n",
    "predict"
   ]
  },
  {
   "cell_type": "code",
   "execution_count": null,
   "id": "6613a775-80a7-4740-baab-27ee0bb7515d",
   "metadata": {},
   "outputs": [],
   "source": [
    "33/13"
   ]
  },
  {
   "cell_type": "code",
   "execution_count": null,
   "id": "477ea348-5e14-46af-a7dd-3dad844476dc",
   "metadata": {},
   "outputs": [],
   "source": [
    "w= [2.8, -1.4, 1]\n",
    "x_test = [(9, 6), (2, 4), (-3, -1), (3, -2), (-3, 6), (7, -3), (6, 2)]\n",
    "# for pair in x_test:\n",
    "#     print(np.dot(w, [1] + list(pair)))\n",
    "\n",
    "predict = [1 if np.dot(w, [1] + list(pair)) > 0 else -1 for pair in x_test]\n",
    "predict"
   ]
  },
  {
   "cell_type": "markdown",
   "id": "43afaca9-1f68-4f3a-ab5c-f024de8171bc",
   "metadata": {},
   "source": [
    "#### 1.7 Решение простой задачи бинарной классификации"
   ]
  },
  {
   "cell_type": "code",
   "execution_count": null,
   "id": "7b99449f-7f76-400b-aba1-5b200834bbfd",
   "metadata": {},
   "outputs": [],
   "source": [
    "import numpy as np\n",
    "import matplotlib.pyplot as plt\n",
    "\n",
    "x_train = np.array([[10, 50], [20, 30], [25, 30], [20, 60], [15, 70], [40, 40], [30, 45], [20, 45], [40, 30], [7, 35]])\n",
    "y_train = np.array([-1, 1, 1, -1, -1, 1, 1, -1, 1, -1])\n",
    "\n",
    "n_train = len(x_train)                          # размер обучающей выборки\n",
    "w = [0, -1]                                     # начальное значение вектора w\n",
    "a = lambda x: np.sign(x[0]*w[0] + x[1]*w[1])    # решающее правило\n",
    "N = 50                                          # максимальное число итераций\n",
    "L = 0.1                                         # шаг изменения веса\n",
    "e = 0.1                                         # небольшая добавка для w0 чтобы был зазор между разделяющей линией и граничным образом\n",
    "\n",
    "last_error_index = -1                           # индекс последнего ошибочного наблюдения\n",
    "\n",
    "for n in range(N):\n",
    "    for i in range(n_train):                # перебор по наблюдениям\n",
    "        if y_train[i]*a(x_train[i]) < 0:    # если ошибка классификации,\n",
    "            w[0] = w[0] + L * y_train[i]    # то корректировка веса w0\n",
    "            last_error_index = i\n",
    "\n",
    "    Q = sum([1 for i in range(n_train) if y_train[i]*a(x_train[i]) < 0])\n",
    "    if Q == 0:      # показатель качества классификации (число ошибок)\n",
    "        break       # останов, если все верно классифицируем\n",
    "\n",
    "if last_error_index > -1:\n",
    "    w[0] = w[0] + e * y_train[last_error_index]\n",
    "\n",
    "print(w)\n",
    "\n",
    "line_x = list(range(max(x_train[:, 0])))    # формирование графика разделяющей линии\n",
    "line_y = [w[0]*x for x in line_x]\n",
    "\n",
    "x_0 = x_train[y_train == 1]                 # формирование точек для 1-го\n",
    "x_1 = x_train[y_train == -1]                # и 2-го классов\n",
    "\n",
    "plt.scatter(x_0[:, 0], x_0[:, 1], color='red')\n",
    "plt.scatter(x_1[:, 0], x_1[:, 1], color='blue')\n",
    "plt.plot(line_x, line_y, color='green')\n",
    "\n",
    "plt.xlim([0, 45])\n",
    "plt.ylim([0, 75])\n",
    "plt.ylabel(\"длина\")\n",
    "plt.xlabel(\"ширина\")\n",
    "plt.grid(True)\n",
    "plt.show()"
   ]
  },
  {
   "cell_type": "code",
   "execution_count": null,
   "id": "2485c7a7-0a24-4b01-8822-4f855bdcca5f",
   "metadata": {},
   "outputs": [],
   "source": []
  }
 ],
 "metadata": {
  "kernelspec": {
   "display_name": "Python 3 (ipykernel)",
   "language": "python",
   "name": "python3"
  },
  "language_info": {
   "codemirror_mode": {
    "name": "ipython",
    "version": 3
   },
   "file_extension": ".py",
   "mimetype": "text/x-python",
   "name": "python",
   "nbconvert_exporter": "python",
   "pygments_lexer": "ipython3",
   "version": "3.12.1"
  }
 },
 "nbformat": 4,
 "nbformat_minor": 5
}
