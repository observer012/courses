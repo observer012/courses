{
 "cells": [
  {
   "cell_type": "markdown",
   "id": "509693a2-3c79-4ab9-afbc-b990eda817af",
   "metadata": {},
   "source": [
    "### 1.3 Классы и объекты"
   ]
  },
  {
   "cell_type": "markdown",
   "id": "587388db-0cf3-48e9-bf0e-67f0d9970cf7",
   "metadata": {},
   "source": [
    "Методы обращения к классу и его атрибутам\n",
    "- getattr(obj, name[, default]) - возвращает значение атрибута объекта;\n",
    "- hasattr(obj, name) - проверяет на наличие атрибута name в obj;\n",
    "- setattr(obj, name, value) - задает значение атрибута (если атрибут не существует, то он создаётся);\n",
    "- delattr(obj, name) - удаляет атрибут с именем name в obj\n",
    "\n",
    "Служебные команды\n",
    "- \\_\\_doc\\_\\_ - содержит строку с описанием класса;\n",
    "- \\_\\_dict\\_\\_ - содержит набор атрибутов экземпляра класса;"
   ]
  },
  {
   "cell_type": "markdown",
   "id": "3c87688a-ca9a-4c24-aec0-b3174d6b9d7f",
   "metadata": {},
   "source": [
    "    class Car:\n",
    "        mark = chevrolet\n",
    "        color = blue\n",
    "\n",
    "    Car.color\n",
    "    -> blue\n",
    "    \n",
    "    Car.color = yellow\n",
    "    Car.color\n",
    "    -> yellow"
   ]
  },
  {
   "cell_type": "code",
   "execution_count": null,
   "id": "c230e727-4340-4d5a-96ed-1e385da8d124",
   "metadata": {},
   "outputs": [],
   "source": [
    "def str_to_attr():\n",
    "    \"\"\"Преобразует атрибуты в задании к виду\n",
    "    аттрибутов для класса\"\"\"\n",
    "    def count_colon(el, count_col, count_quot_m, count_space):\n",
    "        # проверка на :\n",
    "        if el == ':':\n",
    "            count_col += 1\n",
    "            el = ' ='\n",
    "        # для игнорирования ' ' между \"\"    \n",
    "        if el == '\"' or el == \"'\":\n",
    "            count_quot_m += 1\n",
    "        # если : и не между \" \"\n",
    "        if count_col and count_quot_m % 2 == 0:\n",
    "            if el == ' ':\n",
    "                count_space += 1    \n",
    "                if count_space % 2 == 0:\n",
    "                    el = '\\n'\n",
    "                \n",
    "        return el, count_col, count_quot_m, count_space\n",
    "    \n",
    "    \n",
    "    task_str = input()\n",
    "    lines = ''\n",
    "    count_col = 0\n",
    "    count_quot_m = 0\n",
    "    count_space = 0\n",
    "    \n",
    "    print()\n",
    "    for i in range(len(task_str)):\n",
    "        el, count_col, count_quot_m, count_space = (\n",
    "            count_colon(task_str[i], count_col, count_quot_m, count_space)\n",
    "        )\n",
    "        \n",
    "        if el == '\\n':\n",
    "            print(4*' ' + lines)\n",
    "            lines = ''\n",
    "        else:\n",
    "            lines += el\n",
    "    else:\n",
    "        print(4*' ' + lines)\n",
    "\n",
    "\n",
    "str_to_attr()"
   ]
  },
  {
   "cell_type": "code",
   "execution_count": null,
   "id": "e8a58cea-bbf1-4ce1-85ea-6ee764a7b068",
   "metadata": {},
   "outputs": [],
   "source": [
    "class Car:\n",
    "    pass\n",
    "\n",
    "\n",
    "setattr(Car, 'model', 'Тойота')\n",
    "setattr(Car, 'color', 'Розовый')\n",
    "setattr(Car, 'number', 'П111УУ77')\n",
    "print(Car.__dict__['color'])"
   ]
  },
  {
   "cell_type": "code",
   "execution_count": null,
   "id": "ea765478-545a-45b8-87d0-04bcdd2e3150",
   "metadata": {},
   "outputs": [],
   "source": [
    "class Notes:\n",
    "    uid = 1005435\n",
    "    title = \"Шутка\"\n",
    "    author = \"И.С. Бах\"\n",
    "    pages = 2\n",
    "   \n",
    "print(getattr(Notes, 'author'))"
   ]
  },
  {
   "cell_type": "code",
   "execution_count": null,
   "id": "9d9ff300-02e1-44b2-a9b2-a5cadb32cd24",
   "metadata": {},
   "outputs": [],
   "source": [
    "class Dictionary: \n",
    "    rus = \"Питон\"\n",
    "    eng = \"Python\"\n",
    "\n",
    "print(getattr(Dictionary, 'rus_word', False))"
   ]
  },
  {
   "cell_type": "code",
   "execution_count": null,
   "id": "18c9fdd1-7f0b-4e91-80bf-27b266e9a045",
   "metadata": {},
   "outputs": [],
   "source": [
    "class TravelBlog:\n",
    "    total_blogs = 0\n",
    "\n",
    "tb1 = TravelBlog()\n",
    "setattr(tb1, 'name', 'Франция')\n",
    "setattr(tb1, 'days', 6)\n",
    "setattr(TravelBlog, 'total_blogs', 1)\n",
    "tb2 = TravelBlog()\n",
    "setattr(tb2, 'name', 'Италия')\n",
    "setattr(tb2, 'days', 5)\n",
    "TravelBlog.total_blogs += 1"
   ]
  },
  {
   "cell_type": "code",
   "execution_count": null,
   "id": "a9d73df8-5201-4e4a-8ca1-718105988eca",
   "metadata": {},
   "outputs": [],
   "source": [
    "class Figure:\n",
    "    type_fig = 'ellipse'\n",
    "    color = 'red'\n",
    "\n",
    "fig1 = Figure()\n",
    "setattr(fig1, 'start_pt', (10, 5))\n",
    "setattr(fig1, 'end_pt', (100, 20))\n",
    "setattr(fig1, 'color', 'blue')\n",
    "delattr(fig1, 'color')\n",
    "print(' '.join(fig1.__dict__.keys()))"
   ]
  },
  {
   "cell_type": "code",
   "execution_count": null,
   "id": "4a31ecc2-7060-4088-bc25-b9da50bdb1c5",
   "metadata": {},
   "outputs": [],
   "source": [
    "class Person:\n",
    "    name = 'Сергей Балакирев'\n",
    "    job = 'Программист'\n",
    "    city = 'Москва'\n",
    "\n",
    "p1 = Person()\n",
    "print('job' in p1.__dict__)"
   ]
  },
  {
   "cell_type": "code",
   "execution_count": null,
   "id": "6ff42ee5-4a00-4a42-8403-086a625778d5",
   "metadata": {},
   "outputs": [],
   "source": [
    "class Point:\n",
    "    tp = '1'\n",
    "\n",
    "del Point.tp"
   ]
  },
  {
   "cell_type": "code",
   "execution_count": null,
   "id": "e0168c78-4982-45fa-9335-d9e1a716ef4a",
   "metadata": {},
   "outputs": [],
   "source": [
    "Point.__dict__"
   ]
  },
  {
   "cell_type": "markdown",
   "id": "d820a3b9-fb66-49b8-9721-213bea891956",
   "metadata": {},
   "source": [
    "### 1.4 Методы классов"
   ]
  },
  {
   "cell_type": "markdown",
   "id": "a4c5d114-0e43-4cd8-86cf-188b55a49878",
   "metadata": {},
   "source": [
    "self"
   ]
  },
  {
   "cell_type": "code",
   "execution_count": null,
   "id": "8ff0bc9b-d4ce-4750-9a9a-a1b931f75a0f",
   "metadata": {},
   "outputs": [],
   "source": [
    "class MediaPlayer:\n",
    "    def open(self, file):\n",
    "        self.filename = file\n",
    "\n",
    "    \n",
    "    def play(self):\n",
    "        print(f'Воспроизведение {self.filename}')\n",
    "\n",
    "\n",
    "media1 = MediaPlayer()\n",
    "media2 = MediaPlayer()\n",
    "\n",
    "media1.open('filemedia1')\n",
    "media2.open('filemedia2')\n",
    "\n",
    "media1.play()\n",
    "media2.play()"
   ]
  },
  {
   "cell_type": "code",
   "execution_count": null,
   "id": "758a7a77-1177-494d-9d83-e11d2a44fe9c",
   "metadata": {},
   "outputs": [],
   "source": [
    "MediaPlayer.play(media1)"
   ]
  },
  {
   "cell_type": "markdown",
   "id": "c760dfe6-3bd5-486b-a040-bbafe7d35dd6",
   "metadata": {},
   "source": [
    "Задание 2"
   ]
  },
  {
   "cell_type": "code",
   "execution_count": null,
   "id": "0c36e14d-9bc3-422d-b635-8c4775f664b7",
   "metadata": {},
   "outputs": [],
   "source": [
    "class Graph:\n",
    "    LIMIT_Y = [0, 10]\n",
    "\n",
    "    \n",
    "    def set_data(self, data):\n",
    "        self.data = data\n",
    "\n",
    "    \n",
    "    def draw(self):\n",
    "        left, right = self.LIMIT_Y\n",
    "        res = filter(lambda x: left <= x <= right, self.data)\n",
    "        print(*res)\n",
    "\n",
    "\n",
    "graph_1 = Graph()\n",
    "graph_1.set_data([10, -5, 100, 20, 0, 80, 45, 2, 5, 7])\n",
    "graph_1.draw()"
   ]
  },
  {
   "cell_type": "code",
   "execution_count": null,
   "id": "b1ef47b3-a313-4ea9-9767-96884bb5aa9a",
   "metadata": {},
   "outputs": [],
   "source": [
    "import sys\n",
    "\n",
    "class StreamData:\n",
    "    def create(self, fields, lst_values):\n",
    "        if len(fields) != len(lst_values):\n",
    "            return False\n",
    "\n",
    "        self.__dict__ = dict(zip(fields, lst_values))\n",
    "        return True\n",
    "\n",
    "        \n",
    "class StreamReader:\n",
    "    FIELDS = ('id', 'title', 'pages')\n",
    "\n",
    "    def readlines(self):\n",
    "        lst_in = list(map(str.strip, sys.stdin.readlines()))  # считывание списка строк из входного потока\n",
    "        sd = StreamData()\n",
    "        res = sd.create(self.FIELDS, lst_in)\n",
    "        return sd, res\n",
    "\n",
    "\n",
    "sr = StreamReader()\n",
    "data, result = sr.readlines()"
   ]
  },
  {
   "cell_type": "markdown",
   "id": "395ddb86-f822-4f74-96f4-531b1b9e43a7",
   "metadata": {},
   "source": [
    "Задание 4"
   ]
  },
  {
   "cell_type": "code",
   "execution_count": null,
   "id": "b8ac9664-ed1b-4c27-8c36-af88193b04cb",
   "metadata": {},
   "outputs": [],
   "source": [
    "import sys\n",
    "\n",
    "# программу не менять, только добавить два метода\n",
    "lst_in = list(map(str.strip, sys.stdin.readlines()))  # считывание списка строк из входного потока\n",
    "lst_in = ['1 Сергей 35 120000', '2 Федор 23 12000', '3 Иван 13 1200']\n",
    "\n",
    "class DataBase:\n",
    "    lst_data = []\n",
    "    FIELDS = ('id', 'name', 'old', 'salary')\n",
    "\n",
    "    # здесь добавлять методы\n",
    "    def insert(self, data):\n",
    "        for el in data:\n",
    "            res = dict(zip(self.FIELDS, el.split()))\n",
    "            self.lst_data.append(res)\n",
    "\n",
    "\n",
    "    def select(self, a, b):\n",
    "        return self.lst_data[a:b+1]\n",
    "\n",
    "\n",
    "db = DataBase()\n",
    "db.insert(lst_in)\n",
    "db.select(1, 2)"
   ]
  },
  {
   "cell_type": "markdown",
   "id": "d808c08e-37b4-4543-afb8-584a7e32ba05",
   "metadata": {},
   "source": [
    "Задание 5. Переводчик"
   ]
  },
  {
   "cell_type": "markdown",
   "id": "0ad75215-de68-47d4-bd3a-a46cc6347ecd",
   "metadata": {},
   "source": [
    "Доработать, добавить БД для сохранения данных."
   ]
  },
  {
   "cell_type": "code",
   "execution_count": null,
   "id": "ded719ff-bc80-4f58-b7dc-21839fd7598d",
   "metadata": {},
   "outputs": [],
   "source": [
    "class Translator:\n",
    "    def add(self, eng, rus):\n",
    "        if 'tr' not in self.__dict__:\n",
    "            self.tr = {}\n",
    "\n",
    "        self.tr.setdefault(eng, [])\n",
    "        if rus not in self.tr[eng]:\n",
    "            self.tr[eng].append(rus)\n",
    "            \n",
    "\n",
    "    def remove(self, eng):\n",
    "        self.tr.pop(eng, False)\n",
    "\n",
    "    \n",
    "    def translate(self, eng):\n",
    "        return self.tr[eng]\n",
    "\n",
    "\n",
    "tr = Translator()\n",
    "tr.add(\"tree\", \"дерево\")\n",
    "tr.add(\"car\", \"машина\")\n",
    "tr.add(\"car\", \"автомобиль\")\n",
    "tr.add(\"leaf\", \"лист\")\n",
    "tr.add(\"river\", \"река\")\n",
    "tr.add(\"go\", \"идти\")\n",
    "tr.add(\"go\", \"ехать\")\n",
    "tr.add(\"go\", \"ходить\")\n",
    "tr.add(\"milk\", \"молоко\")\n",
    "tr.remove('car')\n",
    "print(*tr.translate('go'))"
   ]
  },
  {
   "cell_type": "markdown",
   "id": "682019be-8d55-43c8-9ce3-a7d25945aeba",
   "metadata": {},
   "source": [
    "### 1.5 Инициализатор \\_\\_init\\_\\_ и финализатор \\_\\_del\\_\\_"
   ]
  },
  {
   "cell_type": "code",
   "execution_count": null,
   "id": "9e0973b8-755f-481c-a321-fa5301b0e534",
   "metadata": {},
   "outputs": [],
   "source": [
    "import sqlite3"
   ]
  },
  {
   "cell_type": "code",
   "execution_count": null,
   "id": "c485a6fd-96b9-4b5f-b9cb-f1fdab330a64",
   "metadata": {},
   "outputs": [],
   "source": [
    "conn = sqlite3.connect('example.db')\n",
    "cursor = conn.cursor()\n"
   ]
  },
  {
   "cell_type": "code",
   "execution_count": null,
   "id": "52c39988-8e47-421a-abee-95ad04ca507f",
   "metadata": {},
   "outputs": [],
   "source": [
    "class Point:\n",
    "    color = 'red'\n",
    "    circle = 2\n",
    "\n",
    "    def __init__(self):\n",
    "        print('вызов __init__')\n",
    "        self.x = 0\n",
    "        self.y = 0\n",
    "\n",
    "    def set_coords(self, x, y):\n",
    "        self.x = x\n",
    "        self.y = y\n",
    "\n",
    "    def get_coords(self):\n",
    "        return self.x, self.y\n",
    "\n",
    "\n",
    "pt = Point()\n",
    "pt.set_coords(1, 2)\n",
    "print(pt.__dict__)"
   ]
  },
  {
   "cell_type": "code",
   "execution_count": null,
   "id": "735d11b4-4e30-4dcd-92ef-46309302e4f3",
   "metadata": {},
   "outputs": [],
   "source": [
    "class Point:\n",
    "    def __init__(self, x, y, color='black'):\n",
    "        self.x = x\n",
    "        self.y = y\n",
    "        self.color = color\n",
    "\n",
    "points = []\n",
    "for num, i in enumerate(range(1, 2000, 2), 1):\n",
    "    points.append(Point(i, i))\n",
    "\n",
    "points[1].color = 'yellow'"
   ]
  },
  {
   "cell_type": "code",
   "execution_count": null,
   "id": "77102e94-7069-401b-8bfc-b698fa771dec",
   "metadata": {},
   "outputs": [],
   "source": [
    "points[1].color"
   ]
  },
  {
   "cell_type": "markdown",
   "id": "a2d6a203-09f2-44a9-8888-37921d8bc1e6",
   "metadata": {},
   "source": [
    "Задание 4"
   ]
  },
  {
   "cell_type": "code",
   "execution_count": null,
   "id": "4446d54f-a05e-4a31-b6eb-1e5c51dcc10a",
   "metadata": {},
   "outputs": [],
   "source": [
    "import random\n",
    "\n",
    "class Line:\n",
    "    def __init__(self, a, b, c, d):\n",
    "        self.sp = a, b,\n",
    "        self.ep = c, d,\n",
    "\n",
    "\n",
    "class Rect:\n",
    "    def __init__(self, a, b, c, d):\n",
    "        self.sp = a, b,\n",
    "        self.ep = c, d,\n",
    "\n",
    "\n",
    "class Ellipse:\n",
    "    def __init__(self, a, b, c, d):\n",
    "        self.sp = a, b,\n",
    "        self.ep = c, d,        \n",
    "\n",
    "\n",
    "def add_obj():\n",
    "    coords = [random.randint(-100, 100) for i in range(4)]\n",
    "    return random.choice([Line, Rect, Ellipse])(*coords)\n",
    "\n",
    "\n",
    "def line_to_zero(obj):\n",
    "    if type(obj).__name__ == 'Line':\n",
    "        obj.__init__(0, 0, 0, 0)\n",
    "    return obj    \n",
    "\n",
    "\n",
    "elements = [add_obj() for i in range(217)]\n",
    "elements = [line_to_zero(el) for el in elements]"
   ]
  },
  {
   "cell_type": "markdown",
   "id": "e639f775-17cc-41f3-ab01-bdbad3888307",
   "metadata": {},
   "source": [
    "Подвиг 5"
   ]
  },
  {
   "cell_type": "code",
   "execution_count": null,
   "id": "99341f51-49a7-46fa-9c62-8945365f81af",
   "metadata": {},
   "outputs": [],
   "source": [
    "class TriangleChecker:\n",
    "    def __init__(self, a, b, c):\n",
    "        self.a = a\n",
    "        self.b = b\n",
    "        self.c = c\n",
    "\n",
    "        \n",
    "    def is_triangle(self):\n",
    "        lst = [self.a, self.b, self.c]\n",
    "        # 1\n",
    "        for el in lst:\n",
    "            if (\n",
    "                type(el) != int and\n",
    "                type(el) != float\n",
    "            ):\n",
    "                return 1\n",
    "            elif el <= 0:\n",
    "                return 1\n",
    "        # 2, 3\n",
    "        if (self.a + self.b > self.c and\n",
    "            self.b + self.c > self.a and\n",
    "            self.a + self.c > self.b):  \n",
    "            return 3\n",
    "        else:\n",
    "            return 2\n",
    "\n",
    "\n",
    "a, b, c = map(int, input().split())        \n",
    "tr = TriangleChecker(a, b, c)\n",
    "print(tr.is_triangle())"
   ]
  },
  {
   "cell_type": "code",
   "execution_count": null,
   "id": "8543ff46-7836-428f-b0e1-619312a612e4",
   "metadata": {},
   "outputs": [],
   "source": [
    "tests = [[3, 4, 5], [5, 4, 3], [4, 3, 5], [1, 1, 1], [1, 7, 8]]\n",
    "for el in tests:\n",
    "    tr_t = TriangleChecker(*el)\n",
    "    print(tr_t.is_triangle())"
   ]
  },
  {
   "cell_type": "markdown",
   "id": "1e09d0e0-263c-4e14-b888-27a52bef5725",
   "metadata": {},
   "source": [
    "Подвиг 6"
   ]
  },
  {
   "cell_type": "code",
   "execution_count": null,
   "id": "d895aee6-20a9-4f31-948a-e6cbe8c15bd0",
   "metadata": {},
   "outputs": [],
   "source": [
    "class Graph:\n",
    "    def __init__(self, data, is_show=True):\n",
    "        self.data = data.copy()\n",
    "        self.is_show = is_show\n",
    "\n",
    "\n",
    "    def set_data(self, data):\n",
    "        self.data = data.copy()\n",
    "\n",
    "\n",
    "    def show_table(self):\n",
    "        if self.is_show:\n",
    "            print(*self.data)\n",
    "        else:\n",
    "            print('Отображение данных закрыто')\n",
    "        \n",
    "\n",
    "    def show_graph(self):\n",
    "        if self.is_show:\n",
    "            print(f'Графическое отображение данных: {self.data}')\n",
    "        else:\n",
    "            print('Отображение данных закрыто')\n",
    "\n",
    "    \n",
    "    def show_bar(self):\n",
    "        if self.is_show:\n",
    "            print('Столбчатая диаграмма:', *self.data)\n",
    "        else:\n",
    "            print('Отображение данных закрыто')\n",
    "\n",
    "    \n",
    "    def set_show(self, fl_show):\n",
    "        self.is_show = fl_show\n",
    "\n",
    "\n",
    "# data_graph = list(map(int, input().split()))\n",
    "data_graph = [8, 11, 10, -32, 0, 7, 18]\n",
    "gr = Graph(data_graph)\n",
    "gr.show_bar()\n",
    "gr.set_show(fl_show=False)\n",
    "gr.show_table()"
   ]
  },
  {
   "cell_type": "markdown",
   "id": "6c5c97b1-e16a-4788-9dae-6a38dc400dd0",
   "metadata": {},
   "source": [
    "Подвиг 7"
   ]
  },
  {
   "cell_type": "code",
   "execution_count": null,
   "id": "b0278bae-01e9-419a-9a37-7c56b5c639c1",
   "metadata": {},
   "outputs": [],
   "source": [
    "class CPU:\n",
    "    def __init__(self, name, fr):\n",
    "        self.name = name\n",
    "        self.fr = fr    \n",
    "    \n",
    "    \n",
    "class Memory:\n",
    "    def __init__(self, name, volume):\n",
    "        self.name = name\n",
    "        self.volume = volume\n",
    "        \n",
    "    \n",
    "class MotherBoard:\n",
    "    def __init__(self, name, cpu, mem_slots):\n",
    "        self.name = name\n",
    "        self.cpu = cpu\n",
    "        self.total_mem_slots = 4\n",
    "        self.mem_slots = mem_slots\n",
    "\n",
    "\n",
    "    def get_config(self):\n",
    "        lst = [f'{mem.name} - {mem.volume}' for mem in self.mem_slots]\n",
    "        return [f'Материнская плата: {self.name}',\n",
    "                f'Центральный процессор: {self.cpu.name}, {self.cpu.fr}',\n",
    "                f'Слотов памяти: {self.total_mem_slots}',\n",
    "                f'Память: {\"; \".join(lst)}'\n",
    "                \n",
    "               ]\n",
    "\n",
    "cpu = CPU('asus', 3333)\n",
    "mem1 = Memory('Kingston', 6777)\n",
    "mem2 = Memory('Kingston', 6777)\n",
    "mb = MotherBoard('Aurus', cpu, [mem1, mem2])\n",
    "mb.get_config()"
   ]
  },
  {
   "cell_type": "markdown",
   "id": "c70d75a0-a23b-4e31-8aff-17cc6e8766b1",
   "metadata": {},
   "source": [
    "Подвиг 8"
   ]
  },
  {
   "cell_type": "code",
   "execution_count": null,
   "id": "0949eb80-dc80-4577-a89e-c69cce023961",
   "metadata": {},
   "outputs": [],
   "source": [
    "class Cart:\n",
    "    def __init__(self, goods=[]):\n",
    "        self.goods = goods\n",
    "\n",
    "\n",
    "    def add(self, gb):\n",
    "        self.goods.append(gb)\n",
    "\n",
    "    \n",
    "    def remove(self, indx):\n",
    "        self.goods.pop(indx)\n",
    "\n",
    "\n",
    "    def get_list(self):\n",
    "        return [f\"{product.name}: {product.price}\" for product in self.goods]\n",
    "        \n",
    "\n",
    "class Table:\n",
    "    def __init__(self, name, price):\n",
    "        self.name = name\n",
    "        self.price = price\n",
    "        \n",
    "    \n",
    "class TV:\n",
    "    def __init__(self, name, price):\n",
    "        self.name = name\n",
    "        self.price = price\n",
    "\n",
    "\n",
    "class Notebook:\n",
    "    def __init__(self, name, price):\n",
    "        self.name = name\n",
    "        self.price = price\n",
    "\n",
    "\n",
    "class Cup:\n",
    "    def __init__(self, name, price):\n",
    "        self.name = name\n",
    "        self.price = price\n",
    "\n",
    "\n",
    "tv1 = TV('Samsung', 23000)\n",
    "tv2 = TV('Philips', 23500)\n",
    "table = Table('Atlant', 7000)\n",
    "notebook1 = Notebook('Asus', 125000)\n",
    "notebook2 = Notebook('Dell', 120000)\n",
    "cup = Cup('Sun', 230)\n",
    "\n",
    "cart = Cart()\n",
    "for el in [tv1, tv2, table, notebook1, notebook2, cup]:\n",
    "    cart.add(el)\n",
    "\n",
    "cart.get_list()    "
   ]
  },
  {
   "cell_type": "markdown",
   "id": "b0632362-8e1e-4036-9a41-39ecc1440d38",
   "metadata": {},
   "source": [
    "Подвиг 9 "
   ]
  },
  {
   "cell_type": "code",
   "execution_count": null,
   "id": "fc7e70a9-e565-4872-bf41-40a24068ecba",
   "metadata": {},
   "outputs": [],
   "source": [
    "class ListObject:\n",
    "    \n",
    "    def __init__(self, data, next_obj=None):\n",
    "        self.data = data\n",
    "        self.next_obj = next_obj\n",
    "\n",
    "    def link(self, obj):\n",
    "        self.next_obj = obj\n",
    "\n",
    "\n",
    "lst_in = ['1. Первые шаги в ООП',\n",
    "          '1.1 Как правильно проходить этот курс',\n",
    "          '1.2 Концепция ООП простыми словами',\n",
    "          '1.3 Классы и объекты. Атрибуты классов и объектов',\n",
    "          '1.4 Методы классов. Параметр self',\n",
    "          '1.5 Инициализатор init и финализатор del',\n",
    "          '1.6 Магический метод new. Пример паттерна Singleton',\n",
    "          '1.7 Методы класса (classmethod) и статические методы (staticmethod)']    \n",
    "\n",
    "head_obj = ListObject(lst_in[0], next_obj=ListObject(lst_in[1]))\n",
    "any_obj = head_obj.next_obj\n",
    "# next_obj = ListObject.next_obj\n",
    "\n",
    "# current = 0\n",
    "# following = 1\n",
    "\n",
    "# def res(current=0, following=1):\n",
    "#     head_obj = ListObject(lst_in[current], ListObject(lst_in[following]))\n",
    "#     if following < len(lst_in):\n",
    "#         current += 1\n",
    "#         following += 1\n",
    "#         res(current, following)\n",
    "        \n",
    "#     return head_obj\n",
    "print(any_obj.__dict__)\n",
    "for i in range(1, len(lst_in) - 1):\n",
    "    any_obj.link(ListObject(lst_in[i+1]))\n",
    "    any_obj = any_obj.next_obj\n",
    "    print(any_obj.__dict__)\n",
    "    # var = lst_in[i+2] if i+2 <= len(lst_in) else None\n",
    "    "
   ]
  },
  {
   "cell_type": "code",
   "execution_count": null,
   "id": "bf95134b-89c7-4e1e-ba13-07db95ca65b1",
   "metadata": {},
   "outputs": [],
   "source": [
    "head_obj = ListObject(lst_in[0], next_obj=ListObject(lst_in[1]))\n",
    "head_obj.next_obj.link(ListObject(lst_in[2]))\n",
    "head_obj.next_obj.next_obj.link(ListObject(lst_in[3]))"
   ]
  },
  {
   "cell_type": "code",
   "execution_count": null,
   "id": "192d7378-db89-4cfd-8d9e-df101f4da2ea",
   "metadata": {},
   "outputs": [],
   "source": [
    "head_obj = ListObject(lst_in[0], next_obj=ListObject(lst_in[1]))\n",
    "any_obj = head_obj.next_obj\n",
    "\n",
    "for i in range(1, 6):\n",
    "    any_obj.link(ListObject(lst_in[i+1]))\n",
    "    any_obj = any_obj.next_obj\n"
   ]
  },
  {
   "cell_type": "markdown",
   "id": "c4622b59-6772-42b4-abd2-656f1b29ebe7",
   "metadata": {},
   "source": [
    "Большой подвиг 10. Написать Сапёр"
   ]
  },
  {
   "cell_type": "code",
   "execution_count": null,
   "id": "449db6d4-6695-4897-b109-6b41c45af6af",
   "metadata": {},
   "outputs": [],
   "source": [
    "from random import randint\n",
    "\n",
    "class Cell:\n",
    "    def __init__(self, mine=False, around_mines=0, fl_open=False):\n",
    "        self.around_mines = around_mines\n",
    "        self.mine = mine\n",
    "        self.fl_open = fl_open\n",
    "    \n",
    "\n",
    "class GamePole:\n",
    "    def __init__(self, N, M):\n",
    "        self.N = N\n",
    "        self.M = M\n",
    "        self.init()\n",
    "\n",
    "        \n",
    "    def init(self):\n",
    "        # creating mine coordinates\n",
    "        self.mines_positions = self.create_mine_coords()\n",
    "        # creating pole\n",
    "        self.pole = self.create_game_pole()\n",
    "\n",
    "\n",
    "    def create_mine_coords(self):\n",
    "        M, N = self.M, self.N\n",
    "        mines_positions = set()\n",
    "        while len(mines_positions) < M:\n",
    "            mines_positions.add(tuple(map(randint, [0, 0], [N-1, N-1])))\n",
    "        return mines_positions\n",
    "\n",
    "\n",
    "    def create_game_pole(self):\n",
    "        N = self.N\n",
    "        mines_positions = self.mines_positions\n",
    "        game_pole = []\n",
    "        for i in range(N):\n",
    "            line = []\n",
    "            for j in range(N):\n",
    "                mine = False\n",
    "                if (i, j) in mines_positions:\n",
    "                    mine = True\n",
    "                around_mines = self.how_mines((i, j), mines_positions)\n",
    "                c1 = Cell(mine, around_mines)\n",
    "                line.append(c1)\n",
    "            game_pole.append(line)\n",
    "                    \n",
    "        return game_pole\n",
    "\n",
    "    \n",
    "    def how_mines(self, cell_coord, mines_positions, cube=3):\n",
    "        #benchmark\n",
    "        bm = cell_coord[0] - 1, cell_coord[1] - 1\n",
    "        \n",
    "        around_mines = 0\n",
    "        for i in range(bm[0], cube+bm[0]):\n",
    "            for j in range(bm[1], cube+bm[1]):\n",
    "                if (i, j) != cell_coord:\n",
    "                    if (i, j) in mines_positions:\n",
    "                        around_mines += 1\n",
    "    \n",
    "        return around_mines\n",
    "\n",
    "    \n",
    "    def play(self):\n",
    "        N = self.N\n",
    "        print('Если хотите прекратить игру, наберите n')\n",
    "        print(f'Введите координаты в диапазоне:\\n'\n",
    "              f'x: 1-{N}\\n'\n",
    "              f'y: 1-{N}\\n'\n",
    "             )\n",
    "        self.show()\n",
    "        while True:\n",
    "            user_request = input()\n",
    "            if user_request != 'n':\n",
    "                x, y = map(int, user_request.split())\n",
    "                pole_game.pole[x-1][y-1].fl_open = True\n",
    "                self.show()\n",
    "                if pole_game.pole[x-1][y-1].mine == True:\n",
    "                    print('Game over')\n",
    "                    break\n",
    "            else:\n",
    "                break\n",
    "        \n",
    "            \n",
    "    def show(self):\n",
    "        for line in self.pole:\n",
    "            for el in line:\n",
    "                if el.fl_open == False:\n",
    "                    print('#', end=' ')\n",
    "                elif el.fl_open == True: \n",
    "                    print(['*', el.around_mines][el.mine == False], end=' ')\n",
    "            print('')\n",
    "            \n",
    "\n",
    "N = 10\n",
    "M = 12\n",
    "pole_game = GamePole(N, M)\n",
    "# pole_game.show()"
   ]
  },
  {
   "cell_type": "code",
   "execution_count": null,
   "id": "bc3af747-9ee0-4430-8402-2443b58e8c66",
   "metadata": {},
   "outputs": [],
   "source": [
    "# pole_game.play()"
   ]
  },
  {
   "cell_type": "markdown",
   "id": "e49ce11c-60c8-4ba8-87f6-ed5bd50b91ce",
   "metadata": {},
   "source": [
    "### 1.6 Магический метод \\_\\_new\\_\\_"
   ]
  },
  {
   "cell_type": "code",
   "execution_count": null,
   "id": "01b38ebb-43b0-45af-8aa4-25cbfa928db2",
   "metadata": {},
   "outputs": [],
   "source": [
    "class Point:\n",
    "    def __new__(cls, *args, **kwargs):\n",
    "        print('вызов __new__ для ' + str(cls))\n",
    "\n",
    "\n",
    "    def __init__(self, x=0, y=0):\n",
    "        print('вызов __init__ для ' + str(self))\n",
    "        self.x = x\n",
    "        self.y = y\n",
    "\n",
    "\n",
    "pt = Point(1, 2)\n",
    "print(pt)"
   ]
  },
  {
   "attachments": {},
   "cell_type": "markdown",
   "id": "edd4c19d-e9ca-4f18-a1b3-7b8027a9bc5c",
   "metadata": {},
   "source": [
    "Что проитсходит:\n",
    "* cls ссылается на класс\n",
    "* init ссылается на экземпляр класса\n",
    "* в такой конструкции при создании экземпляра класса, pt не ссылается на экземпляр\n",
    "\n",
    "Что делать?\n",
    "* \\_\\_new\\_\\_ должен возвращать адрес нового созданного объекта\n",
    "* вернем адрес нового созданного объекта из **базового класса**\n",
    "* `super().__new__(cls)`"
   ]
  },
  {
   "cell_type": "code",
   "execution_count": null,
   "id": "6e2b04f7-bf40-43dc-a3f7-8a2cf75c0523",
   "metadata": {},
   "outputs": [],
   "source": [
    "class Point:\n",
    "    def __new__(cls, *args, **kwargs):\n",
    "        print('вызов __new__ для ' + str(cls))\n",
    "        return super().__new__(cls)\n",
    "\n",
    "    def __init__(self, x=0, y=0):\n",
    "        print('вызов __init__ для ' + str(self))\n",
    "        self.x = x\n",
    "        self.y = y\n",
    "\n",
    "\n",
    "pt = Point(1, 2)\n",
    "print(pt)"
   ]
  },
  {
   "attachments": {
    "164be4f7-7121-4064-a636-8e430d6b79a8.png": {
     "image/png": "[encoded data removed]"
    }
   },
   "cell_type": "markdown",
   "id": "c48d6ead-3b4f-4bac-9bb0-4167a35882d5",
   "metadata": {},
   "source": [
    "![image.png](attachment:164be4f7-7121-4064-a636-8e430d6b79a8.png)"
   ]
  },
  {
   "cell_type": "markdown",
   "id": "f2102099-2ed4-45fa-a719-4a28a833ca38",
   "metadata": {},
   "source": [
    "с версии Python 3.0 все классы автоматически и не явно наследуются от базового класса object"
   ]
  },
  {
   "cell_type": "markdown",
   "id": "c5cad8d5-5f91-409e-8140-a87a12e115d0",
   "metadata": {},
   "source": [
    "Подвиг 6"
   ]
  },
  {
   "cell_type": "code",
   "execution_count": null,
   "id": "6c9c9db5-9a0c-4350-beef-1eae382c4975",
   "metadata": {},
   "outputs": [],
   "source": [
    "class AbstractClass:\n",
    "    def __new__(cls, *args, **kwargs):\n",
    "        return \"Ошибка: нельзя создавать объекты абстрактного класса\"\n",
    "\n",
    "\n",
    "AbstractClass()"
   ]
  },
  {
   "cell_type": "markdown",
   "id": "e9cfc2b0-3096-4bdb-9161-739dea1df254",
   "metadata": {},
   "source": [
    "Подвиг 7"
   ]
  },
  {
   "cell_type": "code",
   "execution_count": null,
   "id": "40155dca-1358-4c6f-aa08-39995176bfc4",
   "metadata": {},
   "outputs": [],
   "source": [
    "class SingletonFive:\n",
    "    __instance = None\n",
    "    __count = 0\n",
    "\n",
    "    def __new__(cls, *args, **kwargs):\n",
    "        if cls.__count != 5:\n",
    "            cls.__count += 1\n",
    "            cls.__instance = super().__new__(cls)\n",
    "        return cls.__instance\n",
    "\n",
    "        \n",
    "    def __init__(self, name):\n",
    "        self.name = name\n",
    "\n",
    "\n",
    "objs = [SingletonFive(str(n)) for n in range(10)] # эту строчку не менять\n",
    "objs"
   ]
  },
  {
   "cell_type": "markdown",
   "id": "97cc3717-62a9-4b2f-84d5-662f98574172",
   "metadata": {},
   "source": [
    "Подвиг 8"
   ]
  },
  {
   "cell_type": "code",
   "execution_count": null,
   "id": "925a566d-2667-4bf4-8347-1a4ff5dfb2db",
   "metadata": {},
   "outputs": [],
   "source": [
    "TYPE_OS = 1 # 1 - Windows; 2 - Linux\n",
    "\n",
    "class DialogWindows:\n",
    "    name_class = \"DialogWindows\"\n",
    "\n",
    "\n",
    "class DialogLinux:\n",
    "    name_class = \"DialogLinux\"\n",
    "\n",
    "\n",
    "class Dialog:\n",
    "    __obj_class = None\n",
    "    \n",
    "    def __new__(cls, *args, **kwargs):\n",
    "        obj = DialogWindows() if TYPE_OS == 1 else DialogLinux()\n",
    "        setattr(obj, 'name', *args)\n",
    "        return obj\n",
    "    \n",
    "\n",
    "dlg = Dialog('test')\n",
    "dlg.name"
   ]
  },
  {
   "cell_type": "code",
   "execution_count": null,
   "id": "0fac74ab-b3e1-46f6-8611-a62cbc52fcef",
   "metadata": {},
   "outputs": [],
   "source": [
    "dlg.__dict__"
   ]
  },
  {
   "cell_type": "markdown",
   "id": "6705c456-70eb-4031-86e8-3a7c9215c8b4",
   "metadata": {},
   "source": [
    "Подвиг 9"
   ]
  },
  {
   "cell_type": "code",
   "execution_count": null,
   "id": "8effc092-438f-4a21-8d75-f83a243d0212",
   "metadata": {},
   "outputs": [],
   "source": [
    "class Point:\n",
    "    def __init__(self, x, y):\n",
    "        self.x = x\n",
    "        self.y = y\n",
    "\n",
    "    def clone(self):\n",
    "        return Point(self.x, self.y)\n",
    "\n",
    "\n",
    "x = 5\n",
    "y = 5\n",
    "pt = Point(x, y)\n",
    "pt_clone = pt.clone()"
   ]
  },
  {
   "cell_type": "markdown",
   "id": "537ca59b-d767-4c98-aff9-cc09858bcdb5",
   "metadata": {},
   "source": [
    "Подвиг 10"
   ]
  },
  {
   "cell_type": "code",
   "execution_count": null,
   "id": "0a537174-165f-43bb-a956-14eba478cad1",
   "metadata": {},
   "outputs": [],
   "source": [
    "# Здесь объявляется класс Factory\n",
    "class Factory:\n",
    "    def build_sequence(self):\n",
    "        return []\n",
    "\n",
    "    def build_number(self, string):\n",
    "        return float(string)\n",
    "\n",
    "\n",
    "class Loader:\n",
    "    def parse_format(self, string, factory):\n",
    "        seq = factory.build_sequence()\n",
    "        for sub in string.split(\",\"):\n",
    "            item = factory.build_number(sub)\n",
    "            seq.append(item)\n",
    "\n",
    "        return seq\n",
    "\n",
    "\n",
    "# эти строчки не менять!\n",
    "ld = Loader()\n",
    "s = input()\n",
    "res = ld.parse_format(s, Factory())"
   ]
  },
  {
   "cell_type": "code",
   "execution_count": null,
   "id": "acffd59f-eb74-46b9-b571-72ca9f471cf0",
   "metadata": {},
   "outputs": [],
   "source": [
    "a = {1, 2, 3}\n",
    "type(a)"
   ]
  },
  {
   "cell_type": "markdown",
   "id": "1eabeb44-c035-450f-983d-1914e257729a",
   "metadata": {},
   "source": [
    "### 1.7 Методы класса (classmethod) и статические методы (staticmethod)"
   ]
  },
  {
   "cell_type": "code",
   "execution_count": null,
   "id": "320cfd67-d832-4f79-967a-1645f69892af",
   "metadata": {},
   "outputs": [],
   "source": [
    "class Vector:\n",
    "    MIN_COORD = 0\n",
    "    MAX_COORD = 100\n",
    "\n",
    "    # @classmethod работает с объектом класса, а не с экземпляром,\n",
    "    # аргумент cls(ссылка на текущий класс Vector) указывает на это\n",
    "    # Когда указывать @classmethod? - если предполагается определить метод, \n",
    "    # который будет работать только с атрибутами класса\n",
    "    @classmethod\n",
    "    def validate(cls, arg):\n",
    "        return cls.MIN_COORD <= arg <= cls.MAX_COORD\n",
    "\n",
    "    def __init__(self, x, y):\n",
    "        self.x = self.y = 0\n",
    "        # можно указывать self.validate(x) или Vector.validate(x)\n",
    "        # self нужно для того, чтобы при изменении имени класса\n",
    "        # задумка программиста работала. Т.е. self ссылается на \n",
    "        # текущий экземпляр класса, который также содержит информацию о классе\n",
    "        if self.validate(x) and self.validate(y):\n",
    "            self.x = x\n",
    "            self.y = y\n",
    "\n",
    "    def get_coord(self):\n",
    "        return self.x, self.y\n",
    "\n",
    "    # это метод который не имеет доступа ни к атрибута класса\n",
    "    # ни к атрибутам экземпляра. Это самостоялтельная функция, \n",
    "    # объявленная внутри класса. \n",
    "    # Когда использовать - если нам необходимо определить некоторую\n",
    "    # сервисную функцию, которая работает с параметрами, которые мы \n",
    "    # определяем непосредственно в ней\n",
    "    @staticmethod\n",
    "    def norm2(x, y):\n",
    "        return x*x + y*y\n",
    "\n",
    "\n",
    "v1 = Vector(1, 2)\n",
    "# при обращении к classmethod не надо указывать ссылку на \n",
    "# объект классса, так как classmethod работает с классом\n",
    "print(Vector.validate(5))"
   ]
  },
  {
   "cell_type": "code",
   "execution_count": null,
   "id": "e870a4a3-da35-4565-ba38-b2948a6ba215",
   "metadata": {},
   "outputs": [],
   "source": [
    "class Stepik:\n",
    "    def get_certificate(self):\n",
    "        return False\n",
    "\n",
    "\n",
    "st = Stepik()\n",
    "commands = [st.get_certificate(), Stepik.get_certificate(st)]\n",
    "for com in commands:\n",
    "    print(com)"
   ]
  },
  {
   "cell_type": "markdown",
   "id": "16890cc0-0b0c-45d1-843d-67b91d6979e8",
   "metadata": {},
   "source": [
    "Подвиг 6"
   ]
  },
  {
   "cell_type": "code",
   "execution_count": null,
   "id": "87768bf9-6289-41d0-9e3e-5952f235eae7",
   "metadata": {},
   "outputs": [],
   "source": [
    "class Factory:\n",
    "    @staticmethod\n",
    "    def build_sequence():\n",
    "        return []\n",
    "\n",
    "    @staticmethod\n",
    "    def build_number(string):\n",
    "        return int(string)\n",
    "\n",
    "\n",
    "class Loader:\n",
    "    @staticmethod\n",
    "    def parse_format(string, factory):\n",
    "        seq = factory.build_sequence()\n",
    "        for sub in string.split(\",\"):\n",
    "            item = factory.build_number(sub)\n",
    "            seq.append(item)\n",
    "\n",
    "        return seq\n",
    "\n",
    "\n",
    "res = Loader.parse_format(\"4, 5, -6\", Factory)\n",
    "res\n"
   ]
  },
  {
   "cell_type": "markdown",
   "id": "99a8ba28-0be3-49f3-8c59-fb9f85fdeedc",
   "metadata": {},
   "source": [
    "Если в классе не прописывать self, который должен ссылаться на экземпляр класса, то при создании экземпляра класса и вывозве его метода будет возникать ошибка"
   ]
  },
  {
   "cell_type": "code",
   "execution_count": null,
   "id": "6b6b56d2-9300-423a-81b2-a460fd6a41e5",
   "metadata": {},
   "outputs": [],
   "source": [
    "Factory.build_number('3')"
   ]
  },
  {
   "cell_type": "code",
   "execution_count": null,
   "id": "9f9025f5-c1b3-4ce9-b777-dbd02d1896e9",
   "metadata": {},
   "outputs": [],
   "source": [
    "a = Factory()\n",
    "try:\n",
    "    print(a.build_number('3'))\n",
    "except TypeError as er:\n",
    "    print('Ошибка:\\nTypeError:', er)"
   ]
  },
  {
   "cell_type": "markdown",
   "id": "6e17febf-c431-473c-9185-08e6c4c5be6d",
   "metadata": {},
   "source": [
    "Подвиг 7"
   ]
  },
  {
   "cell_type": "code",
   "execution_count": null,
   "id": "5b3294db-7e71-4cb7-99bd-66ee9acbc4b2",
   "metadata": {},
   "outputs": [],
   "source": [
    "from string import ascii_lowercase, digits\n",
    "\n",
    "# здесь объявляйте классы TextInput и PasswordInput\n",
    "class TextInput:\n",
    "    CHARS = \"абвгдеёжзийклмнопрстуфхцчшщьыъэюя \" + ascii_lowercase\n",
    "    CHARS_CORRECT = CHARS + CHARS.upper() + digits\n",
    "    @classmethod\n",
    "    def check_name(cls, name):\n",
    "        check_len = 3 <= len(name) <= 50\n",
    "        check_symb = len(set(cls.CHARS_CORRECT) & set(name)) > 0\n",
    "        return check_len and check_symb\n",
    "    \n",
    "    def __init__(self, name, size=10):\n",
    "        self.name = name\n",
    "        self.size = size\n",
    "        if not self.check_name(name):\n",
    "            raise ValueError(\"некорректное поле name\")\n",
    "\n",
    "    def get_html(self):\n",
    "        return f\"<p class='login'>{self.name}: <input type='text' size={self.size} />\"\n",
    "        \n",
    "\n",
    "class PasswordInput:\n",
    "    CHARS = \"абвгдеёжзийклмнопрстуфхцчшщьыъэюя \" + ascii_lowercase\n",
    "    CHARS_CORRECT = CHARS + CHARS.upper() + digits\n",
    "    @classmethod\n",
    "    def check_name(cls, name):\n",
    "        check_len = 3 <= len(name) <= 50\n",
    "        check_symb = len(set(cls.CHARS_CORRECT) & set(name)) > 0\n",
    "        return check_len and check_symb\n",
    "    \n",
    "    def __init__(self, name, size=10):\n",
    "        self.name = name\n",
    "        self.size = size\n",
    "        if not self.check_name(name):\n",
    "            raise ValueError(\"некорректное поле name\")\n",
    "\n",
    "    def get_html(self):\n",
    "        return f\"<p class='password'>{self.name}: <input type='text' size={self.size} />\"\n",
    "\n",
    "\n",
    "class FormLogin:\n",
    "    def __init__(self, lgn, psw):\n",
    "        self.login = lgn\n",
    "        self.password = psw\n",
    "\n",
    "    def render_template(self):\n",
    "        return \"\\n\".join(['<form action=\"#\">', self.login.get_html(), self.password.get_html(), '</form>'])\n",
    "\n",
    "\n",
    "# эти строчки не менять\n",
    "login = FormLogin(TextInput(\"Логин\"), PasswordInput(\"Пароль\"))\n",
    "html = login.render_template()\n",
    "html"
   ]
  },
  {
   "cell_type": "markdown",
   "id": "ebcf8da2-8d3e-479e-8126-47be2a563f8d",
   "metadata": {},
   "source": [
    "Подвиг 8"
   ]
  },
  {
   "cell_type": "code",
   "execution_count": null,
   "id": "cf93bed3-5185-40a1-948d-5327feddab37",
   "metadata": {},
   "outputs": [],
   "source": [
    "from string import ascii_lowercase, digits\n",
    "\n",
    "\n",
    "class CardCheck:\n",
    "    CHARS_FOR_NAME = ascii_lowercase.upper() + digits\n",
    "    \n",
    "    @staticmethod\n",
    "    def check_card_number(number):\n",
    "        num_check = number.split('-')\n",
    "        num_check1 = len(num_check) == 4\n",
    "        num_check2 = sum([len(part) != 4 for part in num_check]) == 0\n",
    "        num_check3 = False not in (el.isdigit() for el in set(''.join(num_check)))\n",
    "        return num_check1 and num_check2 and num_check3\n",
    "\n",
    "    @classmethod\n",
    "    def check_name(cls, name):\n",
    "        name_check1 = len(name.split()) == 2\n",
    "        name_check2 = sum([el not in cls.CHARS_FOR_NAME\n",
    "                           for part in name.split()\n",
    "                           for el in part\n",
    "                          ]) == 0\n",
    "        return name_check1 and name_check2\n",
    "                \n",
    "            \n",
    "        \n",
    "is_number = CardCheck.check_card_number(\"1284-5678-9012-0000\")\n",
    "is_name = CardCheck.check_name(\"SERGEI BALAKIREV\")\n",
    "print(f'is_number: {is_number}')\n",
    "print(f'is_name: {is_name}')"
   ]
  },
  {
   "cell_type": "markdown",
   "id": "8ff623f9-e317-4b1d-96a3-6a7b86081ca8",
   "metadata": {},
   "source": [
    "Подвиг 9"
   ]
  },
  {
   "cell_type": "code",
   "execution_count": null,
   "id": "81c33b4f-a00a-47a4-ba52-24124b80ba08",
   "metadata": {},
   "outputs": [],
   "source": [
    "class Video:\n",
    "    def create(self, name):\n",
    "        self.name = name\n",
    "\n",
    "    def play(self):\n",
    "        print(f'воспроизведение видео {self.name}')\n",
    "\n",
    "\n",
    "class YouTube:\n",
    "    videos = []\n",
    "    @classmethod\n",
    "    def add_video(cls, video):\n",
    "        cls.videos.append(video)\n",
    "\n",
    "    @classmethod\n",
    "    def play(cls, video_indx):\n",
    "        cls.videos[video_indx].play()\n",
    "\n",
    "\n",
    "v1 = Video()\n",
    "v2 = Video()\n",
    "v1.create('Python')\n",
    "v2.create('Python ООП')\n",
    "YouTube.add_video(v1)\n",
    "YouTube.add_video(v2)\n",
    "YouTube.play(0)\n",
    "YouTube.play(1)"
   ]
  },
  {
   "cell_type": "markdown",
   "id": "086af28b-6a15-4927-b1fa-a4aa35772353",
   "metadata": {},
   "source": [
    "Подвиг 10"
   ]
  },
  {
   "cell_type": "code",
   "execution_count": null,
   "id": "e2cd547c-43bc-4784-9920-15f4da86cae7",
   "metadata": {},
   "outputs": [],
   "source": [
    "class AppStore:\n",
    "    app_info = {}\n",
    "\n",
    "    @classmethod\n",
    "    def add_application(cls, app):\n",
    "        if not app.blocked:\n",
    "            cls.app_info[app.name] = app\n",
    "\n",
    "    @classmethod\n",
    "    def remove_application(cls, app):\n",
    "        cls.app_info.pop(app.name, 'Такого приложения нет')\n",
    "\n",
    "    @classmethod    \n",
    "    def block_application(cls, app):\n",
    "        if app.name in cls.app_info:\n",
    "            cls.app_info[app.name].blocked = True\n",
    "        else:\n",
    "            app.blocked = True\n",
    "\n",
    "    @classmethod    \n",
    "    def total_apps(cls):\n",
    "        return len(cls.app_info)\n",
    "\n",
    "\n",
    "class Application:\n",
    "    def __init__(self, name, blocked=False):\n",
    "        self.name = name\n",
    "        self.blocked = blocked\n",
    "\n",
    "\n",
    "v = Application('gosuslugi')\n",
    "v1 = Application('ZHKH')\n",
    "AppStore.add_application(v)\n",
    "AppStore.add_application(v1)\n",
    "AppStore.block_application(v1)\n",
    "AppStore.total_apps()\n",
    "AppStore.app_info['ZHKH'].blocked"
   ]
  },
  {
   "cell_type": "markdown",
   "id": "15e2fca3-c256-44b7-9916-9ec9db14e58d",
   "metadata": {},
   "source": [
    "Подвиг 11"
   ]
  },
  {
   "cell_type": "code",
   "execution_count": null,
   "id": "da91e078-b815-40fe-8139-72757bbdd97b",
   "metadata": {},
   "outputs": [],
   "source": [
    "class Viber:\n",
    "    msg_box = []\n",
    "\n",
    "    @classmethod\n",
    "    def add_message(cls, msg):\n",
    "        cls.msg_box.append(msg)\n",
    "\n",
    "    @classmethod\n",
    "    def remove_message(cls, msg):\n",
    "        cls.msg_box.remove(msg)\n",
    "\n",
    "    @staticmethod\n",
    "    def set_like(msg):\n",
    "        msg.fl_like = not msg.fl_like\n",
    "\n",
    "    @classmethod    \n",
    "    def show_last_message(cls, count):\n",
    "        print(cls.msg_box[-count::])\n",
    "\n",
    "    @classmethod\n",
    "    def total_messages(cls):\n",
    "        return len(cls.msg_box)\n",
    "        \n",
    "\n",
    "class Message:\n",
    "    def __init__(self, text, fl_like=False):\n",
    "        self.text = text\n",
    "        self.fl_like = fl_like\n",
    "        \n",
    "\n",
    "msg = Message(\"Всем привет!\")\n",
    "Viber.add_message(msg)\n",
    "Viber.add_message(Message(\"Это курс по Python ООП.\"))\n",
    "Viber.add_message(Message(\"Что вы о нем думаете?\"))\n",
    "Viber.set_like(msg)\n",
    "Viber.remove_message(msg)"
   ]
  },
  {
   "cell_type": "markdown",
   "id": "2bb639e1-763c-49f6-a53a-c4681682a486",
   "metadata": {},
   "source": [
    "### 1.8 Испытание свойствами и  методами"
   ]
  },
  {
   "cell_type": "code",
   "execution_count": null,
   "id": "26e9e240-980b-4c28-ba37-826d490609c2",
   "metadata": {},
   "outputs": [],
   "source": [
    "class Server:\n",
    "    ip = 1\n",
    "    connection = None # ссылка на роутер\n",
    "    \n",
    "    def __init__(self):\n",
    "        self.ip = self.create_address()\n",
    "        self.buffer = []\n",
    "\n",
    "    @classmethod\n",
    "    def create_address(cls):\n",
    "        address = cls.ip\n",
    "        cls.ip += 1\n",
    "        return address\n",
    "\n",
    "    def send_data(self, data):\n",
    "        self.connection.buffer.append(data)\n",
    "        \n",
    "    def get_data(self):\n",
    "        res = self.buffer.copy()\n",
    "        self.buffer.clear()\n",
    "        return res\n",
    "\n",
    "    def get_ip(self):\n",
    "        return self.ip\n",
    "\n",
    "\n",
    "class Router:\n",
    "    def __init__(self):\n",
    "        self.buffer = []\n",
    "        self.servers = {}\n",
    "        \n",
    "    def link(self, server):\n",
    "        server.connection = self\n",
    "        self.servers[server.ip] = server\n",
    "        \n",
    "    def unlink(self, server):\n",
    "        server.connection = None\n",
    "        del self.servers[server.ip]\n",
    "\n",
    "    def send_data(self):\n",
    "        for package in self.buffer:\n",
    "            if package.ip in self.servers:\n",
    "                self.servers[package.ip].buffer.append(package)\n",
    "        self.buffer.clear()\n",
    "            \n",
    "            \n",
    "class Data:\n",
    "    def __init__(self, data, ip):\n",
    "        self.data = data\n",
    "        self.ip = ip\n",
    "\n",
    "\n",
    "router = Router()\n",
    "sv_from = Server()\n",
    "sv_from2 = Server()\n",
    "router.link(sv_from)\n",
    "router.link(sv_from2)\n",
    "router.link(Server())\n",
    "router.link(Server())\n",
    "sv_to = Server()\n",
    "router.link(sv_to)\n",
    "sv_from.send_data(Data(\"Hello\", sv_to.get_ip()))\n",
    "sv_from2.send_data(Data(\"Hello\", sv_to.get_ip()))\n",
    "sv_to.send_data(Data(\"Hi\", sv_from.get_ip()))\n",
    "router.send_data()\n",
    "msg_lst_from = sv_from.get_data()\n",
    "msg_lst_to = sv_to.get_data()"
   ]
  },
  {
   "cell_type": "markdown",
   "id": "edef8777-79b0-432d-8261-e3821f14105e",
   "metadata": {},
   "source": [
    "## 2 Режимы доступа, свойства и дескрипторы"
   ]
  },
  {
   "cell_type": "markdown",
   "id": "6e650dbe-64d9-42bb-a2a0-3c71452a5650",
   "metadata": {},
   "source": [
    "### 2.1 Режимы доступа public, private, protected. Сеттеры и геттеры"
   ]
  },
  {
   "cell_type": "markdown",
   "id": "7d4bca1c-b006-421e-9ec6-fb3bc816d861",
   "metadata": {},
   "source": [
    "Методы и атрибуты класса можно защитить механизмом инкапсуляции. Этот механизм позволяет использовать разные режимы доступа к данным. Разные режимы нужны для того, чтобы ограничить использование атрибутов/методов, либо указать на служебный элемент. Например, если мы хотим, чтобы функция использовалась только в самом классе, а не в программе при дальнейшей реализации. Или, мы можем защитить атрибут, потому что в следующей версии программы его не будет, а значит его нельзя использовать.\n",
    "\n",
    "Варианты доступа к данным:\n",
    "- attribute (без одного или двух подчеркиваний вначале) – публичное свойство (**public**);\n",
    "- _attribute (с одним подчеркиванием) - режим доступа **protected** (служит для обращения внутри класса и во всех его дочерних классах);\n",
    "- __attribute (с двумя подчёркиваниями) - режим дсотупа **private** (служит для обращения только внутри класса)"
   ]
  },
  {
   "cell_type": "markdown",
   "id": "b385a6fa-a57a-4659-bfc2-f25c7c0e90ef",
   "metadata": {},
   "source": [
    "(Сеттеры, геттеры) / интерфейсные методы\n",
    "\n",
    "это методы, объявленные внутри класса для работы с инкапсулированными данными(с режимом private)"
   ]
  },
  {
   "cell_type": "markdown",
   "id": "2dcc9c9a-fefb-4aa8-b567-72d60d54385e",
   "metadata": {},
   "source": [
    "Подвиг 3"
   ]
  },
  {
   "cell_type": "code",
   "execution_count": null,
   "id": "6ed19c09-f859-4780-bb7a-8a870c4349bd",
   "metadata": {},
   "outputs": [],
   "source": [
    "class Clock:\n",
    "    def __init__(self, time=0):\n",
    "        self.__time = time\n",
    "\n",
    "    def set_time(self, tm):\n",
    "        if self.__check_time(tm):\n",
    "            self.__time = tm\n",
    "\n",
    "    def get_time(self):\n",
    "        return self.__time\n",
    "\n",
    "    def __check_time(self, tm):\n",
    "        ch1 = type(tm) == int\n",
    "        ch2 = 0 <= tm < 100000\n",
    "        return ch1 and ch2\n",
    "\n",
    "\n",
    "clock = Clock(4530)                "
   ]
  },
  {
   "cell_type": "markdown",
   "id": "9bcfa4c0-2663-4158-8995-ea4eba36470c",
   "metadata": {},
   "source": [
    "Подвиг 4"
   ]
  },
  {
   "cell_type": "code",
   "execution_count": null,
   "id": "a75ac942-009e-4827-9ce1-adf438d04190",
   "metadata": {},
   "outputs": [],
   "source": [
    "class Money:\n",
    "    def __init__(self, money=0):\n",
    "        self.__money = money\n",
    "\n",
    "    def set_money(self, money):\n",
    "        if self.__check_money(money):\n",
    "            self.__money = money\n",
    "\n",
    "    def get_money(self):\n",
    "        return self.__money\n",
    "\n",
    "    def add_money(self, mn):\n",
    "        self.__money += mn.get_money()\n",
    "\n",
    "    def __check_money(self, money):\n",
    "        ch1 = type(money) == int\n",
    "        ch2 = money >= 0 \n",
    "        return ch1 and ch2\n"
   ]
  },
  {
   "cell_type": "markdown",
   "id": "0e020b25-8608-418c-92c9-1f2f0ace9d64",
   "metadata": {},
   "source": [
    "Подвиг 6"
   ]
  },
  {
   "cell_type": "code",
   "execution_count": null,
   "id": "08daffbe-3e86-433d-9a3e-9b6a06807f9a",
   "metadata": {},
   "outputs": [],
   "source": [
    "class Book:\n",
    "    def __init__(self, author, title, price):\n",
    "        self.__author = author\n",
    "        self.__title = title\n",
    "        self.__price = price\n",
    "    \n",
    "    def set_title(self, title):\n",
    "        self.__title = title\n",
    "\n",
    "    def set_author(self, author):\n",
    "        self.__author = author\n",
    "\n",
    "    def set_price(self, price):\n",
    "        self.__price = price\n",
    "\n",
    "    def get_title(self):\n",
    "        return self.__title\n",
    "\n",
    "    def get_author(self):\n",
    "        return self.__author\n",
    "\n",
    "    def get_price(self):\n",
    "        return self.__price\n",
    "\n",
    "\n",
    "book = Book('Джоан Кэтлин Роулинг', '«Гарри Поттер и философский камень»', 2885)"
   ]
  },
  {
   "cell_type": "markdown",
   "id": "a6e8baba-2bba-40f5-97ed-cb72f71ae351",
   "metadata": {},
   "source": [
    "Подвиг 7"
   ]
  },
  {
   "cell_type": "code",
   "execution_count": null,
   "id": "29138255-e118-4066-bac3-11e614e83dba",
   "metadata": {},
   "outputs": [],
   "source": [
    "class Line:\n",
    "    def __init__(self, x1, y1, x2, y2):\n",
    "        self.__x1 = x1\n",
    "        self.__y1 = y1\n",
    "        self.__x2 = x2\n",
    "        self.__y2 = y2\n",
    "\n",
    "    def set_coords(self, x1, y1, x2, y2):\n",
    "        self.__x1 = x1\n",
    "        self.__y1 = y1\n",
    "        self.__x2 = x2\n",
    "        self.__y2 = y2\n",
    "\n",
    "    def get_coords(self):\n",
    "        return self.__x1, self.__y1, self.__x2, self.__y2\n",
    "\n",
    "    def draw(self):\n",
    "        print(*[self.__x1, self.__y1, self.__x2, self.__y2])\n",
    "\n",
    "\n",
    "line = Line(1, 2, 3, 4)\n",
    "line.draw()"
   ]
  },
  {
   "cell_type": "markdown",
   "id": "9f9b38c6-189d-4b0c-89ed-750ec0930f99",
   "metadata": {},
   "source": [
    "Подвиг 8"
   ]
  },
  {
   "cell_type": "code",
   "execution_count": null,
   "id": "95b38765-5a1b-4712-b092-a5ed6e1e0d7a",
   "metadata": {},
   "outputs": [],
   "source": [
    "class Point:\n",
    "    def __init__(self, x, y):\n",
    "        self.__x = x\n",
    "        self.__y = y\n",
    "\n",
    "    def get_coords(self):\n",
    "        return self.__x, self.__y\n",
    "        \n",
    "\n",
    "class Rectangle:\n",
    "    def __init__(self, *args):\n",
    "        if len(args) == 4:\n",
    "            self.__sp = Point(args[0], args[1])\n",
    "            self.__ep = Point(args[2], args[3])\n",
    "        else:\n",
    "            self.__sp = args[0]\n",
    "            self.__ep = args[1]\n",
    "\n",
    "    def set_coords(self, sp, ep):\n",
    "        self.__sp = sp\n",
    "        self.__ep = ep\n",
    "\n",
    "    def get_coords(self):\n",
    "        return self.__sp, self.__ep\n",
    "\n",
    "    def draw(self):\n",
    "        print(f'Прямоугольник с координатами:',\n",
    "              f'{self.__sp.get_coords()} {self.__ep.get_coords()}')\n",
    "        \n",
    "\n",
    "rect = Rectangle(Point(0, 0), Point(20, 34))"
   ]
  },
  {
   "cell_type": "markdown",
   "id": "a852266d-07f0-46e9-b878-b7187ff74b11",
   "metadata": {},
   "source": [
    "Большой подвиг 9"
   ]
  },
  {
   "cell_type": "code",
   "execution_count": null,
   "id": "0d189c96-5f93-4e13-a718-f69ba5fcee6e",
   "metadata": {},
   "outputs": [],
   "source": [
    "class LinkedList:\n",
    "    def __init__(self, head=None, tail=None):\n",
    "        self.head = head\n",
    "        self.tail = tail\n",
    "    \n",
    "    def add_obj(self, obj):\n",
    "        # если жобавляем первый э-т\n",
    "        if self.head == None and self.tail == None:\n",
    "            self.head = self.tail = obj\n",
    "        # когда добавляем второй элемент\n",
    "        elif self.head == self.tail:\n",
    "            self.tail = obj\n",
    "            self.tail.set_prev(self.head)\n",
    "            self.head.set_next(obj)\n",
    "        else:\n",
    "            self.tail.set_next(obj)\n",
    "            x = self.tail\n",
    "            self.tail = obj\n",
    "            self.tail.set_prev(x)\n",
    "            \n",
    "    def remove_obj(self):\n",
    "        prev = self.tail.get_prev()\n",
    "        if prev != None:\n",
    "            prev.set_next(None)\n",
    "            self.tail = prev\n",
    "        else:\n",
    "            self.head = self.tail = None\n",
    "\n",
    "    def get_data(self):\n",
    "        start = self.head\n",
    "        lst = []\n",
    "        counter = 0\n",
    "        while start != None and counter != 100:\n",
    "            lst.append(start.get_data())\n",
    "            start = start.get_next()\n",
    "            counter += 1\n",
    "        return lst\n",
    "        \n",
    "\n",
    "class ObjList:\n",
    "    def __init__(self, data, nxt=None, prev=None):\n",
    "        self.__next = nxt\n",
    "        self.__prev = prev\n",
    "        self.__data = data\n",
    "\n",
    "    def set_next(self, obj):\n",
    "        self.__next = obj\n",
    "\n",
    "    def set_prev(self, obj):\n",
    "        self.__prev = obj\n",
    "\n",
    "    def get_next(self):\n",
    "        return self.__next\n",
    "\n",
    "    def get_prev(self):\n",
    "        return self.__prev\n",
    "\n",
    "    def set_data(self, data):\n",
    "        self.__data = data\n",
    "\n",
    "    def get_data(self):\n",
    "        return self.__data\n",
    "\n",
    "\n",
    "lst = LinkedList()\n",
    "lst.add_obj(ObjList(\"данные 1\"))\n",
    "lst.add_obj(ObjList(\"данные 2\"))\n",
    "lst.add_obj(ObjList(\"данные 3\"))\n",
    "res = lst.get_data()    # ['данные 1', 'данные 2', 'данные 3']"
   ]
  },
  {
   "cell_type": "markdown",
   "id": "5f267b08-6111-4288-813c-812270c17b27",
   "metadata": {},
   "source": [
    "Подвиг 10"
   ]
  },
  {
   "cell_type": "code",
   "execution_count": 7,
   "id": "d24ff496-7d30-45cc-b445-706ac26822ff",
   "metadata": {},
   "outputs": [
    {
     "data": {
      "text/plain": [
       "True"
      ]
     },
     "execution_count": 7,
     "metadata": {},
     "output_type": "execute_result"
    }
   ],
   "source": [
    "import random, string\n",
    "\n",
    "class EmailValidator:\n",
    "    letters = string.ascii_letters + string.digits + '_.'\n",
    "    @classmethod\n",
    "    def __new__(cls, *args, **kwargs):\n",
    "        return None\n",
    "    \n",
    "    @classmethod\n",
    "    def get_random_email(cls):\n",
    "        length = random.randint(1, 100)\n",
    "        part1 = ''.join(random.choice(cls.letters) for i in range(length))\n",
    "        part2 = '@gmail.com'\n",
    "        return part1 + part2\n",
    "\n",
    "    @classmethod\n",
    "    def check_email(cls, email):\n",
    "        if cls.__is_email_str(email):\n",
    "            if '@' in email:\n",
    "                bool_check = (\n",
    "                    (set(email) & set(cls.letters + '@') == set(email)\n",
    "                     and email.count('@') == 1),\n",
    "                    len(email.split('@')[0]) < 101,\n",
    "                    len(email.split('@')[1]) < 51,\n",
    "                    '.' in email.split('@')[1],\n",
    "                    '..' not in email,\n",
    "                )\n",
    "                return sum(bool_check) == len(bool_check)\n",
    "        return False\n",
    "        \n",
    "    @staticmethod\n",
    "    def __is_email_str(email):\n",
    "        return type(email) == str\n",
    "\n",
    "\n",
    "res = EmailValidator.check_email(EmailValidator.get_random_email())\n",
    "res        "
   ]
  },
  {
   "cell_type": "code",
   "execution_count": 10,
   "id": "5ddd3255-155c-4b7c-939d-b492967392b4",
   "metadata": {},
   "outputs": [],
   "source": [
    "assert EmailValidator.check_email(f\"{'a' * 100}@{'b' * 45}.aaaa\") == True\n",
    "assert EmailValidator.check_email(\"i.like.this.course@my.stepik.domen.org\") == True\n",
    "assert EmailValidator.check_email('name.surname@mail.com') == True\n",
    "assert EmailValidator.check_email(1342) == False\n",
    "assert EmailValidator.check_email('a+a@m.c') == False\n",
    "assert EmailValidator.check_email('aabda..kkk@m.c') == False\n",
    "assert EmailValidator.check_email('aaaa@bbb..cc') == False\n",
    "assert EmailValidator.check_email(f\"{'a' * 100}@{'b' * 45}.aaaaa\") == False\n",
    "assert EmailValidator.check_email(f\"{'a' * 101}@{'b' * 45}.aaaa\") == False\n",
    "assert EmailValidator.check_email(f\"{'a'}@{'b' * 45}aaaa\") == False\n",
    "assert EmailValidator.check_email('name.surnamemail.com') == False\n",
    "assert EmailValidator.check_email('name@mail') == False"
   ]
  },
  {
   "cell_type": "code",
   "execution_count": null,
   "id": "ded98e3e-c791-4742-8e0f-e13b6d0013d9",
   "metadata": {},
   "outputs": [],
   "source": []
  }
 ],
 "metadata": {
  "kernelspec": {
   "display_name": "Python 3 (ipykernel)",
   "language": "python",
   "name": "python3"
  },
  "language_info": {
   "codemirror_mode": {
    "name": "ipython",
    "version": 3
   },
   "file_extension": ".py",
   "mimetype": "text/x-python",
   "name": "python",
   "nbconvert_exporter": "python",
   "pygments_lexer": "ipython3",
   "version": "3.12.1"
  }
 },
 "nbformat": 4,
 "nbformat_minor": 5
}
