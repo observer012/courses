{
 "cells": [
  {
   "cell_type": "markdown",
   "id": "509693a2-3c79-4ab9-afbc-b990eda817af",
   "metadata": {},
   "source": [
    "### 1.3 Классы и объекты"
   ]
  },
  {
   "cell_type": "markdown",
   "id": "587388db-0cf3-48e9-bf0e-67f0d9970cf7",
   "metadata": {},
   "source": [
    "Методы обращения к классу и его атрибутам\n",
    "- getattr(obj, name[, default]) - возвращаетзначение атриьута объекта;\n",
    "- hasattr(obj, name) - проверяет на наличие атрибута name в obj;\n",
    "- setattr(obj, name, value) - задает значение атрибута (если атрибут не существует, то он создаётся);\n",
    "- delattr(obj, name) - удаляет атрибут с именем name в obj\n",
    "\n",
    "Служебные команды\n",
    "- \\_\\_doc\\_\\_ - содержит строку с описанием класса;\n",
    "- \\_\\_dict\\_\\_ - содержит набор атрибутов экземпляра класса;"
   ]
  },
  {
   "cell_type": "markdown",
   "id": "3c87688a-ca9a-4c24-aec0-b3174d6b9d7f",
   "metadata": {},
   "source": [
    "    class Car:\n",
    "        mark = chevrolet\n",
    "        color = blue\n",
    "\n",
    "    Car.color\n",
    "    -> blue\n",
    "    \n",
    "    Car.color = yellow\n",
    "    Car.color\n",
    "    -> yellow"
   ]
  },
  {
   "cell_type": "code",
   "execution_count": null,
   "id": "c230e727-4340-4d5a-96ed-1e385da8d124",
   "metadata": {},
   "outputs": [],
   "source": [
    "def str_to_attr():\n",
    "    \"\"\"Преобразует атрибуты в задании к виду\n",
    "    аттрибутов для класса\"\"\"\n",
    "    def count_colon(el, count_col, count_quot_m, count_space):\n",
    "        # проверка на :\n",
    "        if el == ':':\n",
    "            count_col += 1\n",
    "            el = ' ='\n",
    "        # для игнорирования ' ' между \"\"    \n",
    "        if el == '\"' or el == \"'\":\n",
    "            count_quot_m += 1\n",
    "        # если : и не между \" \"\n",
    "        if count_col and count_quot_m % 2 == 0:\n",
    "            if el == ' ':\n",
    "                count_space += 1    \n",
    "                if count_space % 2 == 0:\n",
    "                    el = '\\n'\n",
    "                \n",
    "        return el, count_col, count_quot_m, count_space\n",
    "    \n",
    "    \n",
    "    task_str = input()\n",
    "    lines = ''\n",
    "    count_col = 0\n",
    "    count_quot_m = 0\n",
    "    count_space = 0\n",
    "    \n",
    "    print()\n",
    "    for i in range(len(task_str)):\n",
    "        el, count_col, count_quot_m, count_space = (\n",
    "            count_colon(task_str[i], count_col, count_quot_m, count_space)\n",
    "        )\n",
    "        \n",
    "        if el == '\\n':\n",
    "            print(4*' ' + lines)\n",
    "            lines = ''\n",
    "        else:\n",
    "            lines += el\n",
    "    else:\n",
    "        print(4*' ' + lines)\n",
    "\n",
    "\n",
    "str_to_attr()"
   ]
  },
  {
   "cell_type": "code",
   "execution_count": null,
   "id": "e8a58cea-bbf1-4ce1-85ea-6ee764a7b068",
   "metadata": {},
   "outputs": [],
   "source": [
    "class Car:\n",
    "    pass\n",
    "\n",
    "\n",
    "setattr(Car, 'model', 'Тойота')\n",
    "setattr(Car, 'color', 'Розовый')\n",
    "setattr(Car, 'number', 'П111УУ77')\n",
    "print(Car.__dict__['color'])"
   ]
  },
  {
   "cell_type": "code",
   "execution_count": null,
   "id": "ea765478-545a-45b8-87d0-04bcdd2e3150",
   "metadata": {},
   "outputs": [],
   "source": [
    "class Notes:\n",
    "    uid = 1005435\n",
    "    title = \"Шутка\"\n",
    "    author = \"И.С. Бах\"\n",
    "    pages = 2\n",
    "   \n",
    "print(getattr(Notes, 'author'))"
   ]
  },
  {
   "cell_type": "code",
   "execution_count": null,
   "id": "9d9ff300-02e1-44b2-a9b2-a5cadb32cd24",
   "metadata": {},
   "outputs": [],
   "source": [
    "class Dictionary: \n",
    "    rus = \"Питон\"\n",
    "    eng = \"Python\"\n",
    "\n",
    "print(getattr(Dictionary, 'rus_word', False))"
   ]
  },
  {
   "cell_type": "code",
   "execution_count": null,
   "id": "18c9fdd1-7f0b-4e91-80bf-27b266e9a045",
   "metadata": {},
   "outputs": [],
   "source": [
    "class TravelBlog:\n",
    "    total_blogs = 0\n",
    "\n",
    "tb1 = TravelBlog()\n",
    "setattr(tb1, 'name', 'Франция')\n",
    "setattr(tb1, 'days', 6)\n",
    "setattr(TravelBlog, 'total_blogs', 1)\n",
    "tb2 = TravelBlog()\n",
    "setattr(tb2, 'name', 'Италия')\n",
    "setattr(tb2, 'days', 5)\n",
    "TravelBlog.total_blogs += 1"
   ]
  },
  {
   "cell_type": "code",
   "execution_count": null,
   "id": "a9d73df8-5201-4e4a-8ca1-718105988eca",
   "metadata": {},
   "outputs": [],
   "source": [
    "class Figure:\n",
    "    type_fig = 'ellipse'\n",
    "    color = 'red'\n",
    "\n",
    "fig1 = Figure()\n",
    "setattr(fig1, 'start_pt', (10, 5))\n",
    "setattr(fig1, 'end_pt', (100, 20))\n",
    "setattr(fig1, 'color', 'blue')\n",
    "delattr(fig1, 'color')\n",
    "print(' '.join(fig1.__dict__.keys()))"
   ]
  },
  {
   "cell_type": "code",
   "execution_count": null,
   "id": "4a31ecc2-7060-4088-bc25-b9da50bdb1c5",
   "metadata": {},
   "outputs": [],
   "source": [
    "class Person:\n",
    "    name = 'Сергей Балакирев'\n",
    "    job = 'Программист'\n",
    "    city = 'Москва'\n",
    "\n",
    "p1 = Person()\n",
    "print('job' in p1.__dict__)"
   ]
  },
  {
   "cell_type": "code",
   "execution_count": null,
   "id": "6ff42ee5-4a00-4a42-8403-086a625778d5",
   "metadata": {},
   "outputs": [],
   "source": [
    "class Point:\n",
    "    tp = '1'\n",
    "\n",
    "del Point.tp"
   ]
  },
  {
   "cell_type": "code",
   "execution_count": null,
   "id": "e0168c78-4982-45fa-9335-d9e1a716ef4a",
   "metadata": {},
   "outputs": [],
   "source": [
    "Point.__dict__"
   ]
  },
  {
   "cell_type": "markdown",
   "id": "d820a3b9-fb66-49b8-9721-213bea891956",
   "metadata": {},
   "source": [
    "### 1.4 Методы классов"
   ]
  },
  {
   "cell_type": "markdown",
   "id": "a4c5d114-0e43-4cd8-86cf-188b55a49878",
   "metadata": {},
   "source": [
    "self"
   ]
  },
  {
   "cell_type": "code",
   "execution_count": null,
   "id": "8ff0bc9b-d4ce-4750-9a9a-a1b931f75a0f",
   "metadata": {},
   "outputs": [],
   "source": [
    "class MediaPlayer:\n",
    "    def open(self, file):\n",
    "        self.filename = file\n",
    "\n",
    "    \n",
    "    def play(self):\n",
    "        print(f'Воспроизведение {self.filename}')\n",
    "\n",
    "\n",
    "media1 = MediaPlayer()\n",
    "media2 = MediaPlayer()\n",
    "\n",
    "media1.open('filemedia1')\n",
    "media2.open('filemedia2')\n",
    "\n",
    "media1.play()\n",
    "media2.play()"
   ]
  },
  {
   "cell_type": "code",
   "execution_count": null,
   "id": "758a7a77-1177-494d-9d83-e11d2a44fe9c",
   "metadata": {},
   "outputs": [],
   "source": [
    "MediaPlayer.play(media1)"
   ]
  },
  {
   "cell_type": "markdown",
   "id": "c760dfe6-3bd5-486b-a040-bbafe7d35dd6",
   "metadata": {},
   "source": [
    "Задание 2"
   ]
  },
  {
   "cell_type": "code",
   "execution_count": null,
   "id": "0c36e14d-9bc3-422d-b635-8c4775f664b7",
   "metadata": {},
   "outputs": [],
   "source": [
    "class Graph:\n",
    "    LIMIT_Y = [0, 10]\n",
    "\n",
    "    \n",
    "    def set_data(self, data):\n",
    "        self.data = data\n",
    "\n",
    "    \n",
    "    def draw(self):\n",
    "        left, right = self.LIMIT_Y\n",
    "        res = filter(lambda x: left <= x <= right, self.data)\n",
    "        print(*res)\n",
    "\n",
    "\n",
    "graph_1 = Graph()\n",
    "graph_1.set_data([10, -5, 100, 20, 0, 80, 45, 2, 5, 7])\n",
    "graph_1.draw()"
   ]
  },
  {
   "cell_type": "code",
   "execution_count": 2,
   "id": "b1ef47b3-a313-4ea9-9767-96884bb5aa9a",
   "metadata": {},
   "outputs": [],
   "source": [
    "import sys\n",
    "\n",
    "class StreamData:\n",
    "    def create(self, fields, lst_values):\n",
    "        if len(fields) != len(lst_values):\n",
    "            return False\n",
    "\n",
    "        self.__dict__ = dict(zip(fields, lst_values))\n",
    "        return True\n",
    "\n",
    "        \n",
    "class StreamReader:\n",
    "    FIELDS = ('id', 'title', 'pages')\n",
    "\n",
    "    def readlines(self):\n",
    "        lst_in = list(map(str.strip, sys.stdin.readlines()))  # считывание списка строк из входного потока\n",
    "        sd = StreamData()\n",
    "        res = sd.create(self.FIELDS, lst_in)\n",
    "        return sd, res\n",
    "\n",
    "\n",
    "sr = StreamReader()\n",
    "data, result = sr.readlines()"
   ]
  },
  {
   "cell_type": "markdown",
   "id": "395ddb86-f822-4f74-96f4-531b1b9e43a7",
   "metadata": {},
   "source": [
    "Задание 4"
   ]
  },
  {
   "cell_type": "code",
   "execution_count": 11,
   "id": "b8ac9664-ed1b-4c27-8c36-af88193b04cb",
   "metadata": {},
   "outputs": [
    {
     "data": {
      "text/plain": [
       "[{'id': '2', 'name': 'Федор', 'old': '23', 'salary': '12000'},\n",
       " {'id': '3', 'name': 'Иван', 'old': '13', 'salary': '1200'}]"
      ]
     },
     "execution_count": 11,
     "metadata": {},
     "output_type": "execute_result"
    }
   ],
   "source": [
    "import sys\n",
    "\n",
    "# программу не менять, только добавить два метода\n",
    "lst_in = list(map(str.strip, sys.stdin.readlines()))  # считывание списка строк из входного потока\n",
    "lst_in = ['1 Сергей 35 120000', '2 Федор 23 12000', '3 Иван 13 1200']\n",
    "\n",
    "class DataBase:\n",
    "    lst_data = []\n",
    "    FIELDS = ('id', 'name', 'old', 'salary')\n",
    "\n",
    "    # здесь добавлять методы\n",
    "    def insert(self, data):\n",
    "        for el in data:\n",
    "            res = dict(zip(self.FIELDS, el.split()))\n",
    "            self.lst_data.append(res)\n",
    "\n",
    "\n",
    "    def select(self, a, b):\n",
    "        return self.lst_data[a:b+1]\n",
    "\n",
    "\n",
    "db = DataBase()\n",
    "db.insert(lst_in)\n",
    "db.select(1, 2)"
   ]
  },
  {
   "cell_type": "markdown",
   "id": "d808c08e-37b4-4543-afb8-584a7e32ba05",
   "metadata": {},
   "source": [
    "Задание 5. Переводчик"
   ]
  },
  {
   "cell_type": "markdown",
   "id": "0ad75215-de68-47d4-bd3a-a46cc6347ecd",
   "metadata": {},
   "source": [
    "Доработать, добавить БД для сохранения данных."
   ]
  },
  {
   "cell_type": "code",
   "execution_count": 15,
   "id": "ded719ff-bc80-4f58-b7dc-21839fd7598d",
   "metadata": {},
   "outputs": [
    {
     "name": "stdout",
     "output_type": "stream",
     "text": [
      "идти ехать ходить\n"
     ]
    }
   ],
   "source": [
    "class Translator:\n",
    "    def add(self, eng, rus):\n",
    "        if 'tr' not in self.__dict__:\n",
    "            self.tr = {}\n",
    "\n",
    "        self.tr.setdefault(eng, [])\n",
    "        if rus not in self.tr[eng]:\n",
    "            self.tr[eng].append(rus)\n",
    "            \n",
    "\n",
    "    def remove(self, eng):\n",
    "        self.tr.pop(eng, False)\n",
    "\n",
    "    \n",
    "    def translate(self, eng):\n",
    "        return self.tr[eng]\n",
    "\n",
    "\n",
    "tr = Translator()\n",
    "tr.add(\"tree\", \"дерево\")\n",
    "tr.add(\"car\", \"машина\")\n",
    "tr.add(\"car\", \"автомобиль\")\n",
    "tr.add(\"leaf\", \"лист\")\n",
    "tr.add(\"river\", \"река\")\n",
    "tr.add(\"go\", \"идти\")\n",
    "tr.add(\"go\", \"ехать\")\n",
    "tr.add(\"go\", \"ходить\")\n",
    "tr.add(\"milk\", \"молоко\")\n",
    "tr.remove('car')\n",
    "print(*tr.translate('go'))"
   ]
  },
  {
   "cell_type": "markdown",
   "id": "682019be-8d55-43c8-9ce3-a7d25945aeba",
   "metadata": {},
   "source": [
    "### 1.5 Инициализатор \\_\\_init\\_\\_ и финализатор \\_\\_del\\_\\_"
   ]
  },
  {
   "cell_type": "code",
   "execution_count": null,
   "id": "9e0973b8-755f-481c-a321-fa5301b0e534",
   "metadata": {},
   "outputs": [],
   "source": []
  }
 ],
 "metadata": {
  "kernelspec": {
   "display_name": "Python 3 (ipykernel)",
   "language": "python",
   "name": "python3"
  },
  "language_info": {
   "codemirror_mode": {
    "name": "ipython",
    "version": 3
   },
   "file_extension": ".py",
   "mimetype": "text/x-python",
   "name": "python",
   "nbconvert_exporter": "python",
   "pygments_lexer": "ipython3",
   "version": "3.12.1"
  }
 },
 "nbformat": 4,
 "nbformat_minor": 5
}
