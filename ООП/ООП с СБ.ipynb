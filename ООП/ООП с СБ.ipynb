{
 "cells": [
  {
   "cell_type": "markdown",
   "id": "509693a2-3c79-4ab9-afbc-b990eda817af",
   "metadata": {},
   "source": [
    "### 1.3 Классы и объекты"
   ]
  },
  {
   "cell_type": "markdown",
   "id": "587388db-0cf3-48e9-bf0e-67f0d9970cf7",
   "metadata": {},
   "source": [
    "Методы обращения к классу и его атрибутам\n",
    "- getattr(obj, name[, default]) - возвращает значение атрибута объекта;\n",
    "- hasattr(obj, name) - проверяет на наличие атрибута name в obj;\n",
    "- setattr(obj, name, value) - задает значение атрибута (если атрибут не существует, то он создаётся);\n",
    "- delattr(obj, name) - удаляет атрибут с именем name в obj\n",
    "\n",
    "Служебные команды\n",
    "- \\_\\_doc\\_\\_ - содержит строку с описанием класса;\n",
    "- \\_\\_dict\\_\\_ - содержит набор атрибутов экземпляра класса;"
   ]
  },
  {
   "cell_type": "markdown",
   "id": "3c87688a-ca9a-4c24-aec0-b3174d6b9d7f",
   "metadata": {},
   "source": [
    "    class Car:\n",
    "        mark = chevrolet\n",
    "        color = blue\n",
    "\n",
    "    Car.color\n",
    "    -> blue\n",
    "    \n",
    "    Car.color = yellow\n",
    "    Car.color\n",
    "    -> yellow"
   ]
  },
  {
   "cell_type": "code",
   "execution_count": null,
   "id": "c230e727-4340-4d5a-96ed-1e385da8d124",
   "metadata": {},
   "outputs": [],
   "source": [
    "def str_to_attr():\n",
    "    \"\"\"Преобразует атрибуты в задании к виду\n",
    "    аттрибутов для класса\"\"\"\n",
    "    def count_colon(el, count_col, count_quot_m, count_space):\n",
    "        # проверка на :\n",
    "        if el == ':':\n",
    "            count_col += 1\n",
    "            el = ' ='\n",
    "        # для игнорирования ' ' между \"\"    \n",
    "        if el == '\"' or el == \"'\":\n",
    "            count_quot_m += 1\n",
    "        # если : и не между \" \"\n",
    "        if count_col and count_quot_m % 2 == 0:\n",
    "            if el == ' ':\n",
    "                count_space += 1    \n",
    "                if count_space % 2 == 0:\n",
    "                    el = '\\n'\n",
    "                \n",
    "        return el, count_col, count_quot_m, count_space\n",
    "    \n",
    "    \n",
    "    task_str = input()\n",
    "    lines = ''\n",
    "    count_col = 0\n",
    "    count_quot_m = 0\n",
    "    count_space = 0\n",
    "    \n",
    "    print()\n",
    "    for i in range(len(task_str)):\n",
    "        el, count_col, count_quot_m, count_space = (\n",
    "            count_colon(task_str[i], count_col, count_quot_m, count_space)\n",
    "        )\n",
    "        \n",
    "        if el == '\\n':\n",
    "            print(4*' ' + lines)\n",
    "            lines = ''\n",
    "        else:\n",
    "            lines += el\n",
    "    else:\n",
    "        print(4*' ' + lines)\n",
    "\n",
    "\n",
    "str_to_attr()"
   ]
  },
  {
   "cell_type": "code",
   "execution_count": null,
   "id": "e8a58cea-bbf1-4ce1-85ea-6ee764a7b068",
   "metadata": {},
   "outputs": [],
   "source": [
    "class Car:\n",
    "    pass\n",
    "\n",
    "\n",
    "setattr(Car, 'model', 'Тойота')\n",
    "setattr(Car, 'color', 'Розовый')\n",
    "setattr(Car, 'number', 'П111УУ77')\n",
    "print(Car.__dict__['color'])"
   ]
  },
  {
   "cell_type": "code",
   "execution_count": null,
   "id": "ea765478-545a-45b8-87d0-04bcdd2e3150",
   "metadata": {},
   "outputs": [],
   "source": [
    "class Notes:\n",
    "    uid = 1005435\n",
    "    title = \"Шутка\"\n",
    "    author = \"И.С. Бах\"\n",
    "    pages = 2\n",
    "   \n",
    "print(getattr(Notes, 'author'))"
   ]
  },
  {
   "cell_type": "code",
   "execution_count": null,
   "id": "9d9ff300-02e1-44b2-a9b2-a5cadb32cd24",
   "metadata": {},
   "outputs": [],
   "source": [
    "class Dictionary: \n",
    "    rus = \"Питон\"\n",
    "    eng = \"Python\"\n",
    "\n",
    "print(getattr(Dictionary, 'rus_word', False))"
   ]
  },
  {
   "cell_type": "code",
   "execution_count": null,
   "id": "18c9fdd1-7f0b-4e91-80bf-27b266e9a045",
   "metadata": {},
   "outputs": [],
   "source": [
    "class TravelBlog:\n",
    "    total_blogs = 0\n",
    "\n",
    "tb1 = TravelBlog()\n",
    "setattr(tb1, 'name', 'Франция')\n",
    "setattr(tb1, 'days', 6)\n",
    "setattr(TravelBlog, 'total_blogs', 1)\n",
    "tb2 = TravelBlog()\n",
    "setattr(tb2, 'name', 'Италия')\n",
    "setattr(tb2, 'days', 5)\n",
    "TravelBlog.total_blogs += 1"
   ]
  },
  {
   "cell_type": "code",
   "execution_count": null,
   "id": "a9d73df8-5201-4e4a-8ca1-718105988eca",
   "metadata": {},
   "outputs": [],
   "source": [
    "class Figure:\n",
    "    type_fig = 'ellipse'\n",
    "    color = 'red'\n",
    "\n",
    "fig1 = Figure()\n",
    "setattr(fig1, 'start_pt', (10, 5))\n",
    "setattr(fig1, 'end_pt', (100, 20))\n",
    "setattr(fig1, 'color', 'blue')\n",
    "delattr(fig1, 'color')\n",
    "print(' '.join(fig1.__dict__.keys()))"
   ]
  },
  {
   "cell_type": "code",
   "execution_count": null,
   "id": "4a31ecc2-7060-4088-bc25-b9da50bdb1c5",
   "metadata": {},
   "outputs": [],
   "source": [
    "class Person:\n",
    "    name = 'Сергей Балакирев'\n",
    "    job = 'Программист'\n",
    "    city = 'Москва'\n",
    "\n",
    "p1 = Person()\n",
    "print('job' in p1.__dict__)"
   ]
  },
  {
   "cell_type": "code",
   "execution_count": null,
   "id": "6ff42ee5-4a00-4a42-8403-086a625778d5",
   "metadata": {},
   "outputs": [],
   "source": [
    "class Point:\n",
    "    tp = '1'\n",
    "\n",
    "del Point.tp"
   ]
  },
  {
   "cell_type": "code",
   "execution_count": null,
   "id": "e0168c78-4982-45fa-9335-d9e1a716ef4a",
   "metadata": {},
   "outputs": [],
   "source": [
    "Point.__dict__"
   ]
  },
  {
   "cell_type": "markdown",
   "id": "d820a3b9-fb66-49b8-9721-213bea891956",
   "metadata": {},
   "source": [
    "### 1.4 Методы классов"
   ]
  },
  {
   "cell_type": "markdown",
   "id": "a4c5d114-0e43-4cd8-86cf-188b55a49878",
   "metadata": {},
   "source": [
    "self"
   ]
  },
  {
   "cell_type": "code",
   "execution_count": null,
   "id": "8ff0bc9b-d4ce-4750-9a9a-a1b931f75a0f",
   "metadata": {},
   "outputs": [],
   "source": [
    "class MediaPlayer:\n",
    "    def open(self, file):\n",
    "        self.filename = file\n",
    "\n",
    "    \n",
    "    def play(self):\n",
    "        print(f'Воспроизведение {self.filename}')\n",
    "\n",
    "\n",
    "media1 = MediaPlayer()\n",
    "media2 = MediaPlayer()\n",
    "\n",
    "media1.open('filemedia1')\n",
    "media2.open('filemedia2')\n",
    "\n",
    "media1.play()\n",
    "media2.play()"
   ]
  },
  {
   "cell_type": "code",
   "execution_count": null,
   "id": "758a7a77-1177-494d-9d83-e11d2a44fe9c",
   "metadata": {},
   "outputs": [],
   "source": [
    "MediaPlayer.play(media1)"
   ]
  },
  {
   "cell_type": "markdown",
   "id": "c760dfe6-3bd5-486b-a040-bbafe7d35dd6",
   "metadata": {},
   "source": [
    "Задание 2"
   ]
  },
  {
   "cell_type": "code",
   "execution_count": null,
   "id": "0c36e14d-9bc3-422d-b635-8c4775f664b7",
   "metadata": {},
   "outputs": [],
   "source": [
    "class Graph:\n",
    "    LIMIT_Y = [0, 10]\n",
    "\n",
    "    \n",
    "    def set_data(self, data):\n",
    "        self.data = data\n",
    "\n",
    "    \n",
    "    def draw(self):\n",
    "        left, right = self.LIMIT_Y\n",
    "        res = filter(lambda x: left <= x <= right, self.data)\n",
    "        print(*res)\n",
    "\n",
    "\n",
    "graph_1 = Graph()\n",
    "graph_1.set_data([10, -5, 100, 20, 0, 80, 45, 2, 5, 7])\n",
    "graph_1.draw()"
   ]
  },
  {
   "cell_type": "code",
   "execution_count": null,
   "id": "b1ef47b3-a313-4ea9-9767-96884bb5aa9a",
   "metadata": {},
   "outputs": [],
   "source": [
    "import sys\n",
    "\n",
    "class StreamData:\n",
    "    def create(self, fields, lst_values):\n",
    "        if len(fields) != len(lst_values):\n",
    "            return False\n",
    "\n",
    "        self.__dict__ = dict(zip(fields, lst_values))\n",
    "        return True\n",
    "\n",
    "        \n",
    "class StreamReader:\n",
    "    FIELDS = ('id', 'title', 'pages')\n",
    "\n",
    "    def readlines(self):\n",
    "        lst_in = list(map(str.strip, sys.stdin.readlines()))  # считывание списка строк из входного потока\n",
    "        sd = StreamData()\n",
    "        res = sd.create(self.FIELDS, lst_in)\n",
    "        return sd, res\n",
    "\n",
    "\n",
    "sr = StreamReader()\n",
    "data, result = sr.readlines()"
   ]
  },
  {
   "cell_type": "markdown",
   "id": "395ddb86-f822-4f74-96f4-531b1b9e43a7",
   "metadata": {},
   "source": [
    "Задание 4"
   ]
  },
  {
   "cell_type": "code",
   "execution_count": null,
   "id": "b8ac9664-ed1b-4c27-8c36-af88193b04cb",
   "metadata": {},
   "outputs": [],
   "source": [
    "import sys\n",
    "\n",
    "# программу не менять, только добавить два метода\n",
    "lst_in = list(map(str.strip, sys.stdin.readlines()))  # считывание списка строк из входного потока\n",
    "lst_in = ['1 Сергей 35 120000', '2 Федор 23 12000', '3 Иван 13 1200']\n",
    "\n",
    "class DataBase:\n",
    "    lst_data = []\n",
    "    FIELDS = ('id', 'name', 'old', 'salary')\n",
    "\n",
    "    # здесь добавлять методы\n",
    "    def insert(self, data):\n",
    "        for el in data:\n",
    "            res = dict(zip(self.FIELDS, el.split()))\n",
    "            self.lst_data.append(res)\n",
    "\n",
    "\n",
    "    def select(self, a, b):\n",
    "        return self.lst_data[a:b+1]\n",
    "\n",
    "\n",
    "db = DataBase()\n",
    "db.insert(lst_in)\n",
    "db.select(1, 2)"
   ]
  },
  {
   "cell_type": "markdown",
   "id": "d808c08e-37b4-4543-afb8-584a7e32ba05",
   "metadata": {},
   "source": [
    "Задание 5. Переводчик"
   ]
  },
  {
   "cell_type": "markdown",
   "id": "0ad75215-de68-47d4-bd3a-a46cc6347ecd",
   "metadata": {},
   "source": [
    "Доработать, добавить БД для сохранения данных."
   ]
  },
  {
   "cell_type": "code",
   "execution_count": null,
   "id": "ded719ff-bc80-4f58-b7dc-21839fd7598d",
   "metadata": {},
   "outputs": [],
   "source": [
    "class Translator:\n",
    "    def add(self, eng, rus):\n",
    "        if 'tr' not in self.__dict__:\n",
    "            self.tr = {}\n",
    "\n",
    "        self.tr.setdefault(eng, [])\n",
    "        if rus not in self.tr[eng]:\n",
    "            self.tr[eng].append(rus)\n",
    "            \n",
    "\n",
    "    def remove(self, eng):\n",
    "        self.tr.pop(eng, False)\n",
    "\n",
    "    \n",
    "    def translate(self, eng):\n",
    "        return self.tr[eng]\n",
    "\n",
    "\n",
    "tr = Translator()\n",
    "tr.add(\"tree\", \"дерево\")\n",
    "tr.add(\"car\", \"машина\")\n",
    "tr.add(\"car\", \"автомобиль\")\n",
    "tr.add(\"leaf\", \"лист\")\n",
    "tr.add(\"river\", \"река\")\n",
    "tr.add(\"go\", \"идти\")\n",
    "tr.add(\"go\", \"ехать\")\n",
    "tr.add(\"go\", \"ходить\")\n",
    "tr.add(\"milk\", \"молоко\")\n",
    "tr.remove('car')\n",
    "print(*tr.translate('go'))"
   ]
  },
  {
   "cell_type": "markdown",
   "id": "682019be-8d55-43c8-9ce3-a7d25945aeba",
   "metadata": {},
   "source": [
    "### 1.5 Инициализатор \\_\\_init\\_\\_ и финализатор \\_\\_del\\_\\_"
   ]
  },
  {
   "cell_type": "code",
   "execution_count": null,
   "id": "9e0973b8-755f-481c-a321-fa5301b0e534",
   "metadata": {},
   "outputs": [],
   "source": [
    "import sqlite3"
   ]
  },
  {
   "cell_type": "code",
   "execution_count": null,
   "id": "c485a6fd-96b9-4b5f-b9cb-f1fdab330a64",
   "metadata": {},
   "outputs": [],
   "source": [
    "conn = sqlite3.connect('example.db')\n",
    "cursor = conn.cursor()\n"
   ]
  },
  {
   "cell_type": "code",
   "execution_count": null,
   "id": "52c39988-8e47-421a-abee-95ad04ca507f",
   "metadata": {},
   "outputs": [],
   "source": [
    "class Point:\n",
    "    color = 'red'\n",
    "    circle = 2\n",
    "\n",
    "    def __init__(self):\n",
    "        print('вызов __init__')\n",
    "        self.x = 0\n",
    "        self.y = 0\n",
    "\n",
    "    def set_coords(self, x, y):\n",
    "        self.x = x\n",
    "        self.y = y\n",
    "\n",
    "    def get_coords(self):\n",
    "        return self.x, self.y\n",
    "\n",
    "\n",
    "pt = Point()\n",
    "pt.set_coords(1, 2)\n",
    "print(pt.__dict__)"
   ]
  },
  {
   "cell_type": "code",
   "execution_count": null,
   "id": "735d11b4-4e30-4dcd-92ef-46309302e4f3",
   "metadata": {},
   "outputs": [],
   "source": [
    "class Point:\n",
    "    def __init__(self, x, y, color='black'):\n",
    "        self.x = x\n",
    "        self.y = y\n",
    "        self.color = color\n",
    "\n",
    "points = []\n",
    "for num, i in enumerate(range(1, 2000, 2), 1):\n",
    "    points.append(Point(i, i))\n",
    "\n",
    "points[1].color = 'yellow'"
   ]
  },
  {
   "cell_type": "code",
   "execution_count": null,
   "id": "77102e94-7069-401b-8bfc-b698fa771dec",
   "metadata": {},
   "outputs": [],
   "source": [
    "points[1].color"
   ]
  },
  {
   "cell_type": "markdown",
   "id": "a2d6a203-09f2-44a9-8888-37921d8bc1e6",
   "metadata": {},
   "source": [
    "Задание 4"
   ]
  },
  {
   "cell_type": "code",
   "execution_count": null,
   "id": "4446d54f-a05e-4a31-b6eb-1e5c51dcc10a",
   "metadata": {},
   "outputs": [],
   "source": [
    "import random\n",
    "\n",
    "class Line:\n",
    "    def __init__(self, a, b, c, d):\n",
    "        self.sp = a, b,\n",
    "        self.ep = c, d,\n",
    "\n",
    "\n",
    "class Rect:\n",
    "    def __init__(self, a, b, c, d):\n",
    "        self.sp = a, b,\n",
    "        self.ep = c, d,\n",
    "\n",
    "\n",
    "class Ellipse:\n",
    "    def __init__(self, a, b, c, d):\n",
    "        self.sp = a, b,\n",
    "        self.ep = c, d,        \n",
    "\n",
    "\n",
    "def add_obj():\n",
    "    coords = [random.randint(-100, 100) for i in range(4)]\n",
    "    return random.choice([Line, Rect, Ellipse])(*coords)\n",
    "\n",
    "\n",
    "def line_to_zero(obj):\n",
    "    if type(obj).__name__ == 'Line':\n",
    "        obj.__init__(0, 0, 0, 0)\n",
    "    return obj    \n",
    "\n",
    "\n",
    "elements = [add_obj() for i in range(217)]\n",
    "elements = [line_to_zero(el) for el in elements]"
   ]
  },
  {
   "cell_type": "markdown",
   "id": "e639f775-17cc-41f3-ab01-bdbad3888307",
   "metadata": {},
   "source": [
    "Подвиг 5"
   ]
  },
  {
   "cell_type": "code",
   "execution_count": null,
   "id": "99341f51-49a7-46fa-9c62-8945365f81af",
   "metadata": {},
   "outputs": [],
   "source": [
    "class TriangleChecker:\n",
    "    def __init__(self, a, b, c):\n",
    "        self.a = a\n",
    "        self.b = b\n",
    "        self.c = c\n",
    "\n",
    "        \n",
    "    def is_triangle(self):\n",
    "        lst = [self.a, self.b, self.c]\n",
    "        # 1\n",
    "        for el in lst:\n",
    "            if (\n",
    "                type(el) != int and\n",
    "                type(el) != float\n",
    "            ):\n",
    "                return 1\n",
    "            elif el <= 0:\n",
    "                return 1\n",
    "        # 2, 3\n",
    "        if (self.a + self.b > self.c and\n",
    "            self.b + self.c > self.a and\n",
    "            self.a + self.c > self.b):  \n",
    "            return 3\n",
    "        else:\n",
    "            return 2\n",
    "\n",
    "\n",
    "a, b, c = map(int, input().split())        \n",
    "tr = TriangleChecker(a, b, c)\n",
    "print(tr.is_triangle())"
   ]
  },
  {
   "cell_type": "code",
   "execution_count": null,
   "id": "8543ff46-7836-428f-b0e1-619312a612e4",
   "metadata": {},
   "outputs": [],
   "source": [
    "tests = [[3, 4, 5], [5, 4, 3], [4, 3, 5], [1, 1, 1], [1, 7, 8]]\n",
    "for el in tests:\n",
    "    tr_t = TriangleChecker(*el)\n",
    "    print(tr_t.is_triangle())"
   ]
  },
  {
   "cell_type": "markdown",
   "id": "1e09d0e0-263c-4e14-b888-27a52bef5725",
   "metadata": {},
   "source": [
    "Подвиг 6"
   ]
  },
  {
   "cell_type": "code",
   "execution_count": null,
   "id": "d895aee6-20a9-4f31-948a-e6cbe8c15bd0",
   "metadata": {},
   "outputs": [],
   "source": [
    "class Graph:\n",
    "    def __init__(self, data, is_show=True):\n",
    "        self.data = data.copy()\n",
    "        self.is_show = is_show\n",
    "\n",
    "\n",
    "    def set_data(self, data):\n",
    "        self.data = data.copy()\n",
    "\n",
    "\n",
    "    def show_table(self):\n",
    "        if self.is_show:\n",
    "            print(*self.data)\n",
    "        else:\n",
    "            print('Отображение данных закрыто')\n",
    "        \n",
    "\n",
    "    def show_graph(self):\n",
    "        if self.is_show:\n",
    "            print(f'Графическое отображение данных: {self.data}')\n",
    "        else:\n",
    "            print('Отображение данных закрыто')\n",
    "\n",
    "    \n",
    "    def show_bar(self):\n",
    "        if self.is_show:\n",
    "            print('Столбчатая диаграмма:', *self.data)\n",
    "        else:\n",
    "            print('Отображение данных закрыто')\n",
    "\n",
    "    \n",
    "    def set_show(self, fl_show):\n",
    "        self.is_show = fl_show\n",
    "\n",
    "\n",
    "# data_graph = list(map(int, input().split()))\n",
    "data_graph = [8, 11, 10, -32, 0, 7, 18]\n",
    "gr = Graph(data_graph)\n",
    "gr.show_bar()\n",
    "gr.set_show(fl_show=False)\n",
    "gr.show_table()"
   ]
  },
  {
   "cell_type": "markdown",
   "id": "6c5c97b1-e16a-4788-9dae-6a38dc400dd0",
   "metadata": {},
   "source": [
    "Подвиг 7"
   ]
  },
  {
   "cell_type": "code",
   "execution_count": null,
   "id": "b0278bae-01e9-419a-9a37-7c56b5c639c1",
   "metadata": {},
   "outputs": [],
   "source": [
    "class CPU:\n",
    "    def __init__(self, name, fr):\n",
    "        self.name = name\n",
    "        self.fr = fr    \n",
    "    \n",
    "    \n",
    "class Memory:\n",
    "    def __init__(self, name, volume):\n",
    "        self.name = name\n",
    "        self.volume = volume\n",
    "        \n",
    "    \n",
    "class MotherBoard:\n",
    "    def __init__(self, name, cpu, mem_slots):\n",
    "        self.name = name\n",
    "        self.cpu = cpu\n",
    "        self.total_mem_slots = 4\n",
    "        self.mem_slots = mem_slots\n",
    "\n",
    "\n",
    "    def get_config(self):\n",
    "        lst = [f'{mem.name} - {mem.volume}' for mem in self.mem_slots]\n",
    "        return [f'Материнская плата: {self.name}',\n",
    "                f'Центральный процессор: {self.cpu.name}, {self.cpu.fr}',\n",
    "                f'Слотов памяти: {self.total_mem_slots}',\n",
    "                f'Память: {\"; \".join(lst)}'\n",
    "                \n",
    "               ]\n",
    "\n",
    "cpu = CPU('asus', 3333)\n",
    "mem1 = Memory('Kingston', 6777)\n",
    "mem2 = Memory('Kingston', 6777)\n",
    "mb = MotherBoard('Aurus', cpu, [mem1, mem2])\n",
    "mb.get_config()"
   ]
  },
  {
   "cell_type": "markdown",
   "id": "c70d75a0-a23b-4e31-8aff-17cc6e8766b1",
   "metadata": {},
   "source": [
    "Подвиг 8"
   ]
  },
  {
   "cell_type": "code",
   "execution_count": null,
   "id": "0949eb80-dc80-4577-a89e-c69cce023961",
   "metadata": {},
   "outputs": [],
   "source": [
    "class Cart:\n",
    "    def __init__(self, goods=[]):\n",
    "        self.goods = goods\n",
    "\n",
    "\n",
    "    def add(self, gb):\n",
    "        self.goods.append(gb)\n",
    "\n",
    "    \n",
    "    def remove(self, indx):\n",
    "        self.goods.pop(indx)\n",
    "\n",
    "\n",
    "    def get_list(self):\n",
    "        return [f\"{product.name}: {product.price}\" for product in self.goods]\n",
    "        \n",
    "\n",
    "class Table:\n",
    "    def __init__(self, name, price):\n",
    "        self.name = name\n",
    "        self.price = price\n",
    "        \n",
    "    \n",
    "class TV:\n",
    "    def __init__(self, name, price):\n",
    "        self.name = name\n",
    "        self.price = price\n",
    "\n",
    "\n",
    "class Notebook:\n",
    "    def __init__(self, name, price):\n",
    "        self.name = name\n",
    "        self.price = price\n",
    "\n",
    "\n",
    "class Cup:\n",
    "    def __init__(self, name, price):\n",
    "        self.name = name\n",
    "        self.price = price\n",
    "\n",
    "\n",
    "tv1 = TV('Samsung', 23000)\n",
    "tv2 = TV('Philips', 23500)\n",
    "table = Table('Atlant', 7000)\n",
    "notebook1 = Notebook('Asus', 125000)\n",
    "notebook2 = Notebook('Dell', 120000)\n",
    "cup = Cup('Sun', 230)\n",
    "\n",
    "cart = Cart()\n",
    "for el in [tv1, tv2, table, notebook1, notebook2, cup]:\n",
    "    cart.add(el)\n",
    "\n",
    "cart.get_list()    "
   ]
  },
  {
   "cell_type": "markdown",
   "id": "b0632362-8e1e-4036-9a41-39ecc1440d38",
   "metadata": {},
   "source": [
    "Подвиг 9 "
   ]
  },
  {
   "cell_type": "code",
   "execution_count": null,
   "id": "fc7e70a9-e565-4872-bf41-40a24068ecba",
   "metadata": {},
   "outputs": [],
   "source": [
    "class ListObject:\n",
    "    \n",
    "    def __init__(self, data, next_obj=None):\n",
    "        self.data = data\n",
    "        self.next_obj = next_obj\n",
    "\n",
    "    def link(self, obj):\n",
    "        self.next_obj = obj\n",
    "\n",
    "\n",
    "lst_in = ['1. Первые шаги в ООП',\n",
    "          '1.1 Как правильно проходить этот курс',\n",
    "          '1.2 Концепция ООП простыми словами',\n",
    "          '1.3 Классы и объекты. Атрибуты классов и объектов',\n",
    "          '1.4 Методы классов. Параметр self',\n",
    "          '1.5 Инициализатор init и финализатор del',\n",
    "          '1.6 Магический метод new. Пример паттерна Singleton',\n",
    "          '1.7 Методы класса (classmethod) и статические методы (staticmethod)']    \n",
    "\n",
    "head_obj = ListObject(lst_in[0], next_obj=ListObject(lst_in[1]))\n",
    "any_obj = head_obj.next_obj\n",
    "# next_obj = ListObject.next_obj\n",
    "\n",
    "# current = 0\n",
    "# following = 1\n",
    "\n",
    "# def res(current=0, following=1):\n",
    "#     head_obj = ListObject(lst_in[current], ListObject(lst_in[following]))\n",
    "#     if following < len(lst_in):\n",
    "#         current += 1\n",
    "#         following += 1\n",
    "#         res(current, following)\n",
    "        \n",
    "#     return head_obj\n",
    "print(any_obj.__dict__)\n",
    "for i in range(1, len(lst_in) - 1):\n",
    "    any_obj.link(ListObject(lst_in[i+1]))\n",
    "    any_obj = any_obj.next_obj\n",
    "    print(any_obj.__dict__)\n",
    "    # var = lst_in[i+2] if i+2 <= len(lst_in) else None\n",
    "    "
   ]
  },
  {
   "cell_type": "code",
   "execution_count": null,
   "id": "bf95134b-89c7-4e1e-ba13-07db95ca65b1",
   "metadata": {},
   "outputs": [],
   "source": [
    "head_obj = ListObject(lst_in[0], next_obj=ListObject(lst_in[1]))\n",
    "head_obj.next_obj.link(ListObject(lst_in[2]))\n",
    "head_obj.next_obj.next_obj.link(ListObject(lst_in[3]))"
   ]
  },
  {
   "cell_type": "code",
   "execution_count": null,
   "id": "192d7378-db89-4cfd-8d9e-df101f4da2ea",
   "metadata": {},
   "outputs": [],
   "source": [
    "head_obj = ListObject(lst_in[0], next_obj=ListObject(lst_in[1]))\n",
    "any_obj = head_obj.next_obj\n",
    "\n",
    "for i in range(1, 6):\n",
    "    any_obj.link(ListObject(lst_in[i+1]))\n",
    "    any_obj = any_obj.next_obj\n"
   ]
  },
  {
   "cell_type": "markdown",
   "id": "c4622b59-6772-42b4-abd2-656f1b29ebe7",
   "metadata": {},
   "source": [
    "Большой подвиг 10. Написать Сапёр"
   ]
  },
  {
   "cell_type": "code",
   "execution_count": null,
   "id": "449db6d4-6695-4897-b109-6b41c45af6af",
   "metadata": {},
   "outputs": [],
   "source": [
    "from random import randint\n",
    "\n",
    "class Cell:\n",
    "    def __init__(self, mine=False, around_mines=0, fl_open=False):\n",
    "        self.around_mines = around_mines\n",
    "        self.mine = mine\n",
    "        self.fl_open = fl_open\n",
    "    \n",
    "\n",
    "class GamePole:\n",
    "    def __init__(self, N, M):\n",
    "        self.N = N\n",
    "        self.M = M\n",
    "        self.init()\n",
    "\n",
    "        \n",
    "    def init(self):\n",
    "        # creating mine coordinates\n",
    "        self.mines_positions = self.create_mine_coords()\n",
    "        # creating pole\n",
    "        self.pole = self.create_game_pole()\n",
    "\n",
    "\n",
    "    def create_mine_coords(self):\n",
    "        M, N = self.M, self.N\n",
    "        mines_positions = set()\n",
    "        while len(mines_positions) < M:\n",
    "            mines_positions.add(tuple(map(randint, [0, 0], [N-1, N-1])))\n",
    "        return mines_positions\n",
    "\n",
    "\n",
    "    def create_game_pole(self):\n",
    "        N = self.N\n",
    "        mines_positions = self.mines_positions\n",
    "        game_pole = []\n",
    "        for i in range(N):\n",
    "            line = []\n",
    "            for j in range(N):\n",
    "                mine = False\n",
    "                if (i, j) in mines_positions:\n",
    "                    mine = True\n",
    "                around_mines = self.how_mines((i, j), mines_positions)\n",
    "                c1 = Cell(mine, around_mines)\n",
    "                line.append(c1)\n",
    "            game_pole.append(line)\n",
    "                    \n",
    "        return game_pole\n",
    "\n",
    "    \n",
    "    def how_mines(self, cell_coord, mines_positions, cube=3):\n",
    "        #benchmark\n",
    "        bm = cell_coord[0] - 1, cell_coord[1] - 1\n",
    "        \n",
    "        around_mines = 0\n",
    "        for i in range(bm[0], cube+bm[0]):\n",
    "            for j in range(bm[1], cube+bm[1]):\n",
    "                if (i, j) != cell_coord:\n",
    "                    if (i, j) in mines_positions:\n",
    "                        around_mines += 1\n",
    "    \n",
    "        return around_mines\n",
    "\n",
    "    \n",
    "    def play(self):\n",
    "        N = self.N\n",
    "        print('Если хотите прекратить игру, наберите n')\n",
    "        print(f'Введите координаты в диапазоне:\\n'\n",
    "              f'x: 1-{N}\\n'\n",
    "              f'y: 1-{N}\\n'\n",
    "             )\n",
    "        self.show()\n",
    "        while True:\n",
    "            user_request = input()\n",
    "            if user_request != 'n':\n",
    "                x, y = map(int, user_request.split())\n",
    "                pole_game.pole[x-1][y-1].fl_open = True\n",
    "                self.show()\n",
    "                if pole_game.pole[x-1][y-1].mine == True:\n",
    "                    print('Game over')\n",
    "                    break\n",
    "            else:\n",
    "                break\n",
    "        \n",
    "            \n",
    "    def show(self):\n",
    "        for line in self.pole:\n",
    "            for el in line:\n",
    "                if el.fl_open == False:\n",
    "                    print('#', end=' ')\n",
    "                elif el.fl_open == True: \n",
    "                    print(['*', el.around_mines][el.mine == False], end=' ')\n",
    "            print('')\n",
    "            \n",
    "\n",
    "N = 10\n",
    "M = 12\n",
    "pole_game = GamePole(N, M)\n",
    "# pole_game.show()"
   ]
  },
  {
   "cell_type": "code",
   "execution_count": null,
   "id": "bc3af747-9ee0-4430-8402-2443b58e8c66",
   "metadata": {},
   "outputs": [],
   "source": [
    "# pole_game.play()"
   ]
  },
  {
   "cell_type": "markdown",
   "id": "e49ce11c-60c8-4ba8-87f6-ed5bd50b91ce",
   "metadata": {},
   "source": [
    "### 1.6 Магический метод \\_\\_new\\_\\_"
   ]
  },
  {
   "cell_type": "code",
   "execution_count": 2,
   "id": "01b38ebb-43b0-45af-8aa4-25cbfa928db2",
   "metadata": {},
   "outputs": [
    {
     "name": "stdout",
     "output_type": "stream",
     "text": [
      "вызов __new__ для <class '__main__.Point'>\n",
      "None\n"
     ]
    }
   ],
   "source": [
    "class Point:\n",
    "    def __new__(cls, *args, **kwargs):\n",
    "        print('вызов __new__ для ' + str(cls))\n",
    "\n",
    "\n",
    "    def __init__(self, x=0, y=0):\n",
    "        print('вызов __init__ для ' + str(self))\n",
    "        self.x = x\n",
    "        self.y = y\n",
    "\n",
    "\n",
    "pt = Point(1, 2)\n",
    "print(pt)"
   ]
  },
  {
   "attachments": {},
   "cell_type": "markdown",
   "id": "edd4c19d-e9ca-4f18-a1b3-7b8027a9bc5c",
   "metadata": {},
   "source": [
    "Что проитсходит:\n",
    "* cls ссылается на класс\n",
    "* init ссылается на экземпляр класса\n",
    "* в такой конструкции при создании экземпляра класса, pt не ссылается на экземпляр\n",
    "\n",
    "Что делать?\n",
    "* \\_\\_new\\_\\_ должен возвращать адрес нового созданного объекта\n",
    "* вернем адрес нового созданного объекта из **базового класса**\n",
    "* `super().__new__(cls)`"
   ]
  },
  {
   "cell_type": "code",
   "execution_count": 3,
   "id": "6e2b04f7-bf40-43dc-a3f7-8a2cf75c0523",
   "metadata": {},
   "outputs": [
    {
     "name": "stdout",
     "output_type": "stream",
     "text": [
      "вызов __new__ для <class '__main__.Point'>\n",
      "вызов __init__ для <__main__.Point object at 0x0000016A6A509730>\n",
      "<__main__.Point object at 0x0000016A6A509730>\n"
     ]
    }
   ],
   "source": [
    "class Point:\n",
    "    def __new__(cls, *args, **kwargs):\n",
    "        print('вызов __new__ для ' + str(cls))\n",
    "        return super().__new__(cls)\n",
    "\n",
    "    def __init__(self, x=0, y=0):\n",
    "        print('вызов __init__ для ' + str(self))\n",
    "        self.x = x\n",
    "        self.y = y\n",
    "\n",
    "\n",
    "pt = Point(1, 2)\n",
    "print(pt)"
   ]
  },
  {
   "attachments": {
    "164be4f7-7121-4064-a636-8e430d6b79a8.png": {
     "image/png": "[encoded data removed]"
    }
   },
   "cell_type": "markdown",
   "id": "c48d6ead-3b4f-4bac-9bb0-4167a35882d5",
   "metadata": {},
   "source": [
    "![image.png](attachment:164be4f7-7121-4064-a636-8e430d6b79a8.png)"
   ]
  },
  {
   "cell_type": "markdown",
   "id": "f2102099-2ed4-45fa-a719-4a28a833ca38",
   "metadata": {},
   "source": [
    "с версии Python 3.0 все классы автоматически и не явно наследуются от базового класса object"
   ]
  },
  {
   "cell_type": "markdown",
   "id": "c5cad8d5-5f91-409e-8140-a87a12e115d0",
   "metadata": {},
   "source": [
    "Подвиг 6"
   ]
  },
  {
   "cell_type": "code",
   "execution_count": 4,
   "id": "6c9c9db5-9a0c-4350-beef-1eae382c4975",
   "metadata": {},
   "outputs": [
    {
     "data": {
      "text/plain": [
       "'Ошибка: нельзя создавать объекты абстрактного класса'"
      ]
     },
     "execution_count": 4,
     "metadata": {},
     "output_type": "execute_result"
    }
   ],
   "source": [
    "class AbstractClass:\n",
    "    def __new__(cls, *args, **kwargs):\n",
    "        return \"Ошибка: нельзя создавать объекты абстрактного класса\"\n",
    "\n",
    "\n",
    "AbstractClass()"
   ]
  },
  {
   "cell_type": "markdown",
   "id": "e9cfc2b0-3096-4bdb-9161-739dea1df254",
   "metadata": {},
   "source": [
    "Подвиг 7"
   ]
  },
  {
   "cell_type": "code",
   "execution_count": 5,
   "id": "40155dca-1358-4c6f-aa08-39995176bfc4",
   "metadata": {},
   "outputs": [
    {
     "data": {
      "text/plain": [
       "[<__main__.SingletonFive at 0x16a6abd9fa0>,\n",
       " <__main__.SingletonFive at 0x16a6ad0aab0>,\n",
       " <__main__.SingletonFive at 0x16a6ad0aa20>,\n",
       " <__main__.SingletonFive at 0x16a6ad0b260>,\n",
       " <__main__.SingletonFive at 0x16a6ad0acf0>,\n",
       " <__main__.SingletonFive at 0x16a6ad0acf0>,\n",
       " <__main__.SingletonFive at 0x16a6ad0acf0>,\n",
       " <__main__.SingletonFive at 0x16a6ad0acf0>,\n",
       " <__main__.SingletonFive at 0x16a6ad0acf0>,\n",
       " <__main__.SingletonFive at 0x16a6ad0acf0>]"
      ]
     },
     "execution_count": 5,
     "metadata": {},
     "output_type": "execute_result"
    }
   ],
   "source": [
    "class SingletonFive:\n",
    "    __instance = None\n",
    "    __count = 0\n",
    "\n",
    "    def __new__(cls, *args, **kwargs):\n",
    "        if cls.__count != 5:\n",
    "            cls.__count += 1\n",
    "            cls.__instance = super().__new__(cls)\n",
    "        return cls.__instance\n",
    "\n",
    "        \n",
    "    def __init__(self, name):\n",
    "        self.name = name\n",
    "\n",
    "\n",
    "objs = [SingletonFive(str(n)) for n in range(10)] # эту строчку не менять\n",
    "objs"
   ]
  },
  {
   "cell_type": "markdown",
   "id": "97cc3717-62a9-4b2f-84d5-662f98574172",
   "metadata": {},
   "source": [
    "Подвиг 8"
   ]
  },
  {
   "cell_type": "code",
   "execution_count": 27,
   "id": "925a566d-2667-4bf4-8347-1a4ff5dfb2db",
   "metadata": {},
   "outputs": [
    {
     "data": {
      "text/plain": [
       "'test'"
      ]
     },
     "execution_count": 27,
     "metadata": {},
     "output_type": "execute_result"
    }
   ],
   "source": [
    "TYPE_OS = 1 # 1 - Windows; 2 - Linux\n",
    "\n",
    "class DialogWindows:\n",
    "    name_class = \"DialogWindows\"\n",
    "\n",
    "\n",
    "class DialogLinux:\n",
    "    name_class = \"DialogLinux\"\n",
    "\n",
    "\n",
    "class Dialog:\n",
    "    __obj_class = None\n",
    "    \n",
    "    def __new__(cls, *args, **kwargs):\n",
    "        obj = DialogWindows() if TYPE_OS == 1 else DialogLinux()\n",
    "        setattr(obj, 'name', *args)\n",
    "        return obj\n",
    "    \n",
    "\n",
    "dlg = Dialog('test')\n",
    "dlg.name"
   ]
  },
  {
   "cell_type": "code",
   "execution_count": 25,
   "id": "0fac74ab-b3e1-46f6-8611-a62cbc52fcef",
   "metadata": {},
   "outputs": [
    {
     "data": {
      "text/plain": [
       "{'name': 'test'}"
      ]
     },
     "execution_count": 25,
     "metadata": {},
     "output_type": "execute_result"
    }
   ],
   "source": [
    "dlg.__dict__"
   ]
  },
  {
   "cell_type": "markdown",
   "id": "6705c456-70eb-4031-86e8-3a7c9215c8b4",
   "metadata": {},
   "source": [
    "Подвиг 9"
   ]
  },
  {
   "cell_type": "code",
   "execution_count": 28,
   "id": "8effc092-438f-4a21-8d75-f83a243d0212",
   "metadata": {},
   "outputs": [],
   "source": [
    "class Point:\n",
    "    def __init__(self, x, y):\n",
    "        self.x = x\n",
    "        self.y = y\n",
    "\n",
    "    def clone(self):\n",
    "        return Point(self.x, self.y)\n",
    "\n",
    "\n",
    "x = 5\n",
    "y = 5\n",
    "pt = Point(x, y)\n",
    "pt_clone = pt.clone()"
   ]
  },
  {
   "cell_type": "markdown",
   "id": "537ca59b-d767-4c98-aff9-cc09858bcdb5",
   "metadata": {},
   "source": [
    "Подвиг 10"
   ]
  },
  {
   "cell_type": "code",
   "execution_count": null,
   "id": "0a537174-165f-43bb-a956-14eba478cad1",
   "metadata": {},
   "outputs": [],
   "source": [
    "# Здесь объявляется класс Factory\n",
    "class Factory:\n",
    "    def build_sequence(self):\n",
    "        return []\n",
    "\n",
    "    def build_number(self, string):\n",
    "        return float(string)\n",
    "\n",
    "\n",
    "class Loader:\n",
    "    def parse_format(self, string, factory):\n",
    "        seq = factory.build_sequence()\n",
    "        for sub in string.split(\",\"):\n",
    "            item = factory.build_number(sub)\n",
    "            seq.append(item)\n",
    "\n",
    "        return seq\n",
    "\n",
    "\n",
    "# эти строчки не менять!\n",
    "ld = Loader()\n",
    "s = input()\n",
    "res = ld.parse_format(s, Factory())"
   ]
  },
  {
   "cell_type": "code",
   "execution_count": 2,
   "id": "acffd59f-eb74-46b9-b571-72ca9f471cf0",
   "metadata": {},
   "outputs": [
    {
     "data": {
      "text/plain": [
       "set"
      ]
     },
     "execution_count": 2,
     "metadata": {},
     "output_type": "execute_result"
    }
   ],
   "source": [
    "a = {1, 2, 3}\n",
    "type(a)"
   ]
  },
  {
   "cell_type": "markdown",
   "id": "1eabeb44-c035-450f-983d-1914e257729a",
   "metadata": {},
   "source": [
    "### 1.7 Методы класса (classmethod) и статические методы (staticmethod)"
   ]
  },
  {
   "cell_type": "code",
   "execution_count": null,
   "id": "e870a4a3-da35-4565-ba38-b2948a6ba215",
   "metadata": {},
   "outputs": [],
   "source": []
  }
 ],
 "metadata": {
  "kernelspec": {
   "display_name": "Python 3 (ipykernel)",
   "language": "python",
   "name": "python3"
  },
  "language_info": {
   "codemirror_mode": {
    "name": "ipython",
    "version": 3
   },
   "file_extension": ".py",
   "mimetype": "text/x-python",
   "name": "python",
   "nbconvert_exporter": "python",
   "pygments_lexer": "ipython3",
   "version": "3.12.1"
  }
 },
 "nbformat": 4,
 "nbformat_minor": 5
}
