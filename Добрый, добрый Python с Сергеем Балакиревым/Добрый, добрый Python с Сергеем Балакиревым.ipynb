{
 "cells": [
  {
   "cell_type": "markdown",
   "id": "51e0f7d8-7dc5-40e6-82da-701cd15393e1",
   "metadata": {},
   "source": [
    "# Добрый, добрый Python с Сергеем Балакиревым"
   ]
  },
  {
   "cell_type": "markdown",
   "id": "2a19a544-1aaa-4bda-8a4b-abb4704db4ae",
   "metadata": {},
   "source": [
    "### 5.8 Генераторы списков(List comprehention)"
   ]
  },
  {
   "cell_type": "markdown",
   "id": "0277d1e4-e5f4-45ef-9f5e-6d018a59ce03",
   "metadata": {},
   "source": [
    "Структура\n",
    "\n",
    "[<способ формирования значения> for <переменная> in <итерируемый объект>]"
   ]
  },
  {
   "cell_type": "markdown",
   "id": "184a3db7-9004-4adc-8a91-a2b9b6e2720a",
   "metadata": {},
   "source": [
    "## 6 Словари, кортежи и множества"
   ]
  },
  {
   "cell_type": "markdown",
   "id": "1dcbdf35-87dd-4fbf-822e-339d55e58ff4",
   "metadata": {},
   "source": [
    "### 6.1 Введение в словари"
   ]
  },
  {
   "cell_type": "markdown",
   "id": "99b2c6a4-5866-4309-aa95-d1b01f1e1e25",
   "metadata": {},
   "source": [
    "Способы задания:\n",
    "- `dict(ключ1=значение1, ключ2=значение2, ...)`\n",
    "- `{'ключ': 'значение'}`\n",
    "\n",
    "*Ключи* - не изменяемые типы данных;\\\n",
    "*Значения* - любые типы данных;\n",
    "\n",
    "*Удаление ключа*\\\n",
    "`del d['abc']` *если такой ключ есть*\n"
   ]
  },
  {
   "cell_type": "code",
   "execution_count": 1,
   "id": "cbf39eb5-c961-4ca5-a3e8-11f2a4e8eacd",
   "metadata": {},
   "outputs": [
    {
     "data": {
      "text/plain": [
       "dict"
      ]
     },
     "execution_count": 1,
     "metadata": {},
     "output_type": "execute_result"
    }
   ],
   "source": [
    "type({})"
   ]
  },
  {
   "cell_type": "code",
   "execution_count": 3,
   "id": "4699d9b9-a4f8-4afb-b7a4-5e7b1025f0c2",
   "metadata": {},
   "outputs": [
    {
     "data": {
      "text/plain": [
       "{}"
      ]
     },
     "execution_count": 3,
     "metadata": {},
     "output_type": "execute_result"
    }
   ],
   "source": [
    "dict()"
   ]
  },
  {
   "cell_type": "code",
   "execution_count": 11,
   "id": "23871d96-b0ce-483a-8808-a294e96fa190",
   "metadata": {},
   "outputs": [
    {
     "data": {
      "text/plain": [
       "{'you': 'ты', 'we': 'мы', 'they': 'они', 'us': 'нам'}"
      ]
     },
     "execution_count": 11,
     "metadata": {},
     "output_type": "execute_result"
    }
   ],
   "source": [
    "dict(you='ты', we='мы', they='они', us='нам')"
   ]
  }
 ],
 "metadata": {
  "kernelspec": {
   "display_name": "Python 3 (ipykernel)",
   "language": "python",
   "name": "python3"
  },
  "language_info": {
   "codemirror_mode": {
    "name": "ipython",
    "version": 3
   },
   "file_extension": ".py",
   "mimetype": "text/x-python",
   "name": "python",
   "nbconvert_exporter": "python",
   "pygments_lexer": "ipython3",
   "version": "3.12.1"
  }
 },
 "nbformat": 4,
 "nbformat_minor": 5
}
