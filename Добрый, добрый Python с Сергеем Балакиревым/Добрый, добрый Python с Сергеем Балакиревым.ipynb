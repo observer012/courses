{
 "cells": [
  {
   "cell_type": "markdown",
   "id": "51e0f7d8-7dc5-40e6-82da-701cd15393e1",
   "metadata": {},
   "source": [
    "# Добрый, добрый Python с Сергеем Балакиревым"
   ]
  },
  {
   "cell_type": "markdown",
   "id": "2a19a544-1aaa-4bda-8a4b-abb4704db4ae",
   "metadata": {},
   "source": [
    "## 5.8 Генераторы списков(List comprehention)"
   ]
  },
  {
   "cell_type": "markdown",
   "id": "0277d1e4-e5f4-45ef-9f5e-6d018a59ce03",
   "metadata": {},
   "source": [
    "Структура\n",
    "\n",
    "[<способ формирования значения> for <переменная> in <итерируемый объект>]"
   ]
  },
  {
   "cell_type": "code",
   "execution_count": null,
   "id": "e536921f-da45-487d-8821-b747e6b8b5fc",
   "metadata": {},
   "outputs": [],
   "source": []
  }
 ],
 "metadata": {
  "kernelspec": {
   "display_name": "Python 3 (ipykernel)",
   "language": "python",
   "name": "python3"
  },
  "language_info": {
   "codemirror_mode": {
    "name": "ipython",
    "version": 3
   },
   "file_extension": ".py",
   "mimetype": "text/x-python",
   "name": "python",
   "nbconvert_exporter": "python",
   "pygments_lexer": "ipython3",
   "version": "3.12.1"
  }
 },
 "nbformat": 4,
 "nbformat_minor": 5
}
