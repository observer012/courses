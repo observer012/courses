{
 "cells": [
  {
   "cell_type": "markdown",
   "id": "51e0f7d8-7dc5-40e6-82da-701cd15393e1",
   "metadata": {},
   "source": [
    "# Добрый, добрый Python с Сергеем Балакиревым"
   ]
  },
  {
   "cell_type": "code",
   "execution_count": 1,
   "id": "cbe993bc-54c9-40ee-af58-1566dc7d210b",
   "metadata": {},
   "outputs": [],
   "source": [
    "from IPython.display import display"
   ]
  },
  {
   "cell_type": "markdown",
   "id": "392969c0-a04f-4188-a2de-ddbbdca92877",
   "metadata": {},
   "source": [
    "- Некоторые лайфхаки буду помечать 'полезный приём' (cntrl+F)"
   ]
  },
  {
   "cell_type": "markdown",
   "id": "2a19a544-1aaa-4bda-8a4b-abb4704db4ae",
   "metadata": {},
   "source": [
    "## 5.8 Генераторы списков(List comprehention)"
   ]
  },
  {
   "cell_type": "markdown",
   "id": "0277d1e4-e5f4-45ef-9f5e-6d018a59ce03",
   "metadata": {},
   "source": [
    "Структура\n",
    "\n",
    "[<способ формирования значения> for <переменная> in <итерируемый объект>]"
   ]
  },
  {
   "cell_type": "markdown",
   "id": "184a3db7-9004-4adc-8a91-a2b9b6e2720a",
   "metadata": {},
   "source": [
    "## 6 Словари, кортежи и множества"
   ]
  },
  {
   "cell_type": "markdown",
   "id": "1dcbdf35-87dd-4fbf-822e-339d55e58ff4",
   "metadata": {},
   "source": [
    "### 6.1 Введение в словари"
   ]
  },
  {
   "cell_type": "markdown",
   "id": "99b2c6a4-5866-4309-aa95-d1b01f1e1e25",
   "metadata": {},
   "source": [
    "Способы задания:\n",
    "- `dict(ключ1=значение1, ключ2=значение2, ...)`\n",
    "- `{'ключ': 'значение'}`\n",
    "\n",
    "*Ключи* - не изменяемые типы данных;\\\n",
    "*Значения* - любые типы данных;\n",
    "\n",
    "*Удаление ключа*\\\n",
    "`del d['abc']` *если такой ключ есть*\n"
   ]
  },
  {
   "cell_type": "code",
   "execution_count": 2,
   "id": "cbf39eb5-c961-4ca5-a3e8-11f2a4e8eacd",
   "metadata": {},
   "outputs": [
    {
     "data": {
      "text/plain": [
       "dict"
      ]
     },
     "execution_count": 2,
     "metadata": {},
     "output_type": "execute_result"
    }
   ],
   "source": [
    "type({})"
   ]
  },
  {
   "cell_type": "code",
   "execution_count": 3,
   "id": "4699d9b9-a4f8-4afb-b7a4-5e7b1025f0c2",
   "metadata": {},
   "outputs": [
    {
     "data": {
      "text/plain": [
       "{}"
      ]
     },
     "execution_count": 3,
     "metadata": {},
     "output_type": "execute_result"
    }
   ],
   "source": [
    "dict()"
   ]
  },
  {
   "cell_type": "code",
   "execution_count": 4,
   "id": "23871d96-b0ce-483a-8808-a294e96fa190",
   "metadata": {},
   "outputs": [
    {
     "data": {
      "text/plain": [
       "{'you': 'ты', 'we': 'мы', 'they': 'они', 'us': 'нам'}"
      ]
     },
     "execution_count": 4,
     "metadata": {},
     "output_type": "execute_result"
    }
   ],
   "source": [
    "dict(you='ты', we='мы', they='они', us='нам')"
   ]
  },
  {
   "cell_type": "code",
   "execution_count": 5,
   "id": "b68bd8e5-2d4e-472f-bfc3-4676d8667c7e",
   "metadata": {},
   "outputs": [
    {
     "name": "stdout",
     "output_type": "stream",
     "text": [
      "('+2', ['+21235777890', '+21234567110']) ('+5', ['+52134567890']) ('+6', ['+61234576890']) ('+7', ['+71234567890', '+71234567854', '+71232267890'])\n"
     ]
    }
   ],
   "source": [
    "nums = '+71234567890 +71234567854 +61234576890 +52134567890 +21235777890 +21234567110 +71232267890'\n",
    "nums = nums.split()\n",
    "d_nums = {}\n",
    "for i in nums:\n",
    "    d_nums[i[:2]] = [num for num in nums if i[:2] == num[:2]]\n",
    "\n",
    "print(*sorted(d_nums.items()))\n"
   ]
  },
  {
   "cell_type": "markdown",
   "id": "7dd18bb4-41ec-4650-9742-72f2557feb9d",
   "metadata": {},
   "source": [
    "### 6.2 Методы словаря"
   ]
  },
  {
   "attachments": {
    "8acd8a65-7e5c-4a1f-a264-7d85bf8cea97.png": {
     "image/png": "[encoded data removed]"
    }
   },
   "cell_type": "markdown",
   "id": "3bd1e14e-94f0-46dd-8dca-f053bb42af39",
   "metadata": {},
   "source": [
    "![2024-07-04_18-12-12.png](attachment:8acd8a65-7e5c-4a1f-a264-7d85bf8cea97.png)"
   ]
  },
  {
   "cell_type": "markdown",
   "id": "69ac460a-9f0a-42fb-9cd6-3878cfb83a79",
   "metadata": {},
   "source": [
    "`dict.fromkeys(список[, значение по умолчанию])` \\\n",
    "формирует словарь с заданными ключами, ключи передаются ввиде списка и некоторого значения "
   ]
  },
  {
   "cell_type": "code",
   "execution_count": 6,
   "id": "03a6eaf2-68f1-4ed3-931c-6daa42e4a0dd",
   "metadata": {},
   "outputs": [
    {
     "data": {
      "text/plain": [
       "{'+7': None, '+6': None, '+5': None, '+4': None}"
      ]
     },
     "execution_count": 6,
     "metadata": {},
     "output_type": "execute_result"
    }
   ],
   "source": [
    "lst = [\"+7\", \"+6\", \"+5\", \"+4\"]\n",
    "a = dict.fromkeys(lst)\n",
    "a"
   ]
  },
  {
   "cell_type": "markdown",
   "id": "90c22392-14df-428d-bcf7-5b19639d856c",
   "metadata": {},
   "source": [
    "чтобы присвоить значение, укажем его"
   ]
  },
  {
   "cell_type": "code",
   "execution_count": 7,
   "id": "ebddd5c3-d0f6-45a1-b176-10c75851582c",
   "metadata": {},
   "outputs": [
    {
     "data": {
      "text/plain": [
       "{'+7': 'код страны',\n",
       " '+6': 'код страны',\n",
       " '+5': 'код страны',\n",
       " '+4': 'код страны'}"
      ]
     },
     "execution_count": 7,
     "metadata": {},
     "output_type": "execute_result"
    }
   ],
   "source": [
    "a = dict.fromkeys(lst, 'код страны')\n",
    "a"
   ]
  },
  {
   "cell_type": "markdown",
   "id": "c1a27d6f-6a06-4983-9b2e-e81227a234a1",
   "metadata": {},
   "source": [
    "#### Метод для очистки словаря\n",
    "`a.clear()`"
   ]
  },
  {
   "cell_type": "code",
   "execution_count": 8,
   "id": "987aaaf4-1520-4d98-8f35-a6291bda39be",
   "metadata": {},
   "outputs": [
    {
     "data": {
      "text/plain": [
       "{}"
      ]
     },
     "execution_count": 8,
     "metadata": {},
     "output_type": "execute_result"
    }
   ],
   "source": [
    "a.clear()\n",
    "a"
   ]
  },
  {
   "cell_type": "code",
   "execution_count": 9,
   "id": "6ea8e455-4465-4fe4-82ac-5df508fc49e6",
   "metadata": {},
   "outputs": [
    {
     "data": {
      "text/plain": [
       "{True: 1, False: 'Ложь', 'list': [1, 2, 3], 5: 5}"
      ]
     },
     "execution_count": 9,
     "metadata": {},
     "output_type": "execute_result"
    }
   ],
   "source": [
    "d = {True: 1, False: 'Ложь', 'list': [1,2,3], 5: 5}\n",
    "d"
   ]
  },
  {
   "cell_type": "code",
   "execution_count": 10,
   "id": "f6286f48-d6e5-462b-9376-c9bfc34e5c01",
   "metadata": {},
   "outputs": [],
   "source": [
    "d2 = d"
   ]
  },
  {
   "cell_type": "markdown",
   "id": "969b3586-6eaa-4d78-b3d2-dce850212dc8",
   "metadata": {},
   "source": [
    "*Это ссылка на один и тот же словарь*\\\n",
    "Как сделать копию?"
   ]
  },
  {
   "cell_type": "markdown",
   "id": "ba73c9ea-31b9-4e52-a523-8844448e4e50",
   "metadata": {},
   "source": [
    "#### Создание копии\n",
    "`d.copy()`\n",
    "\n",
    "Посмотрим действительно ли это копия, а не ссылка"
   ]
  },
  {
   "cell_type": "code",
   "execution_count": 11,
   "id": "398d2f2c-8ce9-4e3c-97c8-a6e5ffcec880",
   "metadata": {},
   "outputs": [
    {
     "data": {
      "text/plain": [
       "{True: 1, False: 'Ложь', 'list': [5, 6, 7], 5: 5}"
      ]
     },
     "execution_count": 11,
     "metadata": {},
     "output_type": "execute_result"
    }
   ],
   "source": [
    "d2 = d.copy()\n",
    "d2['list'] = [5, 6, 7]\n",
    "d2"
   ]
  },
  {
   "cell_type": "code",
   "execution_count": 12,
   "id": "6d2567f6-4a88-4f92-a659-fc9e75d8c97c",
   "metadata": {},
   "outputs": [
    {
     "data": {
      "text/plain": [
       "{True: 1, False: 'Ложь', 'list': [1, 2, 3], 5: 5}"
      ]
     },
     "execution_count": 12,
     "metadata": {},
     "output_type": "execute_result"
    }
   ],
   "source": [
    "d"
   ]
  },
  {
   "cell_type": "markdown",
   "id": "de9b9cf4-8ad4-420f-acb9-e8a349f6cfa0",
   "metadata": {},
   "source": [
    "*Если бы была ссылка, то значние по ключу `list` было бы одинаковым*\\\n",
    "**Еще один способ создания копии**\\\n",
    "`d2 = dict(d)`"
   ]
  },
  {
   "cell_type": "code",
   "execution_count": 13,
   "id": "319462eb-d9b4-46b2-9204-75f43b57b4db",
   "metadata": {},
   "outputs": [
    {
     "data": {
      "text/plain": [
       "{True: 1, False: 'Ложь', 'list': [1, 2, 3], 5: 5}"
      ]
     },
     "execution_count": 13,
     "metadata": {},
     "output_type": "execute_result"
    }
   ],
   "source": [
    "d2 = dict(d)\n",
    "d2"
   ]
  },
  {
   "cell_type": "code",
   "execution_count": 14,
   "id": "13284142-b58f-4b87-a114-891925ebc152",
   "metadata": {},
   "outputs": [
    {
     "data": {
      "text/plain": [
       "2292771611328"
      ]
     },
     "execution_count": 14,
     "metadata": {},
     "output_type": "execute_result"
    }
   ],
   "source": [
    "id(d2)"
   ]
  },
  {
   "cell_type": "code",
   "execution_count": 15,
   "id": "c72eefba-c4cd-450a-8fc4-4f5ae51f09e5",
   "metadata": {},
   "outputs": [
    {
     "data": {
      "text/plain": [
       "2292772278848"
      ]
     },
     "execution_count": 15,
     "metadata": {},
     "output_type": "execute_result"
    }
   ],
   "source": [
    "id(d)"
   ]
  },
  {
   "cell_type": "markdown",
   "id": "11735e2e-3880-4fc7-a891-015429f5ad14",
   "metadata": {},
   "source": [
    "#### Получение значения словаря\n",
    "`d.get('list')`"
   ]
  },
  {
   "cell_type": "code",
   "execution_count": 16,
   "id": "3a90a297-6b94-4990-9365-84c4b39d20f1",
   "metadata": {},
   "outputs": [
    {
     "data": {
      "text/plain": [
       "[1, 2, 3]"
      ]
     },
     "execution_count": 16,
     "metadata": {},
     "output_type": "execute_result"
    }
   ],
   "source": [
    "d.get('list')"
   ]
  },
  {
   "cell_type": "markdown",
   "id": "2981c329-39d8-4cd1-a558-ca8f4e3456eb",
   "metadata": {},
   "source": [
    "В чём отличие от обычного обращения по ключу(`d['list']`)???"
   ]
  },
  {
   "cell_type": "code",
   "execution_count": 17,
   "id": "6a97498b-b0c7-4c55-914d-9314b954c073",
   "metadata": {},
   "outputs": [
    {
     "name": "stdout",
     "output_type": "stream",
     "text": [
      "Ошибка\n",
      "KeyError: 3\n"
     ]
    }
   ],
   "source": [
    "try:\n",
    "    display(d[3])\n",
    "except KeyError as mistake:\n",
    "    print(f'Ошибка\\nKeyError: {mistake}')"
   ]
  },
  {
   "cell_type": "code",
   "execution_count": 18,
   "id": "6bb9819f-4812-4769-bbec-d255524f3b1b",
   "metadata": {},
   "outputs": [],
   "source": [
    "d.get(3)"
   ]
  },
  {
   "cell_type": "code",
   "execution_count": 19,
   "id": "571a9b12-0f83-43e4-80dc-f80b91066578",
   "metadata": {},
   "outputs": [
    {
     "name": "stdout",
     "output_type": "stream",
     "text": [
      "None\n"
     ]
    }
   ],
   "source": [
    "print(d.get(3))"
   ]
  },
  {
   "cell_type": "markdown",
   "id": "b9463afa-ed98-44ec-aefd-43747b55204a",
   "metadata": {},
   "source": [
    "*В случае отсутствия значения функция `dict.get()` не возвращает ошибку, а возвращает значение `None`. Кроме того, функция позволяет указать вторым значением аргумент, который мы возвращаем.*"
   ]
  },
  {
   "cell_type": "code",
   "execution_count": 20,
   "id": "3f4641cc-b140-43c5-9af7-d0d3097728a7",
   "metadata": {},
   "outputs": [
    {
     "data": {
      "text/plain": [
       "False"
      ]
     },
     "execution_count": 20,
     "metadata": {},
     "output_type": "execute_result"
    }
   ],
   "source": [
    "d.get(3, False)"
   ]
  },
  {
   "cell_type": "markdown",
   "id": "f1db258c-c2c5-428a-99bd-486d8bb61e6a",
   "metadata": {},
   "source": [
    "#### Установка по умолчанию\n",
    "`dict.setdefault(key[, default])`\n",
    "\n",
    "- возвращает значение по заданному ключу, но если этот ключ в словаре отсутствует, то создаётся запись в словаре с этим **не**существующим ключом и некоторым значением(`default`)\n"
   ]
  },
  {
   "cell_type": "code",
   "execution_count": 21,
   "id": "6801891e-ba64-418b-b1af-ef3f91304fb8",
   "metadata": {},
   "outputs": [
    {
     "data": {
      "text/plain": [
       "[1, 2, 3]"
      ]
     },
     "execution_count": 21,
     "metadata": {},
     "output_type": "execute_result"
    }
   ],
   "source": [
    "d.setdefault('list')"
   ]
  },
  {
   "cell_type": "code",
   "execution_count": 22,
   "id": "ceac5a05-3e46-40d7-922d-7ff364985977",
   "metadata": {},
   "outputs": [
    {
     "data": {
      "text/plain": [
       "{True: 1, False: 'Ложь', 'list': [1, 2, 3], 5: 5}"
      ]
     },
     "execution_count": 22,
     "metadata": {},
     "output_type": "execute_result"
    }
   ],
   "source": [
    "d"
   ]
  },
  {
   "cell_type": "markdown",
   "id": "b7f8fc88-5954-4751-a12f-d61aae4d67b2",
   "metadata": {},
   "source": [
    "*Словарь d не изменился, как был, так и остался.*\\\n",
    "А вот, если указать несуществующий ключ"
   ]
  },
  {
   "cell_type": "code",
   "execution_count": 23,
   "id": "2012d3de-bfa2-41e9-a711-916450da9dc3",
   "metadata": {},
   "outputs": [],
   "source": [
    "d.setdefault(3)"
   ]
  },
  {
   "cell_type": "code",
   "execution_count": 24,
   "id": "a371ec5d-5804-4056-96f1-6ad7e7c09167",
   "metadata": {},
   "outputs": [
    {
     "data": {
      "text/plain": [
       "{True: 1, False: 'Ложь', 'list': [1, 2, 3], 5: 5, 3: None}"
      ]
     },
     "execution_count": 24,
     "metadata": {},
     "output_type": "execute_result"
    }
   ],
   "source": [
    "d"
   ]
  },
  {
   "cell_type": "code",
   "execution_count": 25,
   "id": "d84aad0a-8745-4fa0-ab5b-5e75fbd2c58e",
   "metadata": {},
   "outputs": [],
   "source": [
    "d.setdefault(3)"
   ]
  },
  {
   "cell_type": "code",
   "execution_count": 26,
   "id": "930ff382-59b2-4769-8f4c-45364b7063ad",
   "metadata": {},
   "outputs": [
    {
     "data": {
      "text/plain": [
       "{True: 1, False: 'Ложь', 'list': [1, 2, 3], 5: 5, 3: None}"
      ]
     },
     "execution_count": 26,
     "metadata": {},
     "output_type": "execute_result"
    }
   ],
   "source": [
    "d"
   ]
  },
  {
   "cell_type": "code",
   "execution_count": 27,
   "id": "65d47b16-2a1d-4e15-96a5-d76a38c8bbc1",
   "metadata": {},
   "outputs": [],
   "source": [
    "del d[3]"
   ]
  },
  {
   "cell_type": "code",
   "execution_count": 28,
   "id": "dd9df52d-0366-4026-b662-196fd33eb6f3",
   "metadata": {},
   "outputs": [
    {
     "data": {
      "text/plain": [
       "{True: 1, False: 'Ложь', 'list': [1, 2, 3], 5: 5}"
      ]
     },
     "execution_count": 28,
     "metadata": {},
     "output_type": "execute_result"
    }
   ],
   "source": [
    "d"
   ]
  },
  {
   "cell_type": "markdown",
   "id": "f829f70c-a1e6-4ccd-993f-30381af8a30a",
   "metadata": {},
   "source": [
    "---"
   ]
  },
  {
   "cell_type": "code",
   "execution_count": 29,
   "id": "cf6391ce-477d-4d97-bcc8-bfe2426925bb",
   "metadata": {},
   "outputs": [
    {
     "data": {
      "text/plain": [
       "'three'"
      ]
     },
     "execution_count": 29,
     "metadata": {},
     "output_type": "execute_result"
    }
   ],
   "source": [
    "d.setdefault(3, 'three')"
   ]
  },
  {
   "cell_type": "code",
   "execution_count": 30,
   "id": "6ad9c66a-00fa-4574-8a44-d3fd22491357",
   "metadata": {},
   "outputs": [
    {
     "data": {
      "text/plain": [
       "{True: 1, False: 'Ложь', 'list': [1, 2, 3], 5: 5, 3: 'three'}"
      ]
     },
     "execution_count": 30,
     "metadata": {},
     "output_type": "execute_result"
    }
   ],
   "source": [
    "d"
   ]
  },
  {
   "cell_type": "markdown",
   "id": "f3096f4c-26c0-4592-ba2e-ba7827e0c43c",
   "metadata": {},
   "source": [
    "#### Метод удаления ключа\n",
    "`d.pop(3)`\n",
    "\n",
    "- удаляет ключ и возвращает содержимое ключа, может иметь два аргумента"
   ]
  },
  {
   "cell_type": "code",
   "execution_count": 31,
   "id": "e3dbd9d5-a5ea-402f-ba64-7e24222ccd5b",
   "metadata": {},
   "outputs": [
    {
     "data": {
      "text/plain": [
       "'three'"
      ]
     },
     "execution_count": 31,
     "metadata": {},
     "output_type": "execute_result"
    }
   ],
   "source": [
    "d.pop(3)"
   ]
  },
  {
   "cell_type": "code",
   "execution_count": 32,
   "id": "98536367-dac0-405b-98bb-85a8436e56de",
   "metadata": {},
   "outputs": [
    {
     "data": {
      "text/plain": [
       "{True: 1, False: 'Ложь', 'list': [1, 2, 3], 5: 5}"
      ]
     },
     "execution_count": 32,
     "metadata": {},
     "output_type": "execute_result"
    }
   ],
   "source": [
    "d"
   ]
  },
  {
   "cell_type": "code",
   "execution_count": 33,
   "id": "5087cffa-693e-44ce-945e-cf822d0c5a27",
   "metadata": {},
   "outputs": [
    {
     "name": "stdout",
     "output_type": "stream",
     "text": [
      "Ошибка\n",
      "KeyError: 'abc'\n"
     ]
    }
   ],
   "source": [
    "try:\n",
    "    display(d.pop('abc'))\n",
    "except KeyError as mistake:\n",
    "    print(f'Ошибка\\nKeyError: {mistake}')"
   ]
  },
  {
   "cell_type": "code",
   "execution_count": 34,
   "id": "7a03d05d-9b37-43bc-ad67-f28fd045032a",
   "metadata": {},
   "outputs": [
    {
     "data": {
      "text/plain": [
       "False"
      ]
     },
     "execution_count": 34,
     "metadata": {},
     "output_type": "execute_result"
    }
   ],
   "source": [
    "d.pop('abc', False)"
   ]
  },
  {
   "cell_type": "markdown",
   "id": "ba84273e-f262-4e6a-887e-ec0e5ef654e9",
   "metadata": {},
   "source": [
    "#### Удаление случайно выбранного ключа\n",
    "`d.popitem()`\n",
    "\n",
    "- с версии Python 3.7 удаляет последний ключ в словаре"
   ]
  },
  {
   "cell_type": "code",
   "execution_count": 35,
   "id": "dcf61a7f-5bf3-49a7-825d-67b32b21cab2",
   "metadata": {},
   "outputs": [
    {
     "data": {
      "text/plain": [
       "(5, 5)"
      ]
     },
     "execution_count": 35,
     "metadata": {},
     "output_type": "execute_result"
    }
   ],
   "source": [
    "d.popitem()"
   ]
  },
  {
   "cell_type": "code",
   "execution_count": 36,
   "id": "a58d31af-1b47-45b5-9799-dd1264f894d4",
   "metadata": {},
   "outputs": [
    {
     "data": {
      "text/plain": [
       "{True: 1, False: 'Ложь', 'list': [1, 2, 3]}"
      ]
     },
     "execution_count": 36,
     "metadata": {},
     "output_type": "execute_result"
    }
   ],
   "source": [
    "d"
   ]
  },
  {
   "cell_type": "code",
   "execution_count": 37,
   "id": "1f4a38dc-f371-4c3a-b063-fffe9cef360d",
   "metadata": {},
   "outputs": [
    {
     "name": "stdout",
     "output_type": "stream",
     "text": [
      "Ошибка\n",
      "KeyError: 'popitem(): dictionary is empty'\n"
     ]
    }
   ],
   "source": [
    "d2 = {}\n",
    "try:\n",
    "    display(d2.popitem())\n",
    "except KeyError as mistake:\n",
    "    print(f'Ошибка\\nKeyError: {mistake}')"
   ]
  },
  {
   "cell_type": "markdown",
   "id": "2342a364-bd69-43d4-a086-b0c42e4460a7",
   "metadata": {},
   "source": [
    "#### Возвращение списка ключей\n",
    "`d.keys()`"
   ]
  },
  {
   "cell_type": "code",
   "execution_count": 38,
   "id": "b2eedfb8-67b3-4d6d-8710-0d423ee568f6",
   "metadata": {},
   "outputs": [
    {
     "data": {
      "text/plain": [
       "dict_keys([True, False, 'list', 5])"
      ]
     },
     "execution_count": 38,
     "metadata": {},
     "output_type": "execute_result"
    }
   ],
   "source": [
    "d = {True: 1, False: 'Ложь', 'list': [1,2,3], 5: 5}\n",
    "d.keys()"
   ]
  },
  {
   "cell_type": "markdown",
   "id": "57736666-3f73-4582-9e43-cbc59956191b",
   "metadata": {},
   "source": [
    "#### Возвращение списка значений\n",
    "`d.values()`"
   ]
  },
  {
   "cell_type": "code",
   "execution_count": 39,
   "id": "d25fbc0f-ba58-4417-9902-e4926cab4cbe",
   "metadata": {},
   "outputs": [
    {
     "data": {
      "text/plain": [
       "dict_values([1, 'Ложь', [1, 2, 3], 5])"
      ]
     },
     "execution_count": 39,
     "metadata": {},
     "output_type": "execute_result"
    }
   ],
   "source": [
    "d.values()"
   ]
  },
  {
   "cell_type": "markdown",
   "id": "bb5f57df-6fec-47af-9922-2e85211ee50f",
   "metadata": {},
   "source": [
    "#### Возвращение и ключей и значений\n",
    "`d.items()`"
   ]
  },
  {
   "cell_type": "code",
   "execution_count": 40,
   "id": "37b6f554-b592-4f61-b661-0ded8f638e2d",
   "metadata": {},
   "outputs": [
    {
     "data": {
      "text/plain": [
       "dict_items([(True, 1), (False, 'Ложь'), ('list', [1, 2, 3]), (5, 5)])"
      ]
     },
     "execution_count": 40,
     "metadata": {},
     "output_type": "execute_result"
    }
   ],
   "source": [
    "d.items()"
   ]
  },
  {
   "cell_type": "markdown",
   "id": "ba98e09c-87f4-462b-a7cb-192c1197dafc",
   "metadata": {},
   "source": [
    "#### Обновление словаря\n",
    "Допустим в программе есть два словаря"
   ]
  },
  {
   "cell_type": "code",
   "execution_count": 41,
   "id": "0aeafd88-078e-462b-afdd-5a6fe3ff4425",
   "metadata": {},
   "outputs": [
    {
     "data": {
      "text/plain": [
       "{'one': 1, 'two': 2, 'three': '3', 'four': '4'}"
      ]
     },
     "execution_count": 41,
     "metadata": {},
     "output_type": "execute_result"
    }
   ],
   "source": [
    "d = dict(one = 1, two = 2, three = '3', four = '4')\n",
    "d"
   ]
  },
  {
   "cell_type": "code",
   "execution_count": 42,
   "id": "a355e340-d105-4083-b729-983d34b6b8c0",
   "metadata": {},
   "outputs": [
    {
     "data": {
      "text/plain": [
       "{2: 'неудовлетворительно',\n",
       " 3: 'удовлетворительно',\n",
       " 'four': 'хорошо',\n",
       " 5: 'отлично'}"
      ]
     },
     "execution_count": 42,
     "metadata": {},
     "output_type": "execute_result"
    }
   ],
   "source": [
    "d2 = {2: \"неудовлетворительно\", 3: \"удовлетворительно\", 'four': \"хорошо\", 5: \"отлично\"}\n",
    "d2 "
   ]
  },
  {
   "cell_type": "markdown",
   "id": "f9c05838-74f1-4c79-8702-ddf8e69a618d",
   "metadata": {},
   "source": [
    "Если мы хотим обновить словарь `d` содержимым словаря `d2`\\\n",
    "для этого существует специальный метод `d.update(d2)`"
   ]
  },
  {
   "cell_type": "code",
   "execution_count": 43,
   "id": "df11e9dc-29ed-4094-94ac-024f29d1eb3f",
   "metadata": {},
   "outputs": [
    {
     "data": {
      "text/plain": [
       "{'one': 1,\n",
       " 'two': 2,\n",
       " 'three': '3',\n",
       " 'four': 'хорошо',\n",
       " 2: 'неудовлетворительно',\n",
       " 3: 'удовлетворительно',\n",
       " 5: 'отлично'}"
      ]
     },
     "execution_count": 43,
     "metadata": {},
     "output_type": "execute_result"
    }
   ],
   "source": [
    "d.update(d2)\n",
    "d"
   ]
  },
  {
   "cell_type": "markdown",
   "id": "1d39e7f7-d94c-4cf1-a0a0-ca57c7273614",
   "metadata": {},
   "source": [
    "- метод обновил данные по общему ключу `four`, остальные слил воедино"
   ]
  },
  {
   "cell_type": "markdown",
   "id": "46320695-d4ad-445a-b293-77d81439f089",
   "metadata": {},
   "source": [
    "#### Объединение двух словарей\n",
    "- для этого можно использовать следующий синтаксис `{**d, **d2}`\n",
    "- с версии Python 3.9 существует эквивалентный способ: `d | d2`"
   ]
  },
  {
   "cell_type": "code",
   "execution_count": 44,
   "id": "35ca3a71-7bd6-4df3-9dc9-026ef3e14f09",
   "metadata": {},
   "outputs": [],
   "source": [
    "d = dict(one = 1, two = 2, three = '3', four = '4')\n",
    "d2 = {2: \"неудовлетворительно\", 3: \"удовлетворительно\", 'four': \"хорошо\", 5: \"отлично\"}"
   ]
  },
  {
   "cell_type": "code",
   "execution_count": 45,
   "id": "071db097-e40c-4079-a05c-683ce5e42cab",
   "metadata": {},
   "outputs": [
    {
     "data": {
      "text/plain": [
       "{'one': 1,\n",
       " 'two': 2,\n",
       " 'three': '3',\n",
       " 'four': 'хорошо',\n",
       " 2: 'неудовлетворительно',\n",
       " 3: 'удовлетворительно',\n",
       " 5: 'отлично'}"
      ]
     },
     "execution_count": 45,
     "metadata": {},
     "output_type": "execute_result"
    }
   ],
   "source": [
    "d3 = {**d, **d2}\n",
    "d3"
   ]
  },
  {
   "cell_type": "markdown",
   "id": "08fece3c-b69b-4ff7-a7ef-cf9fa069f604",
   "metadata": {},
   "source": [
    "два словаря слились, ключ `four` получил новое значение"
   ]
  },
  {
   "cell_type": "code",
   "execution_count": 46,
   "id": "b2fca4b0-28fc-4590-a8ec-1265875d4f2b",
   "metadata": {},
   "outputs": [
    {
     "data": {
      "text/plain": [
       "{2: 'неудовлетворительно',\n",
       " 3: 'удовлетворительно',\n",
       " 'four': '4',\n",
       " 5: 'отлично',\n",
       " 'one': 1,\n",
       " 'two': 2,\n",
       " 'three': '3'}"
      ]
     },
     "execution_count": 46,
     "metadata": {},
     "output_type": "execute_result"
    }
   ],
   "source": [
    "d3 = {**d2, **d}\n",
    "d3"
   ]
  },
  {
   "cell_type": "markdown",
   "id": "4c7a3619-d330-49e6-b822-de2d7584e128",
   "metadata": {},
   "source": [
    "#### Заключение"
   ]
  },
  {
   "cell_type": "markdown",
   "id": "bc834957-94e1-43ba-8bee-b0c87f5b6d96",
   "metadata": {},
   "source": [
    "| № | Функция | Описание | \n",
    "| :----: | :---------------------- | :---------------------- | \n",
    "| 1 | `dict.fromkeys(список[, значение по умолчанию])` | формирует словарь с заданными ключами, ключи передаются ввиде списка и некоторого значения |\n",
    "| 2 | `dict.clear()` | очистка словаря |\n",
    "| 4 | `dict.copy()` | копия словаря |\n",
    "| 5 | `dict.get(key)` | получение ключа.В случае отсуствия значения не возвращает ошибку, а возвращает значение None. Кроме того, функция позволяет указать вторым значением аргумент, который мы возвращаем. |\n",
    "| 6 | `dict.setdefault(key[, default])` | возвращает значение по заданному ключу, но если этот ключ в словаре отсутствует, то создаётся запись в словаре с этим несуществующим ключом и некоторым значением(default) |\n",
    "| 7 | `dict.pop(key)` | удаляет ключ и возвращает содержимое ключа, может иметь два аргумента |\n",
    "| 8 | `dict.popitem()` | удаляет случайный ключ. С версии Python 3.7 удаляет последний ключ в словаре |\n",
    "| 9 | `dict.keys()` | возвращает список ключей |\n",
    "| 10 | `dict.values()` | возвращает список значений |\n",
    "| 11 | `dict.items()` | возвращает пары ключ, значение |\n",
    "| 12 | `dict.update(dict)` | обновляет словарь d содержимым словаря d2 |"
   ]
  },
  {
   "cell_type": "markdown",
   "id": "da1f9a7f-27c4-4b97-a5d7-7fa5f567ed2a",
   "metadata": {},
   "source": [
    "#### Практика"
   ]
  },
  {
   "cell_type": "markdown",
   "id": "92445a7e-8a63-4ed1-9bb4-425e203e42d9",
   "metadata": {},
   "source": [
    "Задание №1. Кодирование азбукой Морзе"
   ]
  },
  {
   "cell_type": "code",
   "execution_count": 47,
   "id": "a44fefd0-9274-4020-b569-5983b1358e5d",
   "metadata": {},
   "outputs": [],
   "source": [
    "s = '''А    .-\tМ    --\tШ    ----\n",
    "Б    -...\tН    -.\tЩ    --.-\n",
    "В    .--\tО    ---\tЪ    --.--\n",
    "Г    --.\tП    .--.\tЫ    -.--\n",
    "Д    -..\tР    .-.\tЬ    -..-\n",
    "Е (Ё)    .\tС    ...\tЭ    ..-..\n",
    "Ж    ...-\tТ    -\tЮ    ..--\n",
    "З    --..\tУ    ..-\tЯ    .-.-\n",
    "И    ..\tФ    ..-.\t' '    -...-\n",
    "Й    .---\tХ    ....\t \n",
    "К    -.-\tЦ    -.-.\t \n",
    "Л    .-..\tЧ    ---.'''\n",
    "\n",
    "while '  ' in s:\n",
    "    s = s.replace('  ', ' ')\n",
    "\n",
    "s = s.replace('Е (Ё)', 'Е') + ' Ё .'\n",
    "s = s.replace(\"' '\", \"_\").lower()"
   ]
  },
  {
   "cell_type": "code",
   "execution_count": 48,
   "id": "ea441e3f-74ea-4a0f-b6b9-02a0389bdd34",
   "metadata": {},
   "outputs": [
    {
     "name": "stdout",
     "output_type": "stream",
     "text": [
      "['а', '.-', 'м', '--', 'ш', '----', 'б', '-...', 'н', '-.', 'щ', '--.-', 'в', '.--', 'о', '---', 'ъ', '--.--', 'г', '--.', 'п', '.--.', 'ы', '-.--', 'д', '-..', 'р', '.-.', 'ь', '-..-', 'е', '.', 'с', '...', 'э', '..-..', 'ж', '...-', 'т', '-', 'ю', '..--', 'з', '--..', 'у', '..-', 'я', '.-.-', 'и', '..', 'ф', '..-.', '_', '-...-', 'й', '.---', 'х', '....', 'к', '-.-', 'ц', '-.-.', 'л', '.-..', 'ч', '---.', 'ё', '.']\n"
     ]
    }
   ],
   "source": [
    "s = s.split()\n",
    "print(s)"
   ]
  },
  {
   "cell_type": "code",
   "execution_count": 49,
   "id": "62df916c-51b3-407b-a9f0-7bf5452c5049",
   "metadata": {},
   "outputs": [],
   "source": [
    "d = {}\n",
    "[d.setdefault(' ', s[i+1]) if s[i] == '_' else\n",
    " d.setdefault(s[i], s[i+1]) for i in range(0, len(s), 2)];"
   ]
  },
  {
   "cell_type": "code",
   "execution_count": 50,
   "id": "d9a04c91-4e75-474a-aa5a-c0120b7c8cc3",
   "metadata": {},
   "outputs": [
    {
     "name": "stdout",
     "output_type": "stream",
     "text": [
      "{'а': '.-', 'м': '--', 'ш': '----', 'б': '-...', 'н': '-.', 'щ': '--.-', 'в': '.--', 'о': '---', 'ъ': '--.--', 'г': '--.', 'п': '.--.', 'ы': '-.--', 'д': '-..', 'р': '.-.', 'ь': '-..-', 'е': '.', 'с': '...', 'э': '..-..', 'ж': '...-', 'т': '-', 'ю': '..--', 'з': '--..', 'у': '..-', 'я': '.-.-', 'и': '..', 'ф': '..-.', ' ': '-...-', 'й': '.---', 'х': '....', 'к': '-.-', 'ц': '-.-.', 'л': '.-..', 'ч': '---.', 'ё': '.'}\n"
     ]
    }
   ],
   "source": [
    "print(d)"
   ]
  },
  {
   "cell_type": "code",
   "execution_count": 51,
   "id": "6616443e-b07b-499c-afad-4b7526dd7ab4",
   "metadata": {},
   "outputs": [
    {
     "data": {
      "text/plain": [
       "'... . .-. --. . .--- -...- -... .- .-.. .- -.- .. .-. . .--'"
      ]
     },
     "execution_count": 51,
     "metadata": {},
     "output_type": "execute_result"
    }
   ],
   "source": [
    "string = 'Сергей Балакирев'.lower()\n",
    "string = ' '.join([d[word] for word in string])\n",
    "string"
   ]
  },
  {
   "cell_type": "markdown",
   "id": "5c7f6368-0eab-41f4-a97f-fe5f0d0586ec",
   "metadata": {},
   "source": [
    "Задание №2. Декодирование Морзе"
   ]
  },
  {
   "cell_type": "markdown",
   "id": "bfb051c7-c2e0-4c2b-81da-d313d5bc1bef",
   "metadata": {},
   "source": [
    "Полезный приём"
   ]
  },
  {
   "cell_type": "markdown",
   "id": "70cdad52-db92-4b09-8803-8aaba0221148",
   "metadata": {},
   "source": [
    "`{b: a for a, b in morze.items()}` \n",
    "- Позволяет поменять местами ключ и значение"
   ]
  },
  {
   "cell_type": "code",
   "execution_count": 52,
   "id": "4c46162d-0474-416e-b74a-fe5d87dca55a",
   "metadata": {},
   "outputs": [
    {
     "name": "stdout",
     "output_type": "stream",
     "text": [
      "все верно\n"
     ]
    }
   ],
   "source": [
    "# Вариант 1\n",
    "d = {'а': '.-', 'м': '--', 'ш': '----', 'б': '-...', 'н': '-.', 'щ': '--.-', 'в': '.--', 'о': '---', 'ъ': '--.--', 'г': '--.', 'п': '.--.', 'ы': '-.--', 'д': '-..', 'р': '.-.', 'ь': '-..-', 'е': '.', 'с': '...', 'э': '..-..', 'ж': '...-', 'т': '-', 'ю': '..--', 'з': '--..', 'у': '..-', 'я': '.-.-', 'и': '..', 'ф': '..-.', ' ': '-...-', 'й': '.---', 'х': '....', 'к': '-.-', 'ц': '-.-.', 'л': '.-..', 'ч': '---.', 'ё': '.'}\n",
    "del d['ё']\n",
    "line = '.-- ... . -...- .-- . .-. -. ---'\n",
    "string = line.split()\n",
    "ans = [[key for key, val in d.items() if val == code] for code in string]\n",
    "print(\"\".join([key for word in ans for key in word]))"
   ]
  },
  {
   "cell_type": "code",
   "execution_count": 53,
   "id": "048380ed-c231-4342-a5ef-bce51d290b98",
   "metadata": {},
   "outputs": [
    {
     "name": "stdout",
     "output_type": "stream",
     "text": [
      "все верно\n"
     ]
    }
   ],
   "source": [
    "# Вариант 2\n",
    "d = {'а': '.-', 'м': '--', 'ш': '----', 'б': '-...', 'н': '-.', 'щ': '--.-', 'в': '.--', 'о': '---', 'ъ': '--.--', 'г': '--.', 'п': '.--.', 'ы': '-.--', 'д': '-..', 'р': '.-.', 'ь': '-..-', 'е': '.', 'с': '...', 'э': '..-..', 'ж': '...-', 'т': '-', 'ю': '..--', 'з': '--..', 'у': '..-', 'я': '.-.-', 'и': '..', 'ф': '..-.', ' ': '-...-', 'й': '.---', 'х': '....', 'к': '-.-', 'ц': '-.-.', 'л': '.-..', 'ч': '---.', 'ё': '.'}\n",
    "del d['ё']\n",
    "line = '.-- ... . -...- .-- . .-. -. ---'\n",
    "string = line.split()\n",
    "d = {b: a for a, b in d.items()} # Отличие тут\n",
    "ans = [d[el] for el in string] # И тут\n",
    "print(''.join(ans))\n",
    "#print(\"\".join([key for word in ans for key in word]))"
   ]
  },
  {
   "cell_type": "markdown",
   "id": "7008ccf5-95b9-4379-a8e3-724951783358",
   "metadata": {},
   "source": [
    "Задание №3"
   ]
  },
  {
   "cell_type": "code",
   "execution_count": 54,
   "id": "f1974f65-860b-4509-abe4-f8c05d02b02c",
   "metadata": {},
   "outputs": [
    {
     "name": "stdout",
     "output_type": "stream",
     "text": [
      "8 11 -4 5 2 4\n"
     ]
    }
   ],
   "source": [
    "string = '8 11 -4 5 2 11 4 8'\n",
    "lst = list(map(int, string.split())) \n",
    "print(*list(dict.fromkeys(lst).keys()))"
   ]
  },
  {
   "cell_type": "markdown",
   "id": "2d87c9d0-46d2-4384-bef4-a5a0b8fc5838",
   "metadata": {},
   "source": [
    "Задание №4"
   ]
  },
  {
   "cell_type": "code",
   "execution_count": 55,
   "id": "644dfc0e-e943-416a-87ce-ce037468675e",
   "metadata": {},
   "outputs": [
    {
     "name": "stdout",
     "output_type": "stream",
     "text": [
      "3: Сергей\n",
      "5: Николай, Юлия\n",
      "4: Елена, Светлана\n",
      "7: Владимир\n"
     ]
    }
   ],
   "source": [
    "lst = ['3 Сергей', '5 Николай', '4 Елена', '7 Владимир', '5 Юлия', '4 Светлана']\n",
    "d = {}\n",
    "for el in lst:\n",
    "    key, val = el.split()\n",
    "    if key not in d:\n",
    "        d[key] = [val]\n",
    "    else:\n",
    "        d[key] += [val]\n",
    "\n",
    "[print(f'{key}: {', '.join(val)}') for key, val in d.items()];"
   ]
  },
  {
   "cell_type": "markdown",
   "id": "81203305-23e1-4b08-99fa-4f5a81c7c416",
   "metadata": {},
   "source": [
    "Задание №5"
   ]
  },
  {
   "cell_type": "code",
   "execution_count": 56,
   "id": "5a5b4992-9d0d-4fde-bfe6-94037e15b81c",
   "metadata": {},
   "outputs": [
    {
     "name": "stdout",
     "output_type": "stream",
     "text": [
      "палатка брезент удочка брюки пила карандаш спички "
     ]
    }
   ],
   "source": [
    "things = {'карандаш': 20, 'зеркальце': 100, 'зонт': 500, 'рубашка': 300, \n",
    "          'брюки': 1000, 'бумага': 200, 'молоток': 600, 'пила': 400, 'удочка': 1200,\n",
    "          'расческа': 40, 'котелок': 820, 'палатка': 5240, 'брезент': 2130, 'спички': 10}\n",
    "\n",
    "N = 10 * 1000#int(input())\n",
    "things = {key: val for key, val in\n",
    "          sorted(things.items(), reverse = True, key=lambda item: item[1])}\n",
    "\n",
    "summ = 0\n",
    "for key, val in things.items():\n",
    "    if N >= summ + val:\n",
    "        summ += val\n",
    "        print(key, end = ' ')\n",
    "    else:\n",
    "        continue"
   ]
  },
  {
   "cell_type": "markdown",
   "id": "c87db813-6254-4bbd-953f-82f091ba852b",
   "metadata": {},
   "source": [
    "### 6.3 Кортежи(tuple) и их методы"
   ]
  },
  {
   "cell_type": "markdown",
   "id": "b5f0c1b4-f0ac-41c8-a33d-977ec17f8730",
   "metadata": {},
   "source": [
    "- это упорядоченная, но неизменяемая коллекция произвольных данных(разные типы);\n",
    "\n",
    "#### Способ задания \n",
    "- в одну строку через запятую"
   ]
  },
  {
   "cell_type": "code",
   "execution_count": 57,
   "id": "db07ed7e-423e-4a4a-95db-8ec1232dac03",
   "metadata": {},
   "outputs": [
    {
     "data": {
      "text/plain": [
       "(1, 2)"
      ]
     },
     "execution_count": 57,
     "metadata": {},
     "output_type": "execute_result"
    }
   ],
   "source": [
    "a = 1, 2\n",
    "a"
   ]
  },
  {
   "cell_type": "code",
   "execution_count": 58,
   "id": "5932e4f8-11e0-429f-912b-88fd2069c305",
   "metadata": {},
   "outputs": [
    {
     "data": {
      "text/plain": [
       "tuple"
      ]
     },
     "execution_count": 58,
     "metadata": {},
     "output_type": "execute_result"
    }
   ],
   "source": [
    "type(a)"
   ]
  },
  {
   "cell_type": "code",
   "execution_count": 59,
   "id": "94354859-bb04-4b88-abcb-35acc070151b",
   "metadata": {},
   "outputs": [
    {
     "data": {
      "text/plain": [
       "((1,), tuple)"
      ]
     },
     "execution_count": 59,
     "metadata": {},
     "output_type": "execute_result"
    }
   ],
   "source": [
    "a = 1,\n",
    "a, type(a)"
   ]
  },
  {
   "cell_type": "markdown",
   "id": "dc9ab287-d1c4-4866-8d57-213080019b8d",
   "metadata": {},
   "source": [
    "- tuple - **неизменяемая коллекция**"
   ]
  },
  {
   "cell_type": "code",
   "execution_count": 60,
   "id": "53fe09ff-a73b-4a4d-b978-8d873c52ca04",
   "metadata": {},
   "outputs": [
    {
     "name": "stdout",
     "output_type": "stream",
     "text": [
      "Ошибка\n",
      "'tuple' object doesn't support item deletion\n"
     ]
    }
   ],
   "source": [
    "try:\n",
    "    del a[1]\n",
    "except TypeError as exc:\n",
    "    print(f'Ошибка\\n{exc}')"
   ]
  },
  {
   "cell_type": "markdown",
   "id": "37f6e4cb-4236-4203-b8ab-dc439ba3cac3",
   "metadata": {},
   "source": [
    "#### Распаковка кортежа"
   ]
  },
  {
   "cell_type": "code",
   "execution_count": 61,
   "id": "e1ad6adc-fcc3-40c9-a6fb-78ffb707a59c",
   "metadata": {},
   "outputs": [
    {
     "data": {
      "text/plain": [
       "(1, 2)"
      ]
     },
     "execution_count": 61,
     "metadata": {},
     "output_type": "execute_result"
    }
   ],
   "source": [
    "x, y = (1, 2, ) # множественное присваивание\n",
    "x, y"
   ]
  },
  {
   "cell_type": "code",
   "execution_count": 62,
   "id": "b4e542db-088b-4bc3-bde5-912c0a40b1f0",
   "metadata": {},
   "outputs": [
    {
     "data": {
      "text/plain": [
       "('r', 'a')"
      ]
     },
     "execution_count": 62,
     "metadata": {},
     "output_type": "execute_result"
    }
   ],
   "source": [
    "# распаковка строки\n",
    "x, y = 'ra'\n",
    "x, y"
   ]
  },
  {
   "cell_type": "markdown",
   "id": "e056b840-957a-4cfd-aabd-061f3fabf35b",
   "metadata": {},
   "source": [
    "#### Индексирование\n",
    "Сохраняется как в списках"
   ]
  },
  {
   "cell_type": "code",
   "execution_count": 63,
   "id": "524f274c-d447-4bc5-aa5c-2bf11c50429f",
   "metadata": {},
   "outputs": [
    {
     "data": {
      "text/plain": [
       "1"
      ]
     },
     "execution_count": 63,
     "metadata": {},
     "output_type": "execute_result"
    }
   ],
   "source": [
    "tu = (1, 2, 3, 4,)\n",
    "tu[0]"
   ]
  },
  {
   "cell_type": "markdown",
   "id": "93ba31f3-b8b4-4907-a2f7-40a103d8f378",
   "metadata": {},
   "source": [
    "Срезы"
   ]
  },
  {
   "cell_type": "markdown",
   "id": "e94c672f-5649-4414-a256-5b4a0495d384",
   "metadata": {},
   "source": [
    "Сохраняется функциональность, кроме..\n",
    "Если использовать синтаксис `b = a[:]`, то в отличии от списков копия не создаётся, это будет ссылка на тот же самый кортеж."
   ]
  },
  {
   "cell_type": "code",
   "execution_count": 64,
   "id": "dcf1ad8a-fb50-40f4-ae7c-10dec627cb76",
   "metadata": {},
   "outputs": [
    {
     "data": {
      "text/plain": [
       "True"
      ]
     },
     "execution_count": 64,
     "metadata": {},
     "output_type": "execute_result"
    }
   ],
   "source": [
    "to = tu[:]\n",
    "id(to) == id(tu)"
   ]
  },
  {
   "cell_type": "markdown",
   "id": "3ea75c5f-9c82-4533-bec2-753c81197ac7",
   "metadata": {},
   "source": [
    "#### Отличие от списков"
   ]
  },
  {
   "cell_type": "markdown",
   "id": "1b77589e-b447-48cb-8848-c7bab9377b23",
   "metadata": {},
   "source": [
    "- в словарях на месте ключей можно использовать *кортежи*(не изменяемый тип данных!), а *списки*(изменяемый!) нет;\n",
    "- кортежи занимают меньше памяти;"
   ]
  },
  {
   "cell_type": "code",
   "execution_count": 10,
   "id": "9fd37577-a8b1-4e6d-a080-ec0cfc38ae95",
   "metadata": {},
   "outputs": [
    {
     "data": {
      "text/plain": [
       "(2, 3, 4)"
      ]
     },
     "execution_count": 10,
     "metadata": {},
     "output_type": "execute_result"
    }
   ],
   "source": [
    "a = tuple([2, 3, 4])\n",
    "a"
   ]
  },
  {
   "cell_type": "code",
   "execution_count": 11,
   "id": "0e223d7e-be34-4554-8ca9-b63e1ef8facb",
   "metadata": {},
   "outputs": [
    {
     "data": {
      "text/plain": [
       "{1: 2, (2, 3, 4): 3}"
      ]
     },
     "execution_count": 11,
     "metadata": {},
     "output_type": "execute_result"
    }
   ],
   "source": [
    "d = dict([[1, 2], [a, 3]])\n",
    "d"
   ]
  },
  {
   "cell_type": "code",
   "execution_count": 3,
   "id": "33b5d12a-a1c9-4246-9bb5-0cf0628fafd8",
   "metadata": {},
   "outputs": [],
   "source": [
    "a[2][0] = 'dd'"
   ]
  },
  {
   "cell_type": "code",
   "execution_count": 4,
   "id": "a13c33cc-1bb5-49f3-9e11-f3c9a3f878cc",
   "metadata": {},
   "outputs": [
    {
     "data": {
      "text/plain": [
       "(2, 3, ['dd', 4])"
      ]
     },
     "execution_count": 4,
     "metadata": {},
     "output_type": "execute_result"
    }
   ],
   "source": [
    "a"
   ]
  },
  {
   "cell_type": "code",
   "execution_count": 65,
   "id": "56e8c383-ff53-479b-84ee-a40fe22018df",
   "metadata": {},
   "outputs": [],
   "source": [
    "lst = [1, 2, 3]\n",
    "a = (1, 2, 3)"
   ]
  },
  {
   "cell_type": "markdown",
   "id": "90f9fb45-232c-4867-acc7-00627de13aec",
   "metadata": {},
   "source": [
    "Полезный приём\\\n",
    "Посмотрим сколько места в памяти занимает, используем метод:\\\n",
    "`list.__sizeof__()` - возвращает размер списка в байтах\\\n"
   ]
  },
  {
   "cell_type": "code",
   "execution_count": 66,
   "id": "6a332607-103d-440b-9bc5-5fd7acde5adf",
   "metadata": {},
   "outputs": [
    {
     "data": {
      "text/plain": [
       "72"
      ]
     },
     "execution_count": 66,
     "metadata": {},
     "output_type": "execute_result"
    }
   ],
   "source": [
    "lst.__sizeof__()"
   ]
  },
  {
   "cell_type": "code",
   "execution_count": 67,
   "id": "2807198e-beb7-4109-9051-c6c5eb38d5a0",
   "metadata": {},
   "outputs": [
    {
     "data": {
      "text/plain": [
       "48"
      ]
     },
     "execution_count": 67,
     "metadata": {},
     "output_type": "execute_result"
    }
   ],
   "source": [
    "a.__sizeof__()"
   ]
  },
  {
   "cell_type": "markdown",
   "id": "03eb4811-17e2-4fff-8630-09e1feb33d16",
   "metadata": {},
   "source": [
    "Если мы работаем с упорядоченным, неизменяемым списком, то предпочтительнее использовать кортеж"
   ]
  },
  {
   "cell_type": "markdown",
   "id": "ea24da97-3822-49bb-8915-f1e4125d30b6",
   "metadata": {},
   "source": [
    "#### Создание пустого кортежа"
   ]
  },
  {
   "cell_type": "markdown",
   "id": "28d6c4a4-2e60-42b5-980d-276a2bdd64bd",
   "metadata": {},
   "source": [
    "- `a = ()`\n",
    "- `b = tuple()`"
   ]
  },
  {
   "cell_type": "code",
   "execution_count": 68,
   "id": "537ca93c-51c4-44ae-9ac9-a03b69fc64e7",
   "metadata": {},
   "outputs": [
    {
     "data": {
      "text/plain": [
       "()"
      ]
     },
     "execution_count": 68,
     "metadata": {},
     "output_type": "execute_result"
    }
   ],
   "source": [
    "a = ()\n",
    "a"
   ]
  },
  {
   "cell_type": "code",
   "execution_count": 69,
   "id": "fa05489a-3c3f-4165-8708-b9e5ab2f6713",
   "metadata": {},
   "outputs": [
    {
     "data": {
      "text/plain": [
       "()"
      ]
     },
     "execution_count": 69,
     "metadata": {},
     "output_type": "execute_result"
    }
   ],
   "source": [
    "b = tuple()\n",
    "b"
   ]
  },
  {
   "cell_type": "markdown",
   "id": "b7658bcc-1204-4a5c-b924-bf162fb3615a",
   "metadata": {},
   "source": [
    "#### Объединение кортежей\n",
    "- происходит с помощью `+`;"
   ]
  },
  {
   "cell_type": "markdown",
   "id": "b5f8a61d-711f-44d9-80b5-3b1db39f646c",
   "metadata": {},
   "source": [
    "Иногда возникает необходимость в объединении двух кортежей, пустого и нет"
   ]
  },
  {
   "cell_type": "code",
   "execution_count": 70,
   "id": "bd67ae79-6af5-4b3c-8637-fd19a7334bd6",
   "metadata": {},
   "outputs": [
    {
     "data": {
      "text/plain": [
       "(1,)"
      ]
     },
     "execution_count": 70,
     "metadata": {},
     "output_type": "execute_result"
    }
   ],
   "source": [
    "a = a + (1, )\n",
    "a"
   ]
  },
  {
   "cell_type": "code",
   "execution_count": 71,
   "id": "80a58e8b-5d8f-4371-9a6f-cdabddf2c0b5",
   "metadata": {},
   "outputs": [
    {
     "data": {
      "text/plain": [
       "(2, 3, 1)"
      ]
     },
     "execution_count": 71,
     "metadata": {},
     "output_type": "execute_result"
    }
   ],
   "source": [
    "a = (2, 3) + a\n",
    "a"
   ]
  },
  {
   "cell_type": "markdown",
   "id": "4c55c22b-2a23-4151-b3cf-3c8e7367cd52",
   "metadata": {},
   "source": [
    "Вложенный кортеж, с присваением `+=` и обязательно `,`\\\n",
    "a `+=` (('a', 'hello')`,`)"
   ]
  },
  {
   "cell_type": "code",
   "execution_count": 72,
   "id": "bbe45e25-9b45-4d23-99c3-93eb9ed757f5",
   "metadata": {},
   "outputs": [
    {
     "data": {
      "text/plain": [
       "(2, 3, 1, ('a', 'hello'))"
      ]
     },
     "execution_count": 72,
     "metadata": {},
     "output_type": "execute_result"
    }
   ],
   "source": [
    "a += (('a', 'hello'),)\n",
    "a"
   ]
  },
  {
   "cell_type": "markdown",
   "id": "e7e4ec1d-d25f-4788-a42f-8006e3f557d1",
   "metadata": {},
   "source": [
    "Дублирование кортежа"
   ]
  },
  {
   "cell_type": "code",
   "execution_count": 73,
   "id": "589dce70-af3b-476d-8e55-cb6e64e13577",
   "metadata": {},
   "outputs": [
    {
     "data": {
      "text/plain": [
       "(0, 0, 0, 0, 0, 0, 0, 0, 0, 0)"
      ]
     },
     "execution_count": 73,
     "metadata": {},
     "output_type": "execute_result"
    }
   ],
   "source": [
    "b = (0,) * 10\n",
    "b"
   ]
  },
  {
   "cell_type": "code",
   "execution_count": 74,
   "id": "f5843dc6-1b7b-4a29-a9ff-c2277cbe11fa",
   "metadata": {},
   "outputs": [
    {
     "name": "stdout",
     "output_type": "stream",
     "text": [
      "('hello', 'world', 'hello', 'world', 'hello', 'world', 'hello', 'world', 'hello', 'world')\n"
     ]
    }
   ],
   "source": [
    "b = ('hello', 'world') * 5\n",
    "print(b)"
   ]
  },
  {
   "cell_type": "markdown",
   "id": "8c172b71-c9c5-458d-8cb1-640c5e0993d9",
   "metadata": {},
   "source": [
    "#### Способ работы"
   ]
  },
  {
   "cell_type": "markdown",
   "id": "2305fcb0-78a3-41d8-9bd6-5a8ac42f7a8f",
   "metadata": {},
   "source": [
    "- в tuple можно передать любой итерируемый объект. Например список, тогда эта функция из этого итерируемого объекта, сделает кортеж с соответствующими значениями"
   ]
  },
  {
   "cell_type": "code",
   "execution_count": 75,
   "id": "8467908a-5998-4995-b629-cc052ed8e882",
   "metadata": {},
   "outputs": [
    {
     "data": {
      "text/plain": [
       "(1, 2, 3)"
      ]
     },
     "execution_count": 75,
     "metadata": {},
     "output_type": "execute_result"
    }
   ],
   "source": [
    "a = tuple([1, 2, 3])\n",
    "a"
   ]
  },
  {
   "cell_type": "code",
   "execution_count": 76,
   "id": "590bd650-6111-465f-867e-b59c6658e0ad",
   "metadata": {},
   "outputs": [
    {
     "data": {
      "text/plain": [
       "('h', 'e', 'l', 'l', 'o')"
      ]
     },
     "execution_count": 76,
     "metadata": {},
     "output_type": "execute_result"
    }
   ],
   "source": [
    "t = tuple('hello')\n",
    "t"
   ]
  },
  {
   "cell_type": "code",
   "execution_count": 77,
   "id": "6e49a983-0e1b-4a3d-87d8-b2264e7d1ca7",
   "metadata": {},
   "outputs": [
    {
     "data": {
      "text/plain": [
       "['h', 'e', 'l', 'l', 'o']"
      ]
     },
     "execution_count": 77,
     "metadata": {},
     "output_type": "execute_result"
    }
   ],
   "source": [
    "t = list(t)\n",
    "t"
   ]
  },
  {
   "cell_type": "code",
   "execution_count": 78,
   "id": "c5cbdc45-caea-4181-b6d4-44a830dc7ab6",
   "metadata": {},
   "outputs": [
    {
     "data": {
      "text/plain": [
       "('h', 'e', 'l', 'l', 'o')"
      ]
     },
     "execution_count": 78,
     "metadata": {},
     "output_type": "execute_result"
    }
   ],
   "source": [
    "t = tuple(t)\n",
    "t"
   ]
  },
  {
   "cell_type": "markdown",
   "id": "eeeff152-6e9a-4dc7-9d42-bdc94b37b79a",
   "metadata": {},
   "source": [
    "*Списки в кортежи, а кортежи в списки*"
   ]
  },
  {
   "cell_type": "markdown",
   "id": "a638cf1b-a195-4cb4-8036-0fa8667c9ffe",
   "metadata": {},
   "source": [
    "Содержимое tuple"
   ]
  },
  {
   "cell_type": "markdown",
   "id": "26c81a3a-53d4-4c19-ab20-7b433b844d3c",
   "metadata": {},
   "source": [
    "Если сам tuple является упорядоченной, неизменяемой коллекцией произвольных данных, то данные внутри tuple, если им дозволено, могут меняться"
   ]
  },
  {
   "cell_type": "code",
   "execution_count": 79,
   "id": "088a8677-6b3c-4090-bb8d-e396b3fc86ba",
   "metadata": {},
   "outputs": [
    {
     "data": {
      "text/plain": [
       "(True, [1, 2, 3, 4, 5], 'hello', 5, {'house': 'дом'})"
      ]
     },
     "execution_count": 79,
     "metadata": {},
     "output_type": "execute_result"
    }
   ],
   "source": [
    "a = (True, [1, 2, 3, 4, 5], 'hello', 5, {\"house\":\"дом\"})\n",
    "a"
   ]
  },
  {
   "cell_type": "code",
   "execution_count": 80,
   "id": "c16b8e99-b49e-43d0-b704-ee25a570eb1e",
   "metadata": {},
   "outputs": [
    {
     "data": {
      "text/plain": [
       "(True, [1, 2, 3, 4, 5, 0], 'hello', 5, {'house': 'дом'})"
      ]
     },
     "execution_count": 80,
     "metadata": {},
     "output_type": "execute_result"
    }
   ],
   "source": [
    "a[1].append(0)\n",
    "a"
   ]
  },
  {
   "cell_type": "code",
   "execution_count": 81,
   "id": "43104f00-1344-43ec-ab1b-60edb12ed259",
   "metadata": {},
   "outputs": [
    {
     "data": {
      "text/plain": [
       "(True, [1, 2, 3, 4, 5, 0], 'hello', 5, {'house': 'дом', 'black': 'чёрный'})"
      ]
     },
     "execution_count": 81,
     "metadata": {},
     "output_type": "execute_result"
    }
   ],
   "source": [
    "a[4]['black'] = 'чёрный'\n",
    "a"
   ]
  },
  {
   "cell_type": "markdown",
   "id": "216b47b8-0ddf-4751-90aa-4ea32a017075",
   "metadata": {},
   "source": [
    "значение `a[0]` поменять не получится, потому что это не изменяемый тип данных `bool`. Причина в том, что при попытке поменять мы будем пытаться создать ссылку на новый объект. А значение `a[1]` - это список, который можно изменить, не создавая новый объект в памяти и имея одну и ту же ссылку."
   ]
  },
  {
   "cell_type": "markdown",
   "id": "503449bf-5307-4fce-8ec4-5fa5c042ff09",
   "metadata": {},
   "source": [
    "#### Методы кортежей"
   ]
  },
  {
   "cell_type": "markdown",
   "id": "67aa803f-78e3-4bb4-990e-5693eb313a9b",
   "metadata": {},
   "source": [
    "- `tuple.count(значение)` - возвращает число найденных элементов с указанным значением;\n",
    "- `tuple.index(значение[, start[,stop]])` - возвращает индекс первого найденного элемента с указанным значением (start и stop - необязательные параметры, индекс начала и конца поиска)."
   ]
  },
  {
   "cell_type": "markdown",
   "id": "2655eb5a-126f-4657-9ebb-e0ce8a931117",
   "metadata": {},
   "source": [
    "#### Итоги"
   ]
  },
  {
   "cell_type": "markdown",
   "id": "ede94031-8910-498c-8949-fa6e22153400",
   "metadata": {},
   "source": [
    "- `[]` - обращение по индексу или срезу\n",
    "- `+` объединение двух кортежей\n",
    "- `*` дублирование элементов кортежа\n",
    "- `in` - проверка вхождения значения в кортеж\n",
    "\n",
    "- `tuple()` - создание кортежей\n",
    "- `len()` - длина кортежа\n",
    "- `tuple.count()` - число элементов с заданным значением\n",
    "- `tuple.index()` - индекс первого найденного элемента по значению\n",
    "    "
   ]
  },
  {
   "cell_type": "markdown",
   "id": "579c9e7d-d94e-4d85-9e29-c08c29547525",
   "metadata": {},
   "source": [
    "#### Практика"
   ]
  },
  {
   "cell_type": "markdown",
   "id": "91eb7134-91ea-4139-b7db-fe7981900941",
   "metadata": {},
   "source": [
    "Задание №1"
   ]
  },
  {
   "cell_type": "code",
   "execution_count": 82,
   "id": "b6edb274-46ec-4eb4-8fb6-59ec760d7299",
   "metadata": {},
   "outputs": [
    {
     "name": "stdout",
     "output_type": "stream",
     "text": [
      "(3.4, -56.7, 8, 11, -5, 2)\n"
     ]
    }
   ],
   "source": [
    "sample_input = '8 11 -5 2'\n",
    "t = (3.4, -56.7)\n",
    "tpl = tuple(map(int, sample_input.split()))\n",
    "t = t + tpl\n",
    "print(t)"
   ]
  },
  {
   "cell_type": "markdown",
   "id": "56baa7ef-337f-4275-9ba6-9aa098645a27",
   "metadata": {},
   "source": [
    "Задание №2"
   ]
  },
  {
   "cell_type": "code",
   "execution_count": 83,
   "id": "60cf1704-cae7-453c-8fc3-e929e3567e5c",
   "metadata": {},
   "outputs": [
    {
     "name": "stdout",
     "output_type": "stream",
     "text": [
      "Уфа Казань Самара Москва\n"
     ]
    }
   ],
   "source": [
    "sample_input = 'Уфа Казань Самара'\n",
    "string = sample_input.split()\n",
    "tpl = tuple(string)\n",
    "if 'Москва' not in tpl:\n",
    "    tpl += 'Москва',\n",
    "print(*tpl)"
   ]
  },
  {
   "cell_type": "markdown",
   "id": "f2e34c2c-7e54-45eb-a0ea-32b7fbb0cdf9",
   "metadata": {},
   "source": [
    "Задание №3"
   ]
  },
  {
   "cell_type": "code",
   "execution_count": null,
   "id": "d90d4737-2a95-4d57-ac7b-7983bd741bb2",
   "metadata": {},
   "outputs": [],
   "source": []
  },
  {
   "cell_type": "markdown",
   "id": "11655434-b656-47aa-b5ff-63209dd8488d",
   "metadata": {},
   "source": [
    "Задание №4"
   ]
  },
  {
   "cell_type": "code",
   "execution_count": null,
   "id": "2d7bf534-2933-4216-8811-cfd257fa4231",
   "metadata": {},
   "outputs": [],
   "source": []
  },
  {
   "cell_type": "markdown",
   "id": "2b2184a5-e9c8-4a36-baad-d3c1ea3ed35b",
   "metadata": {},
   "source": [
    "Задание №5"
   ]
  },
  {
   "cell_type": "code",
   "execution_count": null,
   "id": "358c0fa1-2c94-46c9-875a-05ee8c417933",
   "metadata": {},
   "outputs": [],
   "source": []
  },
  {
   "cell_type": "markdown",
   "id": "946cc21c-dadd-420d-a517-1d990fc8868d",
   "metadata": {},
   "source": [
    "Задание №6"
   ]
  },
  {
   "cell_type": "code",
   "execution_count": null,
   "id": "9784ace5-20aa-43ee-9abc-d090e3dbf315",
   "metadata": {},
   "outputs": [],
   "source": []
  },
  {
   "cell_type": "markdown",
   "id": "96d897a6-dd91-43fb-81e2-045f7512979e",
   "metadata": {},
   "source": [
    "Задание №7"
   ]
  },
  {
   "cell_type": "code",
   "execution_count": 84,
   "id": "5ae18675-dba4-4c88-95d6-1f93a6367f4c",
   "metadata": {},
   "outputs": [
    {
     "name": "stdin",
     "output_type": "stream",
     "text": [
      " 3\n"
     ]
    },
    {
     "name": "stdout",
     "output_type": "stream",
     "text": [
      "1 0 0\n",
      "0 1 0\n",
      "0 0 1\n"
     ]
    }
   ],
   "source": [
    "t = ((1, 0, 0, 0, 0),\n",
    "     (0, 1, 0, 0, 0),\n",
    "     (0, 0, 1, 0, 0),\n",
    "     (0, 0, 0, 1, 0),\n",
    "     (0, 0, 0, 0, 1))\n",
    "N = 3#int(input())\n",
    "t2 = ()\n",
    "for i in range(N):\n",
    "    line = ()\n",
    "    for j in range(N):\n",
    "        line += t[i][j],\n",
    "    t2 += line,\n",
    "    print(*line)\n"
   ]
  },
  {
   "cell_type": "code",
   "execution_count": 85,
   "id": "6559c406-ddfb-459d-b495-316b12918402",
   "metadata": {},
   "outputs": [
    {
     "name": "stdin",
     "output_type": "stream",
     "text": [
      " 3\n"
     ]
    }
   ],
   "source": [
    "t = ((1, 0, 0, 0, 0),\n",
    "     (0, 1, 0, 0, 0),\n",
    "     (0, 0, 1, 0, 0),\n",
    "     (0, 0, 0, 1, 0),\n",
    "     (0, 0, 0, 0, 1))\n",
    "N = 3#int(input())\n",
    "t2 = tuple((el[0:N]) for el in t[:N])"
   ]
  },
  {
   "cell_type": "code",
   "execution_count": 86,
   "id": "011d6d00-021c-4e6a-ba56-93d6804ef3d9",
   "metadata": {},
   "outputs": [
    {
     "name": "stdout",
     "output_type": "stream",
     "text": [
      "1 0 0\n",
      "0 1 0\n",
      "0 0 1\n"
     ]
    }
   ],
   "source": [
    "[print(*el) for el in t2];"
   ]
  },
  {
   "cell_type": "markdown",
   "id": "d159a5bf-f574-4f02-8a0e-9e4221b393b8",
   "metadata": {},
   "source": [
    "полезный приём\\\n",
    "познал при решении задачи\\\n",
    "можно в list_comprehention при переборе по элементам(а не индексам) указать срез.\n",
    "\n",
    "`[el for el in t[:N])`\n"
   ]
  },
  {
   "cell_type": "markdown",
   "id": "ee8ba2a2-2082-4dc5-ab7f-daa20407fce7",
   "metadata": {},
   "source": [
    "Задание №8"
   ]
  },
  {
   "cell_type": "code",
   "execution_count": null,
   "id": "797c878c-3090-4f4d-8ce6-fb011e09fc88",
   "metadata": {},
   "outputs": [],
   "source": []
  },
  {
   "cell_type": "markdown",
   "id": "54ab8be9-67d1-4a2b-a501-2a14810948cd",
   "metadata": {},
   "source": [
    "### 6.4 Множества (set) и их методы"
   ]
  },
  {
   "cell_type": "markdown",
   "id": "ff3b6a8a-0e3c-4511-859e-4180284726a8",
   "metadata": {},
   "source": [
    "Множество (set) \n",
    "- это неупорядоченная коллекция **уникальных** элементов.\n",
    "- это итерируемый объект;"
   ]
  },
  {
   "cell_type": "markdown",
   "id": "8ccbd930-50dc-4b28-9a16-a0808af8b50e",
   "metadata": {},
   "source": [
    "#### Способ задания"
   ]
  },
  {
   "cell_type": "markdown",
   "id": "ff96aefe-d4a2-4b82-95a2-3f9e1c17999c",
   "metadata": {},
   "source": [
    "- `{1, 2, 3, 'hello'}` - именно так, т.е. со значениями, потому что, если написать {} - это будет словарь;\n",
    "- `set()`;"
   ]
  },
  {
   "cell_type": "markdown",
   "id": "8223297c-5cda-474b-ab2f-b2ae40bdd8db",
   "metadata": {},
   "source": [
    "{1, 2, ..}"
   ]
  },
  {
   "cell_type": "code",
   "execution_count": 13,
   "id": "77306ded-b7bd-47ed-961e-6acf17d011cf",
   "metadata": {},
   "outputs": [
    {
     "data": {
      "text/plain": [
       "({1, 2, 3, 'hello'}, set)"
      ]
     },
     "execution_count": 13,
     "metadata": {},
     "output_type": "execute_result"
    }
   ],
   "source": [
    "a = {1, 2, 3, 'hello'}\n",
    "a, type(a)"
   ]
  },
  {
   "cell_type": "markdown",
   "id": "90adf6ce-51b8-4fba-984d-a92dfab8ce98",
   "metadata": {},
   "source": [
    "set()"
   ]
  },
  {
   "cell_type": "code",
   "execution_count": 16,
   "id": "4ab6a27a-4053-47df-bd3a-4d1c1ddc73b4",
   "metadata": {},
   "outputs": [
    {
     "data": {
      "text/plain": [
       "{1, 2, 3, 'hello'}"
      ]
     },
     "execution_count": 16,
     "metadata": {},
     "output_type": "execute_result"
    }
   ],
   "source": [
    "a = set([1, 2, 3, 'hello'])\n",
    "a"
   ]
  },
  {
   "cell_type": "code",
   "execution_count": 19,
   "id": "248d0475-56fd-4914-be60-0ca5fe3dcb54",
   "metadata": {},
   "outputs": [
    {
     "data": {
      "text/plain": [
       "{0, 1, 2, 3, 4, 5, 6}"
      ]
     },
     "execution_count": 19,
     "metadata": {},
     "output_type": "execute_result"
    }
   ],
   "source": [
    "set(range(7))"
   ]
  },
  {
   "cell_type": "code",
   "execution_count": 51,
   "id": "6a4d1a5a-4305-4b1a-8771-b78b307299b3",
   "metadata": {},
   "outputs": [
    {
     "data": {
      "text/plain": [
       "dict"
      ]
     },
     "execution_count": 51,
     "metadata": {},
     "output_type": "execute_result"
    }
   ],
   "source": [
    "type({})"
   ]
  },
  {
   "cell_type": "markdown",
   "id": "16362293-e374-4acd-9ed3-d0cf196ed71f",
   "metadata": {},
   "source": [
    "**Пример отбрасывания дублей**"
   ]
  },
  {
   "cell_type": "code",
   "execution_count": 14,
   "id": "6f4d2af0-5ed6-40d5-bde0-8300cf4e01e7",
   "metadata": {},
   "outputs": [
    {
     "data": {
      "text/plain": [
       "{1, 2, 3, 'hello'}"
      ]
     },
     "execution_count": 14,
     "metadata": {},
     "output_type": "execute_result"
    }
   ],
   "source": [
    "a = {1, 2, 3, 'hello', 2, 3, 'hello'}\n",
    "a"
   ]
  },
  {
   "cell_type": "code",
   "execution_count": 17,
   "id": "b915637a-9e30-48e7-a85e-5f84483fb495",
   "metadata": {},
   "outputs": [
    {
     "data": {
      "text/plain": [
       "{1, 2, 3, 'hello'}"
      ]
     },
     "execution_count": 17,
     "metadata": {},
     "output_type": "execute_result"
    }
   ],
   "source": [
    "a = set([1, 2, 3, 'hello', 2, 3, 'hello'])\n",
    "a"
   ]
  },
  {
   "cell_type": "code",
   "execution_count": 18,
   "id": "425b437c-6ab0-4b13-9de0-1dc5b08b88db",
   "metadata": {},
   "outputs": [
    {
     "data": {
      "text/plain": [
       "{'а', 'б', 'д', 'к', 'р'}"
      ]
     },
     "execution_count": 18,
     "metadata": {},
     "output_type": "execute_result"
    }
   ],
   "source": [
    "set('абракадабра')"
   ]
  },
  {
   "cell_type": "markdown",
   "id": "4a3e312a-29b2-446b-b815-abd5981a72a2",
   "metadata": {},
   "source": [
    "В множествах **можно** использовать \n",
    "\n",
    "\n",
    "|Типы|\n",
    "|:---:|\n",
    "| числа |\n",
    "| булевы значения |\n",
    "| строки |\n",
    "| кортежи |\n",
    "\n",
    "Т.е. **Не изменяемые типы данных**\n",
    "\n",
    "Использовать **нельзя**\n",
    "\n",
    "|Типы|\n",
    "|:---:|\n",
    "| списки |\n",
    "| словари |\n",
    "| другие множества |\n"
   ]
  },
  {
   "cell_type": "markdown",
   "id": "35d5121d-732e-4fff-9220-332286028505",
   "metadata": {},
   "source": [
    "#### Не упорядоченная коллекция"
   ]
  },
  {
   "cell_type": "code",
   "execution_count": 22,
   "id": "ffc755d1-1148-4bee-8713-08b915bb98f7",
   "metadata": {},
   "outputs": [
    {
     "data": {
      "text/plain": [
       "{'a', 'b', 'd', 'k', 'r'}"
      ]
     },
     "execution_count": 22,
     "metadata": {},
     "output_type": "execute_result"
    }
   ],
   "source": [
    "b = set('abrakadabra')\n",
    "b"
   ]
  },
  {
   "cell_type": "code",
   "execution_count": 24,
   "id": "f7024f05-8e5c-4767-82e9-2dea405ed3ad",
   "metadata": {},
   "outputs": [
    {
     "name": "stdout",
     "output_type": "stream",
     "text": [
      "Ошибка:\n",
      "'set' object is not subscriptable\n"
     ]
    }
   ],
   "source": [
    "try:\n",
    "    b[0]\n",
    "except TypeError as err:\n",
    "    print(f'Ошибка:\\n{err}')\n",
    "    "
   ]
  },
  {
   "cell_type": "markdown",
   "id": "ab1d59bc-e9ab-45df-b060-ad2ce0716d25",
   "metadata": {},
   "source": [
    "#### Функциональное применение"
   ]
  },
  {
   "cell_type": "markdown",
   "id": "8de2bf5c-614b-4391-bdaf-fe4c926b9b7c",
   "metadata": {},
   "source": [
    "- удаление дубликатов;\n",
    "- "
   ]
  },
  {
   "cell_type": "code",
   "execution_count": 25,
   "id": "a18b3fcb-4e04-40f4-b86d-d2d55fd22e49",
   "metadata": {},
   "outputs": [
    {
     "data": {
      "text/plain": [
       "{'Калуга', 'Краснодар', 'Москва', 'Тюмень', 'Ульяновск'}"
      ]
     },
     "execution_count": 25,
     "metadata": {},
     "output_type": "execute_result"
    }
   ],
   "source": [
    "cities = ['Калуга', 'Краснодар', 'Тюмень', 'Ульяновск',\n",
    "          'Москва', 'Тюмень', 'Калуга', 'Ульяновск']\n",
    "set(cities)"
   ]
  },
  {
   "cell_type": "code",
   "execution_count": 27,
   "id": "84c2b4ae-68ab-4fd4-931a-6d261747a0c5",
   "metadata": {},
   "outputs": [
    {
     "data": {
      "text/plain": [
       "'Ульяновск'"
      ]
     },
     "execution_count": 27,
     "metadata": {},
     "output_type": "execute_result"
    }
   ],
   "source": [
    "q = iter(set(cities))\n",
    "next(q)\n"
   ]
  },
  {
   "cell_type": "code",
   "execution_count": 28,
   "id": "49f58bb2-ed0e-4c7f-a4be-4fdfcefb525e",
   "metadata": {},
   "outputs": [
    {
     "data": {
      "text/plain": [
       "'Тюмень'"
      ]
     },
     "execution_count": 28,
     "metadata": {},
     "output_type": "execute_result"
    }
   ],
   "source": [
    "next(q)"
   ]
  },
  {
   "cell_type": "code",
   "execution_count": 29,
   "id": "35d4c84d-ae80-4fa1-8b46-0cc40012e511",
   "metadata": {},
   "outputs": [
    {
     "data": {
      "text/plain": [
       "True"
      ]
     },
     "execution_count": 29,
     "metadata": {},
     "output_type": "execute_result"
    }
   ],
   "source": [
    "'Москва' in q"
   ]
  },
  {
   "cell_type": "markdown",
   "id": "916335b2-70c7-4d03-abbe-7d5fa6bb9625",
   "metadata": {},
   "source": [
    "#### Методы работы с множествами"
   ]
  },
  {
   "cell_type": "code",
   "execution_count": 30,
   "id": "97ed62f4-5710-4402-b80f-0c0e19b00804",
   "metadata": {},
   "outputs": [
    {
     "data": {
      "text/plain": [
       "set()"
      ]
     },
     "execution_count": 30,
     "metadata": {},
     "output_type": "execute_result"
    }
   ],
   "source": [
    "b = set()\n",
    "b"
   ]
  },
  {
   "cell_type": "markdown",
   "id": "c43fbff0-081c-4afe-9aa6-c6b1200bcd56",
   "metadata": {},
   "source": [
    "**Добавление нового элемента**\n",
    "- `set.add()`"
   ]
  },
  {
   "cell_type": "code",
   "execution_count": 31,
   "id": "87d544bf-e9af-431d-bf24-b6bb495862a7",
   "metadata": {},
   "outputs": [
    {
     "data": {
      "text/plain": [
       "{7}"
      ]
     },
     "execution_count": 31,
     "metadata": {},
     "output_type": "execute_result"
    }
   ],
   "source": [
    "b.add(7)\n",
    "b"
   ]
  },
  {
   "cell_type": "markdown",
   "id": "31d74c08-324d-4629-aec1-26c00e256692",
   "metadata": {},
   "source": [
    "**Добавление нескольких значений**\n",
    "- `set.update()` нужно добавить любой итерируемый объект, который содержит несколько элементов"
   ]
  },
  {
   "cell_type": "code",
   "execution_count": 32,
   "id": "ade94c67-980a-4c5c-95c7-312b628f07de",
   "metadata": {},
   "outputs": [
    {
     "data": {
      "text/plain": [
       "{(1, 2), 7, 'a', 'b'}"
      ]
     },
     "execution_count": 32,
     "metadata": {},
     "output_type": "execute_result"
    }
   ],
   "source": [
    "b.update(['a', 'b', (1, 2)])\n",
    "b"
   ]
  },
  {
   "cell_type": "code",
   "execution_count": 33,
   "id": "5ee0ff6e-334d-4c3d-9316-b53c42fde3dd",
   "metadata": {},
   "outputs": [
    {
     "data": {
      "text/plain": [
       "{(1, 2), 7, 'a', 'b', 'd', 'k', 'r'}"
      ]
     },
     "execution_count": 33,
     "metadata": {},
     "output_type": "execute_result"
    }
   ],
   "source": [
    "b.update('abrakadabra')\n",
    "b"
   ]
  },
  {
   "cell_type": "markdown",
   "id": "04eb6f95-b4c8-4ac8-a845-78fb541816f5",
   "metadata": {},
   "source": [
    "**Удаление значения из множества**\n",
    "- `set.discard()`"
   ]
  },
  {
   "cell_type": "markdown",
   "id": "2f6fb7d0-099d-413d-83da-2a3181c61aca",
   "metadata": {},
   "source": [
    "Попробуем удалить то, чего нет с помощью этого метода"
   ]
  },
  {
   "cell_type": "code",
   "execution_count": 34,
   "id": "e7fd883f-bf3b-460c-8ca3-273019dedf2e",
   "metadata": {},
   "outputs": [
    {
     "data": {
      "text/plain": [
       "{(1, 2), 7, 'a', 'b', 'd', 'k', 'r'}"
      ]
     },
     "execution_count": 34,
     "metadata": {},
     "output_type": "execute_result"
    }
   ],
   "source": [
    "b.discard(2)\n",
    "b"
   ]
  },
  {
   "cell_type": "markdown",
   "id": "d01e4608-9435-45cd-95c6-ee280bbc5425",
   "metadata": {},
   "source": [
    "*Никаких ошибок*"
   ]
  },
  {
   "cell_type": "markdown",
   "id": "e8f84356-6051-45bf-a84a-cb6dc918ed59",
   "metadata": {},
   "source": [
    "Удалим 7"
   ]
  },
  {
   "cell_type": "code",
   "execution_count": 35,
   "id": "8fd0ab95-f5c4-4d77-852e-6472b8be9916",
   "metadata": {},
   "outputs": [
    {
     "data": {
      "text/plain": [
       "{(1, 2), 'a', 'b', 'd', 'k', 'r'}"
      ]
     },
     "execution_count": 35,
     "metadata": {},
     "output_type": "execute_result"
    }
   ],
   "source": [
    "b.discard(7)\n",
    "b"
   ]
  },
  {
   "cell_type": "markdown",
   "id": "ccdf0109-36b5-4cb8-8131-27f7a071f537",
   "metadata": {},
   "source": [
    "**Другой метод удаления**\n",
    "- `set.remove()`"
   ]
  },
  {
   "cell_type": "code",
   "execution_count": 38,
   "id": "bf39a28f-88e5-4a8a-91c9-09221a96750b",
   "metadata": {},
   "outputs": [
    {
     "name": "stdout",
     "output_type": "stream",
     "text": [
      "Ошибка\n",
      "KeyError: 3\n"
     ]
    }
   ],
   "source": [
    "try:\n",
    "    b.remove(3)\n",
    "except KeyError as er:\n",
    "    print(f'Ошибка\\nKeyError: {er}')"
   ]
  },
  {
   "cell_type": "markdown",
   "id": "f7b02bb4-afda-4cff-8bb8-8cf8f8ee0f98",
   "metadata": {},
   "source": [
    "Отличия методов\n",
    "- `set.discard()` - ошибку не возвращает;\n",
    "- `set.remove()` - возвращает ошибку;"
   ]
  },
  {
   "cell_type": "markdown",
   "id": "9c5791f5-7de9-4d8b-b4d5-7875be5cde76",
   "metadata": {},
   "source": [
    "**Ещё один метод**\n",
    "- `b.pop()` удаляет произвольный элемент из множества и его возвращает;"
   ]
  },
  {
   "cell_type": "code",
   "execution_count": 39,
   "id": "d24686e6-120e-4c69-bba2-963a1b05f038",
   "metadata": {},
   "outputs": [
    {
     "data": {
      "text/plain": [
       "(1, 2)"
      ]
     },
     "execution_count": 39,
     "metadata": {},
     "output_type": "execute_result"
    }
   ],
   "source": [
    "b.pop()"
   ]
  },
  {
   "cell_type": "code",
   "execution_count": 40,
   "id": "804bfb79-b005-4289-b02a-cb4a294c4636",
   "metadata": {},
   "outputs": [
    {
     "name": "stdout",
     "output_type": "stream",
     "text": [
      "Ошибка\n",
      "KeyError: 'pop from an empty set'\n"
     ]
    }
   ],
   "source": [
    "a = set()\n",
    "try:\n",
    "    a.pop()\n",
    "except KeyError as er:\n",
    "    print(f'Ошибка\\nKeyError: {er}')"
   ]
  },
  {
   "cell_type": "markdown",
   "id": "c35b43f7-96b4-474e-895e-4bfd56562af9",
   "metadata": {},
   "source": [
    "**Очистка множества**\n",
    "- `b.clear()` удаление всех элементов их множества;"
   ]
  },
  {
   "cell_type": "code",
   "execution_count": 42,
   "id": "742b196b-fe91-41d5-8b0b-b8646c3cf254",
   "metadata": {},
   "outputs": [
    {
     "data": {
      "text/plain": [
       "{'a', 'b', 'd', 'k', 'r'}"
      ]
     },
     "execution_count": 42,
     "metadata": {},
     "output_type": "execute_result"
    }
   ],
   "source": [
    "b"
   ]
  },
  {
   "cell_type": "code",
   "execution_count": 43,
   "id": "07ad493a-d496-4235-a1f0-8e788f8425ea",
   "metadata": {},
   "outputs": [
    {
     "data": {
      "text/plain": [
       "set()"
      ]
     },
     "execution_count": 43,
     "metadata": {},
     "output_type": "execute_result"
    }
   ],
   "source": [
    "b.clear()\n",
    "b"
   ]
  },
  {
   "cell_type": "markdown",
   "id": "0f8e7431-40ec-40c0-aff7-50b1499041cc",
   "metadata": {},
   "source": [
    "#### Итоги"
   ]
  },
  {
   "cell_type": "markdown",
   "id": "c88a1f84-a4fb-4ec5-b4b5-57b3f33c9e33",
   "metadata": {},
   "source": [
    "Множество (set) - это неупорядоченная коллекция уникальных элементов.\n",
    "\n",
    "Множество - изменяемый тип данных\n",
    "\n",
    "| Метод | Описание |\n",
    "|:---:|:----|\n",
    "| `set()` | создание множества |\n",
    "| `len()` | число элементов в множестве |\n",
    "| `in` | проверка вхождения элемента в множество |\n",
    "| `set.add()` | добавление 1 значения в множество |\n",
    "| `set.update()` | добавление нескольких значений в множество |\n",
    "| `set.discard()` | удаление элемента из множества без ошибки в случаи его отсутствия |\n",
    "| `set.remove()` | удаление элемента из множества с ошибкой в случае его отсутствия |\n",
    "| `set.pop()` | удаление и возвращение произвольного удаленного значения с ошибкой в случае его отсутствия |\n",
    "| `set.clear()` | очистка множества (удаление всех элементов) |\n"
   ]
  },
  {
   "cell_type": "code",
   "execution_count": 45,
   "id": "da7ff9e8-62fc-4cf5-94ab-bdb9b8e0712d",
   "metadata": {},
   "outputs": [
    {
     "name": "stdin",
     "output_type": "stream",
     "text": [
      " -5.1 -3.0 7.6 10.3 -4.6 2.78\n"
     ]
    },
    {
     "name": "stdout",
     "output_type": "stream",
     "text": [
      "-5.1 -4.6 -3.0 2.78 7.6 10.3\n"
     ]
    }
   ],
   "source": [
    "s = set(map(float, input().split()))\n",
    "print(*sorted(s))\n"
   ]
  },
  {
   "cell_type": "code",
   "execution_count": null,
   "id": "5acd3088-1678-4b73-ba5e-273a9e13b677",
   "metadata": {},
   "outputs": [],
   "source": [
    "s = set(input().lower().split())\n",
    "print(len(s))"
   ]
  },
  {
   "cell_type": "code",
   "execution_count": 50,
   "id": "957d90c6-23f5-4296-8511-5da71b2acfa0",
   "metadata": {},
   "outputs": [
    {
     "name": "stdin",
     "output_type": "stream",
     "text": [
      " Python - best language!\n"
     ]
    },
    {
     "name": "stdout",
     "output_type": "stream",
     "text": [
      "НЕТ\n"
     ]
    }
   ],
   "source": [
    "num = '0 1 2 3 4 5 6 7 8 9'.split()\n",
    "s = set([i for i in input().lower() if i in num])\n",
    "print(*sorted(s)) if len(s) > 0 else print('НЕТ')"
   ]
  },
  {
   "cell_type": "markdown",
   "id": "cf7fbd94-a5bd-479c-9612-277887f02005",
   "metadata": {},
   "source": [
    "полезный приём\n",
    "- `lst_in = iter(input, 'стоп-слово')`\\\n",
    "`iter()` - Такая конструкция позволяет считывать в коллекцию строки до тех пор пока не встретит стоп-слово, в нашем случае q.\n",
    "Обратите внимание, что input тут пишется без скобок.\\\n",
    "Первый аргумент - это имя функции, которую iter будет запускать.\\\n",
    "Второй аргумент - это стоп-слово, значение после которого iter перестанет запускать input;\\\n",
    "[Документация](https://docs.python.org/3/library/functions.html#iter)\n"
   ]
  },
  {
   "cell_type": "code",
   "execution_count": null,
   "id": "6f4c2bdb-59aa-45cc-97ce-28d819283ae6",
   "metadata": {},
   "outputs": [],
   "source": [
    "string = ['Уфа', 'Москва', 'Тверь', 'Екатеринбург', 'Томск', 'Уфа', 'Москва']\n",
    "lst_in = iter(input, 'Москва')"
   ]
  },
  {
   "cell_type": "code",
   "execution_count": null,
   "id": "37465095-bd3d-432f-a1eb-1a672ee3b178",
   "metadata": {},
   "outputs": [],
   "source": [
    "next(lst_in)"
   ]
  },
  {
   "cell_type": "code",
   "execution_count": null,
   "id": "2717f6f1-25e0-485c-8020-1139a9e4eff0",
   "metadata": {},
   "outputs": [],
   "source": []
  }
 ],
 "metadata": {
  "kernelspec": {
   "display_name": "Python 3 (ipykernel)",
   "language": "python",
   "name": "python3"
  },
  "language_info": {
   "codemirror_mode": {
    "name": "ipython",
    "version": 3
   },
   "file_extension": ".py",
   "mimetype": "text/x-python",
   "name": "python",
   "nbconvert_exporter": "python",
   "pygments_lexer": "ipython3",
   "version": "3.12.1"
  }
 },
 "nbformat": 4,
 "nbformat_minor": 5
}
